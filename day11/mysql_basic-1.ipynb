{
 "cells": [
  {
   "cell_type": "markdown",
   "metadata": {},
   "source": [
    "# MySQL basic\n",
    "\n",
    "\n",
    "```\n",
    "pip install pymysql\n",
    "```\n",
    "\n",
    "#### sha 에러\n",
    "\n",
    "```\n",
    "RuntimeError: 'cryptography' package is required for sha256_password or caching_sha2_password auth methods\n",
    "```\n",
    "\n",
    " - https://stackoverflow.com/questions/54477829/cryptography-is-required-for-sha256-password-or-caching-sha2-password\n",
    "\n",
    "다음 패키지 설치후 재시작.\n",
    "\n",
    "```\n",
    "pip install cryptography\n",
    "pip install PyMySQL[rsa]\n",
    "```\n",
    "\n",
    "\n",
    "\n",
    "\n"
   ]
  },
  {
   "cell_type": "markdown",
   "metadata": {},
   "source": [
    "## mysql 샘플 데이터베이스\n",
    "\n",
    "강의중 실습한 userspace 스키마의 book, customer, orders 테이블 데이터를 사용.\n",
    " - bookstore_demo.sql\n",
    " "
   ]
  },
  {
   "cell_type": "code",
   "execution_count": 2,
   "metadata": {},
   "outputs": [],
   "source": [
    "import pymysql\n",
    "\n",
    "# MySQL Connection 연결\n",
    "conn = pymysql.connect(host='localhost', user='user1', password='ted0014758',\n",
    "                       db='bookstore', charset='utf8')\n",
    "\n",
    "# Connection 으로부터 Cursor 생성\n",
    "curs = conn.cursor()"
   ]
  },
  {
   "cell_type": "code",
   "execution_count": 3,
   "metadata": {},
   "outputs": [
    {
     "data": {
      "text/plain": [
       "10"
      ]
     },
     "execution_count": 3,
     "metadata": {},
     "output_type": "execute_result"
    }
   ],
   "source": [
    "# SQL문 실행\n",
    "sql = \"select * from book\"\n",
    "curs.execute(sql)"
   ]
  },
  {
   "cell_type": "code",
   "execution_count": 4,
   "metadata": {},
   "outputs": [
    {
     "data": {
      "text/plain": [
       "((1, '철락의 역사', '정론사', 7000),\n",
       " (2, '모델링 시작하기', '한비사', 13000),\n",
       " (3, 'SQL 이해', '새미디어', 22000),\n",
       " (4, '텐서플로우 시작', '새미디어', 35000),\n",
       " (5, '인공지능 개론', '정론사', 8000),\n",
       " (6, '파이썬 고급', '정론사', 6000),\n",
       " (7, '객체지향 Java', '튜링사', 20000),\n",
       " (8, 'C++ 중급', '튜링사', 13000),\n",
       " (9, 'Secure 코딩', '정보사', 7500),\n",
       " (10, 'Machine learning', 'Pearson', 13000))"
      ]
     },
     "execution_count": 4,
     "metadata": {},
     "output_type": "execute_result"
    }
   ],
   "source": [
    "# 데이타 Fetch\n",
    "rows = curs.fetchall()\n",
    "rows"
   ]
  },
  {
   "cell_type": "code",
   "execution_count": 5,
   "metadata": {},
   "outputs": [
    {
     "name": "stdout",
     "output_type": "stream",
     "text": [
      "(1, '박지성', '영국 맨체스타', '000-5000-0001')\n",
      "(2, '김연아', '대한민국 서울', '000-6000-0001')\n",
      "(3, '장미란', '대한민국 강원도', '000-7000-0001')\n",
      "(4, '추신수', '미국 텍사스', '000-8000-0001')\n",
      "(5, '박세리', '대한민국 부산', None)\n"
     ]
    }
   ],
   "source": [
    "# Connection 으로부터 Cursor 생성\n",
    "curs = conn.cursor()\n",
    "\n",
    "# 고객 정보\n",
    "# SQL문 실행\n",
    "sql = \"select * from customer\"\n",
    "curs.execute(sql)\n",
    "\n",
    "# 데이타 Fetch\n",
    "while True:\n",
    "    row = curs.fetchone()\n",
    "    if row == None:\n",
    "        break\n",
    "    print(f'{row[0], row[1], row[2], row[3]}')"
   ]
  },
  {
   "cell_type": "code",
   "execution_count": 6,
   "metadata": {},
   "outputs": [
    {
     "data": {
      "text/plain": [
       "((Decimal('33000'),),)"
      ]
     },
     "execution_count": 6,
     "metadata": {},
     "output_type": "execute_result"
    }
   ],
   "source": [
    "curs.execute(\"SELECT SUM(saleprice) FROM Customer, Orders\\\n",
    "\tWHERE Customer.custid=Orders.custid\\\n",
    "\tAND Customer.name LIKE '추신수'\")\n",
    "rows = curs.fetchall()\n",
    "rows"
   ]
  },
  {
   "cell_type": "code",
   "execution_count": 14,
   "metadata": {},
   "outputs": [],
   "source": [
    "# Connection 닫기\n",
    "\n",
    "conn.close()"
   ]
  },
  {
   "cell_type": "markdown",
   "metadata": {},
   "source": [
    "### Parameterized Query\n",
    "\n",
    "실제 업무에서 대부분의 SQL 문장에는 동적으로 컬럼 데이타값을 집어 넣어야 하는 경우가 많은데, 이때 Parameterized Query를 사용한다. SQLite에서는 두 가지 방식으로 Parameterized Query를 만들 수 있다. \n",
    " - `?` (물음표)를 Placeholder로 사용하는 방식\n",
    " - `:Id` 처럼 파라미터 이름을 명식하는 Named Placeholder 방식\n",
    " \n",
    "동적 SQL문을 구성하기 위해선 파라미터값이 들어가는 위치에 Parameter Placeholder를 넣고, execute() 메서드의 두번째 파라미터에 실제 파라미터값들의 Tuple을 넣어 주면 된다. \n",
    "\n",
    "Parameter Placeholder에서는 문자열이건 숫자이건 모두 ? (혹은 Named Placeholder) 를 사용하며, 문자열이라도 Placeholder를 인용부호로 둘러싸지 않는다. 또한 한가지 주의할 점은 Placeholder는 컬럼값을 대치할 때만 사용될 수 있다. 즉 테이블이나 기타 문장에 Placeholder 를 사용할 수 없다.\n"
   ]
  },
  {
   "cell_type": "markdown",
   "metadata": {},
   "source": [
    "#### Parameter Placeholder\n",
    "\n",
    "동적 SQL문을 구성하기 위해서 파라미터값이 들어가는 위치에 Parameter Placeholder인 %s (MySql의 경우)를 넣고, execute() 메서드의 두번째 파라미터에 실제 파라미터값들의 Tuple을 넣어 주면 된다.\n",
    "\n",
    "Parameter Placeholder에서는 문자열이건 숫자이건 모두 %s 를 사용하며, 문자열이라도 %s를 인용부호로 둘러싸지 않는다. 또한 한가지 주의할 점은 Placeholder는 컬럼값을 대치할 때만 사용될 수 있다. 즉 테이블이나 기타 문장에 Placeholder 를 사용할 수 없다."
   ]
  },
  {
   "cell_type": "code",
   "execution_count": 15,
   "metadata": {},
   "outputs": [
    {
     "data": {
      "text/plain": [
       "((1, '철락의 역사'),\n",
       " (2, '모델링 시작하기'),\n",
       " (3, 'SQL 이해'),\n",
       " (4, '텐서플로우 시작'),\n",
       " (5, '인공지능 개론'),\n",
       " (6, '파이썬 고급'),\n",
       " (7, '객체지향 Java'),\n",
       " (8, 'C++ 중급'),\n",
       " (9, 'Secure 코딩'),\n",
       " (10, 'Machine learning'))"
      ]
     },
     "execution_count": 15,
     "metadata": {},
     "output_type": "execute_result"
    }
   ],
   "source": [
    "# MySQL Connection 연결\n",
    "conn = pymysql.connect(host='localhost', user='user1', password='ted0014758',\n",
    "                       db='bookstore', charset='utf8')\n",
    " \n",
    "# Connection Cursor 생성\n",
    "curs = conn.cursor()\n",
    "\n",
    "# book 도서번호가 1~10 사이 : 비교식\n",
    "sql = \"SELECT bookid, bookname FROM Book WHERE bookid >= %s and bookid <= %s\"\n",
    "\n",
    "# 데이타 Fetch\n",
    "curs.execute(sql, (1,10))\n",
    "\n",
    "# 데이타 Fetch\n",
    "rows = curs.fetchall()\n",
    "rows"
   ]
  },
  {
   "cell_type": "code",
   "execution_count": 17,
   "metadata": {},
   "outputs": [
    {
     "name": "stdout",
     "output_type": "stream",
     "text": [
      "(('추신수', 2),)\n",
      "(('김연아', 2),)\n",
      "(('박지성', 3),)\n"
     ]
    }
   ],
   "source": [
    "customers = ['추신수', '김연아', '박지성']\n",
    "for i in customers:\n",
    "\n",
    "    # book 도서번호가 1~10 사이 : 비교식\n",
    "    sql = \"SELECT Customer.name, COUNT(*) FROM Customer, Orders \\\n",
    "    WHERE Customer.custid=Orders.custid \\\n",
    "    AND Customer.name LIKE %s;\"\n",
    "\n",
    "    # 데이타 Fetch\n",
    "    curs.execute(sql, i)\n",
    "\n",
    "    # 데이타 Fetch\n",
    "    rows = curs.fetchall()\n",
    "    print(rows)"
   ]
  },
  {
   "cell_type": "code",
   "execution_count": 23,
   "metadata": {},
   "outputs": [
    {
     "name": "stdout",
     "output_type": "stream",
     "text": [
      "(1, '철락의 역사')\n",
      "(2, '모델링 시작하기')\n",
      "(3, 'SQL 이해')\n",
      "(4, '텐서플로우 시작')\n",
      "(5, '인공지능 개론')\n",
      "(6, '파이썬 고급')\n",
      "(7, '객체지향 Java')\n",
      "(8, 'C++ 중급')\n",
      "(9, 'Secure 코딩')\n",
      "(10, 'Machine learning')\n"
     ]
    }
   ],
   "source": [
    "# row 탐색\n",
    "\n",
    "\n",
    "# Connection 닫기\n"
   ]
  },
  {
   "cell_type": "markdown",
   "metadata": {},
   "source": [
    "#### Dictionary 커서\n",
    "\n",
    "cursor() 메서드는 디폴트인 Array based cursor 를 사용한다. 디폴트 Array based cursor는 Row의 결과값을 배열로 (PyMyMsql에서 정확히는 튜플) 반환한다. Row 결과를 Dictionary 형태로 리턴하도록 하는 것이 Dictionary based cursor 이고, cursor 생성시 DictCursor 옵션 사용한다.\n",
    "\n",
    "```python\n",
    "curs = conn.cursor(pymysql.cursors.DictCursor)\n",
    "```\n"
   ]
  },
  {
   "cell_type": "code",
   "execution_count": 8,
   "metadata": {},
   "outputs": [
    {
     "data": {
      "text/plain": [
       "[{'bookid': 1, 'bookname': '철락의 역사'}, {'bookid': 2, 'bookname': '모델링 시작하기'}]"
      ]
     },
     "execution_count": 8,
     "metadata": {},
     "output_type": "execute_result"
    }
   ],
   "source": [
    "# MySQL Connection 연결\n",
    "# MySQL Connection 연결\n",
    "conn = pymysql.connect(host='localhost', user='user1', password='ted0014758',\n",
    "                       db='bookstore', charset='utf8')\n",
    " \n",
    "# Connection Cursor 생성\n",
    "curs = conn.cursor(pymysql.cursors.DictCursor)\n",
    "\n",
    "# Connection 으로부터 Dictoionary Cursor 생성\n",
    "\n",
    "\n",
    "# book 도서번호가 1~10 사이 : 비교식\n",
    "sql = \"SELECT bookid, bookname FROM Book WHERE bookid >= %s and bookid <= %s\"\n",
    "    \n",
    "# 데이타 Fetch\n",
    "curs.execute(sql, (1, 10))\n",
    "    \n",
    "rows = curs.fetchall()\n",
    "rows[:2]"
   ]
  },
  {
   "cell_type": "code",
   "execution_count": 9,
   "metadata": {},
   "outputs": [
    {
     "name": "stdout",
     "output_type": "stream",
     "text": [
      "{'bookid': 1, 'bookname': '철락의 역사'}\n",
      "1 철락의 역사\n",
      "{'bookid': 2, 'bookname': '모델링 시작하기'}\n",
      "2 모델링 시작하기\n",
      "{'bookid': 3, 'bookname': 'SQL 이해'}\n",
      "3 SQL 이해\n",
      "{'bookid': 4, 'bookname': '텐서플로우 시작'}\n",
      "4 텐서플로우 시작\n",
      "{'bookid': 5, 'bookname': '인공지능 개론'}\n",
      "5 인공지능 개론\n",
      "{'bookid': 6, 'bookname': '파이썬 고급'}\n",
      "6 파이썬 고급\n",
      "{'bookid': 7, 'bookname': '객체지향 Java'}\n",
      "7 객체지향 Java\n",
      "{'bookid': 8, 'bookname': 'C++ 중급'}\n",
      "8 C++ 중급\n",
      "{'bookid': 9, 'bookname': 'Secure 코딩'}\n",
      "9 Secure 코딩\n",
      "{'bookid': 10, 'bookname': 'Machine learning'}\n",
      "10 Machine learning\n"
     ]
    }
   ],
   "source": [
    "# 전체 행 출력:bookid, bookname\n",
    "for row in rows:\n",
    "    print(row)\n",
    "    print(row['bookid'], row['bookname'])\n",
    "\n",
    "# Connection 닫기\n",
    "\n"
   ]
  },
  {
   "cell_type": "code",
   "execution_count": 10,
   "metadata": {},
   "outputs": [
    {
     "data": {
      "text/plain": [
       "list"
      ]
     },
     "execution_count": 10,
     "metadata": {},
     "output_type": "execute_result"
    }
   ],
   "source": [
    "type(rows)"
   ]
  },
  {
   "cell_type": "code",
   "execution_count": null,
   "metadata": {},
   "outputs": [],
   "source": []
  },
  {
   "cell_type": "code",
   "execution_count": null,
   "metadata": {},
   "outputs": [],
   "source": []
  },
  {
   "cell_type": "markdown",
   "metadata": {},
   "source": [
    "만약 Python 문자열에서 사용하는 기본 String Interpolation을 사용하면 데이타에 특수 문자가 있는 경우 SQL문 문법 오류를 발생시킬 수 있다. 예를 들어, 아래는 기본 String Interpolation을 사용한 예인데, 변수 data 안에 단일 인용부호가 있는 경우 SQL Syntax 에러를 유발시키게 된다. 또한 이러한 String Interpolation 혹은 문자열 결합(Concatenation)을 통해 동적 SQL 문을 만드는 방법은 SQL Injection 공격에 쉽게 노출되는 문제점이 있다.\n",
    "\n",
    "```python\n",
    "# 잘못된 표현\n",
    "data = '서\\'울'\n",
    "sql = \"select * from customer where category=%s and region=%s\" % (1, data)\n",
    "curs.execute(sql)\n",
    "```"
   ]
  },
  {
   "cell_type": "markdown",
   "metadata": {},
   "source": [
    "## DML"
   ]
  },
  {
   "cell_type": "markdown",
   "metadata": {},
   "source": [
    "#### insert\n",
    "\n",
    "INSERT문에 사용하는 각 컬럼값들은 직접 값을 지정(Hard code)하거나 Parameter Placeholder를 사용할 수 있다.\n",
    "\n",
    "아래 예제는 두 개의 데이타를 INSERT 하고 Commit 하는 예이다. 여기서 한가지 주의할 점은 데이타 INSERT만 실행하고 Commit하지 않으면, 테이블의 데이타는 변경되지 않는다는 점이다."
   ]
  },
  {
   "cell_type": "code",
   "execution_count": 12,
   "metadata": {},
   "outputs": [
    {
     "ename": "OperationalError",
     "evalue": "(1364, \"Field 'custid' doesn't have a default value\")",
     "output_type": "error",
     "traceback": [
      "\u001b[1;31m---------------------------------------------------------------------------\u001b[0m",
      "\u001b[1;31mOperationalError\u001b[0m                          Traceback (most recent call last)",
      "\u001b[1;32m<ipython-input-12-cc79d70df0e5>\u001b[0m in \u001b[0;36m<module>\u001b[1;34m\u001b[0m\n\u001b[0;32m     11\u001b[0m \u001b[1;33m\u001b[0m\u001b[0m\n\u001b[0;32m     12\u001b[0m \u001b[1;31m# ('김철수', '서울시 도봉구', '203-4943-1234')\u001b[0m\u001b[1;33m\u001b[0m\u001b[1;33m\u001b[0m\u001b[1;33m\u001b[0m\u001b[0m\n\u001b[1;32m---> 13\u001b[1;33m \u001b[0mcurs\u001b[0m\u001b[1;33m.\u001b[0m\u001b[0mexecute\u001b[0m\u001b[1;33m(\u001b[0m\u001b[0msql\u001b[0m\u001b[1;33m,\u001b[0m \u001b[1;33m(\u001b[0m\u001b[1;34m'김철수'\u001b[0m\u001b[1;33m,\u001b[0m \u001b[1;34m'서울시 도봉구'\u001b[0m\u001b[1;33m,\u001b[0m \u001b[1;34m'203-4943-1234'\u001b[0m\u001b[1;33m)\u001b[0m\u001b[1;33m)\u001b[0m\u001b[1;33m\u001b[0m\u001b[1;33m\u001b[0m\u001b[0m\n\u001b[0m\u001b[0;32m     14\u001b[0m \u001b[1;31m# ('빙그레', '대구시 도봉구', '111-4943-1234')\u001b[0m\u001b[1;33m\u001b[0m\u001b[1;33m\u001b[0m\u001b[1;33m\u001b[0m\u001b[0m\n\u001b[0;32m     15\u001b[0m \u001b[0mcurs\u001b[0m\u001b[1;33m.\u001b[0m\u001b[0mexecute\u001b[0m\u001b[1;33m(\u001b[0m\u001b[0msql\u001b[0m\u001b[1;33m,\u001b[0m \u001b[1;33m(\u001b[0m\u001b[1;34m'빙그레'\u001b[0m\u001b[1;33m,\u001b[0m \u001b[1;34m'대구시 도봉구'\u001b[0m\u001b[1;33m,\u001b[0m \u001b[1;34m'111-4943-1234'\u001b[0m\u001b[1;33m)\u001b[0m\u001b[1;33m)\u001b[0m\u001b[1;33m\u001b[0m\u001b[1;33m\u001b[0m\u001b[0m\n",
      "\u001b[1;32m~\\.conda\\envs\\python36\\lib\\site-packages\\pymysql\\cursors.py\u001b[0m in \u001b[0;36mexecute\u001b[1;34m(self, query, args)\u001b[0m\n\u001b[0;32m    161\u001b[0m         \u001b[0mquery\u001b[0m \u001b[1;33m=\u001b[0m \u001b[0mself\u001b[0m\u001b[1;33m.\u001b[0m\u001b[0mmogrify\u001b[0m\u001b[1;33m(\u001b[0m\u001b[0mquery\u001b[0m\u001b[1;33m,\u001b[0m \u001b[0margs\u001b[0m\u001b[1;33m)\u001b[0m\u001b[1;33m\u001b[0m\u001b[1;33m\u001b[0m\u001b[0m\n\u001b[0;32m    162\u001b[0m \u001b[1;33m\u001b[0m\u001b[0m\n\u001b[1;32m--> 163\u001b[1;33m         \u001b[0mresult\u001b[0m \u001b[1;33m=\u001b[0m \u001b[0mself\u001b[0m\u001b[1;33m.\u001b[0m\u001b[0m_query\u001b[0m\u001b[1;33m(\u001b[0m\u001b[0mquery\u001b[0m\u001b[1;33m)\u001b[0m\u001b[1;33m\u001b[0m\u001b[1;33m\u001b[0m\u001b[0m\n\u001b[0m\u001b[0;32m    164\u001b[0m         \u001b[0mself\u001b[0m\u001b[1;33m.\u001b[0m\u001b[0m_executed\u001b[0m \u001b[1;33m=\u001b[0m \u001b[0mquery\u001b[0m\u001b[1;33m\u001b[0m\u001b[1;33m\u001b[0m\u001b[0m\n\u001b[0;32m    165\u001b[0m         \u001b[1;32mreturn\u001b[0m \u001b[0mresult\u001b[0m\u001b[1;33m\u001b[0m\u001b[1;33m\u001b[0m\u001b[0m\n",
      "\u001b[1;32m~\\.conda\\envs\\python36\\lib\\site-packages\\pymysql\\cursors.py\u001b[0m in \u001b[0;36m_query\u001b[1;34m(self, q)\u001b[0m\n\u001b[0;32m    319\u001b[0m         \u001b[0mself\u001b[0m\u001b[1;33m.\u001b[0m\u001b[0m_last_executed\u001b[0m \u001b[1;33m=\u001b[0m \u001b[0mq\u001b[0m\u001b[1;33m\u001b[0m\u001b[1;33m\u001b[0m\u001b[0m\n\u001b[0;32m    320\u001b[0m         \u001b[0mself\u001b[0m\u001b[1;33m.\u001b[0m\u001b[0m_clear_result\u001b[0m\u001b[1;33m(\u001b[0m\u001b[1;33m)\u001b[0m\u001b[1;33m\u001b[0m\u001b[1;33m\u001b[0m\u001b[0m\n\u001b[1;32m--> 321\u001b[1;33m         \u001b[0mconn\u001b[0m\u001b[1;33m.\u001b[0m\u001b[0mquery\u001b[0m\u001b[1;33m(\u001b[0m\u001b[0mq\u001b[0m\u001b[1;33m)\u001b[0m\u001b[1;33m\u001b[0m\u001b[1;33m\u001b[0m\u001b[0m\n\u001b[0m\u001b[0;32m    322\u001b[0m         \u001b[0mself\u001b[0m\u001b[1;33m.\u001b[0m\u001b[0m_do_get_result\u001b[0m\u001b[1;33m(\u001b[0m\u001b[1;33m)\u001b[0m\u001b[1;33m\u001b[0m\u001b[1;33m\u001b[0m\u001b[0m\n\u001b[0;32m    323\u001b[0m         \u001b[1;32mreturn\u001b[0m \u001b[0mself\u001b[0m\u001b[1;33m.\u001b[0m\u001b[0mrowcount\u001b[0m\u001b[1;33m\u001b[0m\u001b[1;33m\u001b[0m\u001b[0m\n",
      "\u001b[1;32m~\\.conda\\envs\\python36\\lib\\site-packages\\pymysql\\connections.py\u001b[0m in \u001b[0;36mquery\u001b[1;34m(self, sql, unbuffered)\u001b[0m\n\u001b[0;32m    503\u001b[0m                 \u001b[0msql\u001b[0m \u001b[1;33m=\u001b[0m \u001b[0msql\u001b[0m\u001b[1;33m.\u001b[0m\u001b[0mencode\u001b[0m\u001b[1;33m(\u001b[0m\u001b[0mself\u001b[0m\u001b[1;33m.\u001b[0m\u001b[0mencoding\u001b[0m\u001b[1;33m,\u001b[0m \u001b[1;34m'surrogateescape'\u001b[0m\u001b[1;33m)\u001b[0m\u001b[1;33m\u001b[0m\u001b[1;33m\u001b[0m\u001b[0m\n\u001b[0;32m    504\u001b[0m         \u001b[0mself\u001b[0m\u001b[1;33m.\u001b[0m\u001b[0m_execute_command\u001b[0m\u001b[1;33m(\u001b[0m\u001b[0mCOMMAND\u001b[0m\u001b[1;33m.\u001b[0m\u001b[0mCOM_QUERY\u001b[0m\u001b[1;33m,\u001b[0m \u001b[0msql\u001b[0m\u001b[1;33m)\u001b[0m\u001b[1;33m\u001b[0m\u001b[1;33m\u001b[0m\u001b[0m\n\u001b[1;32m--> 505\u001b[1;33m         \u001b[0mself\u001b[0m\u001b[1;33m.\u001b[0m\u001b[0m_affected_rows\u001b[0m \u001b[1;33m=\u001b[0m \u001b[0mself\u001b[0m\u001b[1;33m.\u001b[0m\u001b[0m_read_query_result\u001b[0m\u001b[1;33m(\u001b[0m\u001b[0munbuffered\u001b[0m\u001b[1;33m=\u001b[0m\u001b[0munbuffered\u001b[0m\u001b[1;33m)\u001b[0m\u001b[1;33m\u001b[0m\u001b[1;33m\u001b[0m\u001b[0m\n\u001b[0m\u001b[0;32m    506\u001b[0m         \u001b[1;32mreturn\u001b[0m \u001b[0mself\u001b[0m\u001b[1;33m.\u001b[0m\u001b[0m_affected_rows\u001b[0m\u001b[1;33m\u001b[0m\u001b[1;33m\u001b[0m\u001b[0m\n\u001b[0;32m    507\u001b[0m \u001b[1;33m\u001b[0m\u001b[0m\n",
      "\u001b[1;32m~\\.conda\\envs\\python36\\lib\\site-packages\\pymysql\\connections.py\u001b[0m in \u001b[0;36m_read_query_result\u001b[1;34m(self, unbuffered)\u001b[0m\n\u001b[0;32m    722\u001b[0m         \u001b[1;32melse\u001b[0m\u001b[1;33m:\u001b[0m\u001b[1;33m\u001b[0m\u001b[1;33m\u001b[0m\u001b[0m\n\u001b[0;32m    723\u001b[0m             \u001b[0mresult\u001b[0m \u001b[1;33m=\u001b[0m \u001b[0mMySQLResult\u001b[0m\u001b[1;33m(\u001b[0m\u001b[0mself\u001b[0m\u001b[1;33m)\u001b[0m\u001b[1;33m\u001b[0m\u001b[1;33m\u001b[0m\u001b[0m\n\u001b[1;32m--> 724\u001b[1;33m             \u001b[0mresult\u001b[0m\u001b[1;33m.\u001b[0m\u001b[0mread\u001b[0m\u001b[1;33m(\u001b[0m\u001b[1;33m)\u001b[0m\u001b[1;33m\u001b[0m\u001b[1;33m\u001b[0m\u001b[0m\n\u001b[0m\u001b[0;32m    725\u001b[0m         \u001b[0mself\u001b[0m\u001b[1;33m.\u001b[0m\u001b[0m_result\u001b[0m \u001b[1;33m=\u001b[0m \u001b[0mresult\u001b[0m\u001b[1;33m\u001b[0m\u001b[1;33m\u001b[0m\u001b[0m\n\u001b[0;32m    726\u001b[0m         \u001b[1;32mif\u001b[0m \u001b[0mresult\u001b[0m\u001b[1;33m.\u001b[0m\u001b[0mserver_status\u001b[0m \u001b[1;32mis\u001b[0m \u001b[1;32mnot\u001b[0m \u001b[1;32mNone\u001b[0m\u001b[1;33m:\u001b[0m\u001b[1;33m\u001b[0m\u001b[1;33m\u001b[0m\u001b[0m\n",
      "\u001b[1;32m~\\.conda\\envs\\python36\\lib\\site-packages\\pymysql\\connections.py\u001b[0m in \u001b[0;36mread\u001b[1;34m(self)\u001b[0m\n\u001b[0;32m   1067\u001b[0m     \u001b[1;32mdef\u001b[0m \u001b[0mread\u001b[0m\u001b[1;33m(\u001b[0m\u001b[0mself\u001b[0m\u001b[1;33m)\u001b[0m\u001b[1;33m:\u001b[0m\u001b[1;33m\u001b[0m\u001b[1;33m\u001b[0m\u001b[0m\n\u001b[0;32m   1068\u001b[0m         \u001b[1;32mtry\u001b[0m\u001b[1;33m:\u001b[0m\u001b[1;33m\u001b[0m\u001b[1;33m\u001b[0m\u001b[0m\n\u001b[1;32m-> 1069\u001b[1;33m             \u001b[0mfirst_packet\u001b[0m \u001b[1;33m=\u001b[0m \u001b[0mself\u001b[0m\u001b[1;33m.\u001b[0m\u001b[0mconnection\u001b[0m\u001b[1;33m.\u001b[0m\u001b[0m_read_packet\u001b[0m\u001b[1;33m(\u001b[0m\u001b[1;33m)\u001b[0m\u001b[1;33m\u001b[0m\u001b[1;33m\u001b[0m\u001b[0m\n\u001b[0m\u001b[0;32m   1070\u001b[0m \u001b[1;33m\u001b[0m\u001b[0m\n\u001b[0;32m   1071\u001b[0m             \u001b[1;32mif\u001b[0m \u001b[0mfirst_packet\u001b[0m\u001b[1;33m.\u001b[0m\u001b[0mis_ok_packet\u001b[0m\u001b[1;33m(\u001b[0m\u001b[1;33m)\u001b[0m\u001b[1;33m:\u001b[0m\u001b[1;33m\u001b[0m\u001b[1;33m\u001b[0m\u001b[0m\n",
      "\u001b[1;32m~\\.conda\\envs\\python36\\lib\\site-packages\\pymysql\\connections.py\u001b[0m in \u001b[0;36m_read_packet\u001b[1;34m(self, packet_type)\u001b[0m\n\u001b[0;32m    674\u001b[0m             \u001b[1;32mif\u001b[0m \u001b[0mself\u001b[0m\u001b[1;33m.\u001b[0m\u001b[0m_result\u001b[0m \u001b[1;32mis\u001b[0m \u001b[1;32mnot\u001b[0m \u001b[1;32mNone\u001b[0m \u001b[1;32mand\u001b[0m \u001b[0mself\u001b[0m\u001b[1;33m.\u001b[0m\u001b[0m_result\u001b[0m\u001b[1;33m.\u001b[0m\u001b[0munbuffered_active\u001b[0m \u001b[1;32mis\u001b[0m \u001b[1;32mTrue\u001b[0m\u001b[1;33m:\u001b[0m\u001b[1;33m\u001b[0m\u001b[1;33m\u001b[0m\u001b[0m\n\u001b[0;32m    675\u001b[0m                 \u001b[0mself\u001b[0m\u001b[1;33m.\u001b[0m\u001b[0m_result\u001b[0m\u001b[1;33m.\u001b[0m\u001b[0munbuffered_active\u001b[0m \u001b[1;33m=\u001b[0m \u001b[1;32mFalse\u001b[0m\u001b[1;33m\u001b[0m\u001b[1;33m\u001b[0m\u001b[0m\n\u001b[1;32m--> 676\u001b[1;33m             \u001b[0mpacket\u001b[0m\u001b[1;33m.\u001b[0m\u001b[0mraise_for_error\u001b[0m\u001b[1;33m(\u001b[0m\u001b[1;33m)\u001b[0m\u001b[1;33m\u001b[0m\u001b[1;33m\u001b[0m\u001b[0m\n\u001b[0m\u001b[0;32m    677\u001b[0m         \u001b[1;32mreturn\u001b[0m \u001b[0mpacket\u001b[0m\u001b[1;33m\u001b[0m\u001b[1;33m\u001b[0m\u001b[0m\n\u001b[0;32m    678\u001b[0m \u001b[1;33m\u001b[0m\u001b[0m\n",
      "\u001b[1;32m~\\.conda\\envs\\python36\\lib\\site-packages\\pymysql\\protocol.py\u001b[0m in \u001b[0;36mraise_for_error\u001b[1;34m(self)\u001b[0m\n\u001b[0;32m    221\u001b[0m         \u001b[0merrno\u001b[0m \u001b[1;33m=\u001b[0m \u001b[0mself\u001b[0m\u001b[1;33m.\u001b[0m\u001b[0mread_uint16\u001b[0m\u001b[1;33m(\u001b[0m\u001b[1;33m)\u001b[0m\u001b[1;33m\u001b[0m\u001b[1;33m\u001b[0m\u001b[0m\n\u001b[0;32m    222\u001b[0m         \u001b[1;32mif\u001b[0m \u001b[0mDEBUG\u001b[0m\u001b[1;33m:\u001b[0m \u001b[0mprint\u001b[0m\u001b[1;33m(\u001b[0m\u001b[1;34m\"errno =\"\u001b[0m\u001b[1;33m,\u001b[0m \u001b[0merrno\u001b[0m\u001b[1;33m)\u001b[0m\u001b[1;33m\u001b[0m\u001b[1;33m\u001b[0m\u001b[0m\n\u001b[1;32m--> 223\u001b[1;33m         \u001b[0merr\u001b[0m\u001b[1;33m.\u001b[0m\u001b[0mraise_mysql_exception\u001b[0m\u001b[1;33m(\u001b[0m\u001b[0mself\u001b[0m\u001b[1;33m.\u001b[0m\u001b[0m_data\u001b[0m\u001b[1;33m)\u001b[0m\u001b[1;33m\u001b[0m\u001b[1;33m\u001b[0m\u001b[0m\n\u001b[0m\u001b[0;32m    224\u001b[0m \u001b[1;33m\u001b[0m\u001b[0m\n\u001b[0;32m    225\u001b[0m     \u001b[1;32mdef\u001b[0m \u001b[0mdump\u001b[0m\u001b[1;33m(\u001b[0m\u001b[0mself\u001b[0m\u001b[1;33m)\u001b[0m\u001b[1;33m:\u001b[0m\u001b[1;33m\u001b[0m\u001b[1;33m\u001b[0m\u001b[0m\n",
      "\u001b[1;32m~\\.conda\\envs\\python36\\lib\\site-packages\\pymysql\\err.py\u001b[0m in \u001b[0;36mraise_mysql_exception\u001b[1;34m(data)\u001b[0m\n\u001b[0;32m    105\u001b[0m     \u001b[1;32mif\u001b[0m \u001b[0merrorclass\u001b[0m \u001b[1;32mis\u001b[0m \u001b[1;32mNone\u001b[0m\u001b[1;33m:\u001b[0m\u001b[1;33m\u001b[0m\u001b[1;33m\u001b[0m\u001b[0m\n\u001b[0;32m    106\u001b[0m         \u001b[0merrorclass\u001b[0m \u001b[1;33m=\u001b[0m \u001b[0mInternalError\u001b[0m \u001b[1;32mif\u001b[0m \u001b[0merrno\u001b[0m \u001b[1;33m<\u001b[0m \u001b[1;36m1000\u001b[0m \u001b[1;32melse\u001b[0m \u001b[0mOperationalError\u001b[0m\u001b[1;33m\u001b[0m\u001b[1;33m\u001b[0m\u001b[0m\n\u001b[1;32m--> 107\u001b[1;33m     \u001b[1;32mraise\u001b[0m \u001b[0merrorclass\u001b[0m\u001b[1;33m(\u001b[0m\u001b[0merrno\u001b[0m\u001b[1;33m,\u001b[0m \u001b[0merrval\u001b[0m\u001b[1;33m)\u001b[0m\u001b[1;33m\u001b[0m\u001b[1;33m\u001b[0m\u001b[0m\n\u001b[0m",
      "\u001b[1;31mOperationalError\u001b[0m: (1364, \"Field 'custid' doesn't have a default value\")"
     ]
    }
   ],
   "source": [
    "# MySQL Connection 연결\n",
    "conn = pymysql.connect(host='localhost', user='user1', password='ted0014758',\n",
    "                       db='bookstore', charset='utf8')\n",
    "\n",
    "# Connection 으로부터 Cursor 생성\n",
    "curs = conn.cursor()\n",
    "\n",
    "# customer에 이름, 주소, 전화번호 입력\n",
    "sql = \"\"\"insert into customer(name,address,phone)\n",
    "         values (%s, %s, %s)\"\"\"\n",
    "\n",
    "# ('김철수', '서울시 도봉구', '203-4943-1234')\n",
    "curs.execute(sql, ('김철수', '서울시 도봉구', '203-4943-1234'))\n",
    "# ('빙그레', '대구시 도봉구', '111-4943-1234')\n",
    "curs.execute(sql, ('빙그레', '대구시 도봉구', '111-4943-1234'))\n",
    "\n",
    "# 커밋과 클로즈\n",
    "conn.commit()\n",
    "conn.close()"
   ]
  },
  {
   "cell_type": "markdown",
   "metadata": {},
   "source": [
    "execute() 메서드는 하나의 Row (하나의 Tuple 데이타)를 치환하여 실행하는 반면, executemany() 메소드는 복수개의 Tuple 데이타 (즉, Tuple of Tuples)를 하나의 DML 문에 적용하게 된다. 아래 예제에서 executemany()는 3개의 INSERT 문을 수행하는 것과 동일한 효과를 갖는다."
   ]
  },
  {
   "cell_type": "code",
   "execution_count": null,
   "metadata": {},
   "outputs": [],
   "source": [
    "data = (\n",
    "   ('김수철', '충청남도 계룡시', '203-4943-1234'),\n",
    "   ('마동서', '강원도 원주시', '124-1234=2343')\n",
    ")\n",
    "sql = \"\"\"insert into customer(name,address,phone)\n",
    "         values (%s, %s, %s)\"\"\"\n",
    "curs.executemany(sql, data)\n",
    "conn.commit()"
   ]
  },
  {
   "cell_type": "markdown",
   "metadata": {},
   "source": [
    "### update, delete\n",
    "\n",
    "\n",
    "기존의 데이타를 수정하기 위해 UPDATE 문을 사용하고, 삭제하기 위해서 DELETE 문을 사용한다. UPDATE, DELETE 문에 사용하는 각 컬럼값들은 직접 값을 지정(Hard code)하거나 Parameter Placeholder를 사용할 수 있다."
   ]
  },
  {
   "cell_type": "code",
   "execution_count": null,
   "metadata": {},
   "outputs": [],
   "source": [
    "# MySQL Connection 연결\n",
    "\n",
    "\n",
    "# Connection 으로부터 Cursor 생성\n",
    "\n",
    "#  이름이 김철수인 사람 주소 -> '서울특별시 도봉구'\n",
    "\n",
    "\n",
    "# 커밋과 클로즈\n",
    "\n"
   ]
  },
  {
   "cell_type": "code",
   "execution_count": null,
   "metadata": {},
   "outputs": [],
   "source": [
    "# Connection 으로부터 Cursor 생성\n",
    "\n",
    "\n",
    "# id=6인 사람 삭제\n",
    "\n",
    "\n",
    "# 커밋과 클로즈\n"
   ]
  },
  {
   "cell_type": "markdown",
   "metadata": {},
   "source": [
    "### try ... with\n",
    "\n",
    "QL Connection을 열고 프로그램 중간에서 에러가 발생하면, Connection은 그대로 열려 있는 상태로 있을 수 있다. 이렇게 오픈되어 있는 Connection이 증가하면, 나중에 새로운 Connection을 오픈할 수 없게 되는데, 이를 Connection Leak 이라 부른다.\n",
    "\n",
    " SQL 객체들을 다룰 때 try...finally 나 with 문을 적절히 사용하여 리소스를 해제해 주는 것이 좋다."
   ]
  },
  {
   "cell_type": "code",
   "execution_count": 14,
   "metadata": {},
   "outputs": [
    {
     "name": "stdout",
     "output_type": "stream",
     "text": [
      "(1, '철락의 역사', '정론사', 7000)\n",
      "(2, '모델링 시작하기', '한비사', 13000)\n",
      "(3, 'SQL 이해', '새미디어', 22000)\n",
      "(4, '텐서플로우 시작', '새미디어', 35000)\n",
      "(5, '인공지능 개론', '정론사', 8000)\n",
      "(6, '파이썬 고급', '정론사', 6000)\n",
      "(7, '객체지향 Java', '튜링사', 20000)\n",
      "(8, 'C++ 중급', '튜링사', 13000)\n",
      "(9, 'Secure 코딩', '정보사', 7500)\n",
      "(10, 'Machine learning', 'Pearson', 13000)\n",
      "(14, '스포츠 의학', '한솔의학서적', None)\n"
     ]
    }
   ],
   "source": [
    "# MySQL Connection 연결\n",
    "conn = pymysql.connect(host='localhost', user='user1', password='ted0014758',\n",
    "                       db='bookstore', charset='utf8')\n",
    "\n",
    "try:\n",
    "    # with 구문\n",
    "    # INSERT: book에 (14, '스포츠 의학', '한솔의학서적') 추가\n",
    "    with conn.cursor() as curs:\n",
    "        sql = \"INSERT INTO Book(bookid, bookname, publisher) values (%s, %s, %s)\"\n",
    "        curs.execute(sql, (14, '스포츠 의학','한솔의학서적'))\n",
    "    # 커밋\n",
    "    conn.commit()\n",
    " \n",
    "\n",
    "    # 입력 결과 확인 with 로 select\n",
    "    with conn.cursor() as curs:\n",
    "        sql = \"select * FROM Book\"\n",
    "        curs.execute(sql)\n",
    "        rs = curs.fetchall()\n",
    "        for row in rs:\n",
    "            print(row)\n",
    "    \n",
    "\n",
    "finally:\n",
    "    # 클로즈\n",
    "    conn.close()\n",
    "    \n",
    "    "
   ]
  }
 ],
 "metadata": {
  "kernelspec": {
   "display_name": "Python 3",
   "language": "python",
   "name": "python3"
  },
  "language_info": {
   "codemirror_mode": {
    "name": "ipython",
    "version": 3
   },
   "file_extension": ".py",
   "mimetype": "text/x-python",
   "name": "python",
   "nbconvert_exporter": "python",
   "pygments_lexer": "ipython3",
   "version": "3.6.12"
  }
 },
 "nbformat": 4,
 "nbformat_minor": 4
}
