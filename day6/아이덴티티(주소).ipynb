{
 "cells": [
  {
   "cell_type": "markdown",
   "metadata": {},
   "source": [
    "# 데이터 모델"
   ]
  },
  {
   "cell_type": "code",
   "execution_count": 1,
   "metadata": {},
   "outputs": [],
   "source": [
    "a = b = c = 5"
   ]
  },
  {
   "cell_type": "code",
   "execution_count": 2,
   "metadata": {},
   "outputs": [
    {
     "data": {
      "text/plain": [
       "(5, 5, 5)"
      ]
     },
     "execution_count": 2,
     "metadata": {},
     "output_type": "execute_result"
    }
   ],
   "source": [
    "a, b, c"
   ]
  },
  {
   "cell_type": "code",
   "execution_count": 3,
   "metadata": {},
   "outputs": [
    {
     "data": {
      "text/plain": [
       "(1360900416, 1360900416, 1360900416)"
      ]
     },
     "execution_count": 3,
     "metadata": {},
     "output_type": "execute_result"
    }
   ],
   "source": [
    "id(a), id(b), id(c)   #같은 아이덴티티 값"
   ]
  },
  {
   "cell_type": "code",
   "execution_count": 4,
   "metadata": {},
   "outputs": [],
   "source": [
    "del a"
   ]
  },
  {
   "cell_type": "code",
   "execution_count": 5,
   "metadata": {},
   "outputs": [
    {
     "data": {
      "text/plain": [
       "(5, 5)"
      ]
     },
     "execution_count": 5,
     "metadata": {},
     "output_type": "execute_result"
    }
   ],
   "source": [
    "b, c"
   ]
  },
  {
   "cell_type": "code",
   "execution_count": 6,
   "metadata": {},
   "outputs": [],
   "source": [
    "b = 'a'  #b에 새로운 값 추가"
   ]
  },
  {
   "cell_type": "code",
   "execution_count": 8,
   "metadata": {},
   "outputs": [
    {
     "data": {
      "text/plain": [
       "(1684597898688, 1360900416)"
      ]
     },
     "execution_count": 8,
     "metadata": {},
     "output_type": "execute_result"
    }
   ],
   "source": [
    "id(b), id(c)  #b의 아이덴티티 값 변경"
   ]
  },
  {
   "cell_type": "code",
   "execution_count": 19,
   "metadata": {},
   "outputs": [],
   "source": [
    "c = 10"
   ]
  },
  {
   "cell_type": "code",
   "execution_count": 16,
   "metadata": {},
   "outputs": [
    {
     "data": {
      "text/plain": [
       "(1684597898688, 1360900576)"
      ]
     },
     "execution_count": 16,
     "metadata": {},
     "output_type": "execute_result"
    }
   ],
   "source": [
    "id(b), id(c)  #c의 아이덴티티 값 변경"
   ]
  },
  {
   "cell_type": "code",
   "execution_count": 17,
   "metadata": {},
   "outputs": [],
   "source": [
    "c = 20"
   ]
  },
  {
   "cell_type": "code",
   "execution_count": 20,
   "metadata": {},
   "outputs": [
    {
     "data": {
      "text/plain": [
       "1360900576"
      ]
     },
     "execution_count": 20,
     "metadata": {},
     "output_type": "execute_result"
    }
   ],
   "source": [
    "id(c)"
   ]
  },
  {
   "cell_type": "code",
   "execution_count": 11,
   "metadata": {
    "collapsed": true,
    "jupyter": {
     "outputs_hidden": true
    }
   },
   "outputs": [
    {
     "data": {
      "text/plain": [
       "['__add__',\n",
       " '__class__',\n",
       " '__contains__',\n",
       " '__delattr__',\n",
       " '__dir__',\n",
       " '__doc__',\n",
       " '__eq__',\n",
       " '__format__',\n",
       " '__ge__',\n",
       " '__getattribute__',\n",
       " '__getitem__',\n",
       " '__getnewargs__',\n",
       " '__gt__',\n",
       " '__hash__',\n",
       " '__init__',\n",
       " '__init_subclass__',\n",
       " '__iter__',\n",
       " '__le__',\n",
       " '__len__',\n",
       " '__lt__',\n",
       " '__mod__',\n",
       " '__mul__',\n",
       " '__ne__',\n",
       " '__new__',\n",
       " '__reduce__',\n",
       " '__reduce_ex__',\n",
       " '__repr__',\n",
       " '__rmod__',\n",
       " '__rmul__',\n",
       " '__setattr__',\n",
       " '__sizeof__',\n",
       " '__str__',\n",
       " '__subclasshook__',\n",
       " 'capitalize',\n",
       " 'casefold',\n",
       " 'center',\n",
       " 'count',\n",
       " 'encode',\n",
       " 'endswith',\n",
       " 'expandtabs',\n",
       " 'find',\n",
       " 'format',\n",
       " 'format_map',\n",
       " 'index',\n",
       " 'isalnum',\n",
       " 'isalpha',\n",
       " 'isdecimal',\n",
       " 'isdigit',\n",
       " 'isidentifier',\n",
       " 'islower',\n",
       " 'isnumeric',\n",
       " 'isprintable',\n",
       " 'isspace',\n",
       " 'istitle',\n",
       " 'isupper',\n",
       " 'join',\n",
       " 'ljust',\n",
       " 'lower',\n",
       " 'lstrip',\n",
       " 'maketrans',\n",
       " 'partition',\n",
       " 'replace',\n",
       " 'rfind',\n",
       " 'rindex',\n",
       " 'rjust',\n",
       " 'rpartition',\n",
       " 'rsplit',\n",
       " 'rstrip',\n",
       " 'split',\n",
       " 'splitlines',\n",
       " 'startswith',\n",
       " 'strip',\n",
       " 'swapcase',\n",
       " 'title',\n",
       " 'translate',\n",
       " 'upper',\n",
       " 'zfill']"
      ]
     },
     "execution_count": 11,
     "metadata": {},
     "output_type": "execute_result"
    }
   ],
   "source": [
    "dir(b)  #객체"
   ]
  },
  {
   "cell_type": "code",
   "execution_count": 12,
   "metadata": {
    "collapsed": true,
    "jupyter": {
     "outputs_hidden": true
    }
   },
   "outputs": [
    {
     "data": {
      "text/plain": [
       "['__abs__',\n",
       " '__add__',\n",
       " '__and__',\n",
       " '__bool__',\n",
       " '__ceil__',\n",
       " '__class__',\n",
       " '__delattr__',\n",
       " '__dir__',\n",
       " '__divmod__',\n",
       " '__doc__',\n",
       " '__eq__',\n",
       " '__float__',\n",
       " '__floor__',\n",
       " '__floordiv__',\n",
       " '__format__',\n",
       " '__ge__',\n",
       " '__getattribute__',\n",
       " '__getnewargs__',\n",
       " '__gt__',\n",
       " '__hash__',\n",
       " '__index__',\n",
       " '__init__',\n",
       " '__init_subclass__',\n",
       " '__int__',\n",
       " '__invert__',\n",
       " '__le__',\n",
       " '__lshift__',\n",
       " '__lt__',\n",
       " '__mod__',\n",
       " '__mul__',\n",
       " '__ne__',\n",
       " '__neg__',\n",
       " '__new__',\n",
       " '__or__',\n",
       " '__pos__',\n",
       " '__pow__',\n",
       " '__radd__',\n",
       " '__rand__',\n",
       " '__rdivmod__',\n",
       " '__reduce__',\n",
       " '__reduce_ex__',\n",
       " '__repr__',\n",
       " '__rfloordiv__',\n",
       " '__rlshift__',\n",
       " '__rmod__',\n",
       " '__rmul__',\n",
       " '__ror__',\n",
       " '__round__',\n",
       " '__rpow__',\n",
       " '__rrshift__',\n",
       " '__rshift__',\n",
       " '__rsub__',\n",
       " '__rtruediv__',\n",
       " '__rxor__',\n",
       " '__setattr__',\n",
       " '__sizeof__',\n",
       " '__str__',\n",
       " '__sub__',\n",
       " '__subclasshook__',\n",
       " '__truediv__',\n",
       " '__trunc__',\n",
       " '__xor__',\n",
       " 'bit_length',\n",
       " 'conjugate',\n",
       " 'denominator',\n",
       " 'from_bytes',\n",
       " 'imag',\n",
       " 'numerator',\n",
       " 'real',\n",
       " 'to_bytes']"
      ]
     },
     "execution_count": 12,
     "metadata": {},
     "output_type": "execute_result"
    }
   ],
   "source": [
    "dir(c)  #객체"
   ]
  },
  {
   "cell_type": "markdown",
   "metadata": {},
   "source": [
    "### reference count"
   ]
  },
  {
   "cell_type": "code",
   "execution_count": 21,
   "metadata": {},
   "outputs": [
    {
     "data": {
      "text/plain": [
       "(10, 10, 10)"
      ]
     },
     "execution_count": 21,
     "metadata": {},
     "output_type": "execute_result"
    }
   ],
   "source": [
    "a = b = c = 10\n",
    "a, b, c"
   ]
  },
  {
   "cell_type": "code",
   "execution_count": 22,
   "metadata": {},
   "outputs": [
    {
     "data": {
      "text/plain": [
       "437"
      ]
     },
     "execution_count": 22,
     "metadata": {},
     "output_type": "execute_result"
    }
   ],
   "source": [
    "import sys\n",
    "sys.getrefcount(10)  #주피터 노트북에서 10이라는 아이덴티티를 가리키고 있는 수"
   ]
  },
  {
   "cell_type": "code",
   "execution_count": 23,
   "metadata": {},
   "outputs": [
    {
     "data": {
      "text/plain": [
       "436"
      ]
     },
     "execution_count": 23,
     "metadata": {},
     "output_type": "execute_result"
    }
   ],
   "source": [
    "del a\n",
    "sys.getrefcount(10)"
   ]
  },
  {
   "cell_type": "code",
   "execution_count": 25,
   "metadata": {},
   "outputs": [
    {
     "data": {
      "text/plain": [
       "435"
      ]
     },
     "execution_count": 25,
     "metadata": {},
     "output_type": "execute_result"
    }
   ],
   "source": [
    "del b\n",
    "sys.getrefcount(10) #reference count가 0이 되었을 때 0의 아이덴티티가 메모리에서 삭제(garbagee collection)"
   ]
  },
  {
   "cell_type": "code",
   "execution_count": 26,
   "metadata": {},
   "outputs": [
    {
     "data": {
      "text/plain": [
       "<object at 0x1883e2058b0>"
      ]
     },
     "execution_count": 26,
     "metadata": {},
     "output_type": "execute_result"
    }
   ],
   "source": [
    "a = object()\n",
    "a"
   ]
  },
  {
   "cell_type": "code",
   "execution_count": 27,
   "metadata": {},
   "outputs": [
    {
     "data": {
      "text/plain": [
       "1684669487280"
      ]
     },
     "execution_count": 27,
     "metadata": {},
     "output_type": "execute_result"
    }
   ],
   "source": [
    "id(a)"
   ]
  },
  {
   "cell_type": "code",
   "execution_count": 28,
   "metadata": {},
   "outputs": [
    {
     "data": {
      "text/plain": [
       "14"
      ]
     },
     "execution_count": 28,
     "metadata": {},
     "output_type": "execute_result"
    }
   ],
   "source": [
    "sys.getrefcount(a)"
   ]
  },
  {
   "cell_type": "code",
   "execution_count": 29,
   "metadata": {},
   "outputs": [
    {
     "data": {
      "text/plain": [
       "21"
      ]
     },
     "execution_count": 29,
     "metadata": {},
     "output_type": "execute_result"
    }
   ],
   "source": [
    "b = a  #copy\n",
    "sys.getrefcount(a)"
   ]
  },
  {
   "cell_type": "code",
   "execution_count": 30,
   "metadata": {},
   "outputs": [],
   "source": [
    "del a"
   ]
  },
  {
   "cell_type": "code",
   "execution_count": 31,
   "metadata": {},
   "outputs": [
    {
     "data": {
      "text/plain": [
       "17"
      ]
     },
     "execution_count": 31,
     "metadata": {},
     "output_type": "execute_result"
    }
   ],
   "source": [
    "sys.getrefcount(b)"
   ]
  },
  {
   "cell_type": "markdown",
   "metadata": {},
   "source": [
    "## 비교\n",
    "- `==`: 값이 대등한가?\n",
    "- `is`: 객체가 대등한가?"
   ]
  },
  {
   "cell_type": "code",
   "execution_count": 32,
   "metadata": {},
   "outputs": [
    {
     "data": {
      "text/plain": [
       "(1360900576, 1360900576)"
      ]
     },
     "execution_count": 32,
     "metadata": {},
     "output_type": "execute_result"
    }
   ],
   "source": [
    "a = 10\n",
    "b = 10\n",
    "id(a), id(b)"
   ]
  },
  {
   "cell_type": "code",
   "execution_count": 33,
   "metadata": {},
   "outputs": [
    {
     "data": {
      "text/plain": [
       "True"
      ]
     },
     "execution_count": 33,
     "metadata": {},
     "output_type": "execute_result"
    }
   ],
   "source": [
    "a is b"
   ]
  },
  {
   "cell_type": "code",
   "execution_count": 34,
   "metadata": {},
   "outputs": [
    {
     "data": {
      "text/plain": [
       "True"
      ]
     },
     "execution_count": 34,
     "metadata": {},
     "output_type": "execute_result"
    }
   ],
   "source": [
    "a == b"
   ]
  },
  {
   "cell_type": "code",
   "execution_count": 39,
   "metadata": {},
   "outputs": [],
   "source": [
    "li1 = [1, 2, 3]\n",
    "li2 = [1, 2, 3]"
   ]
  },
  {
   "cell_type": "code",
   "execution_count": 40,
   "metadata": {},
   "outputs": [
    {
     "data": {
      "text/plain": [
       "True"
      ]
     },
     "execution_count": 40,
     "metadata": {},
     "output_type": "execute_result"
    }
   ],
   "source": [
    "li1 == li2"
   ]
  },
  {
   "cell_type": "code",
   "execution_count": 41,
   "metadata": {},
   "outputs": [
    {
     "data": {
      "text/plain": [
       "False"
      ]
     },
     "execution_count": 41,
     "metadata": {},
     "output_type": "execute_result"
    }
   ],
   "source": [
    "li1 is li2"
   ]
  },
  {
   "cell_type": "code",
   "execution_count": 51,
   "metadata": {},
   "outputs": [],
   "source": [
    "str1 = '가나'\n",
    "str2 = '가나'"
   ]
  },
  {
   "cell_type": "code",
   "execution_count": 52,
   "metadata": {},
   "outputs": [
    {
     "data": {
      "text/plain": [
       "True"
      ]
     },
     "execution_count": 52,
     "metadata": {},
     "output_type": "execute_result"
    }
   ],
   "source": [
    "str1 == str2"
   ]
  },
  {
   "cell_type": "code",
   "execution_count": 53,
   "metadata": {},
   "outputs": [
    {
     "data": {
      "text/plain": [
       "False"
      ]
     },
     "execution_count": 53,
     "metadata": {},
     "output_type": "execute_result"
    }
   ],
   "source": [
    "str1 is str2"
   ]
  },
  {
   "cell_type": "code",
   "execution_count": 54,
   "metadata": {},
   "outputs": [
    {
     "data": {
      "text/plain": [
       "(1684691664544, 1684691664720)"
      ]
     },
     "execution_count": 54,
     "metadata": {},
     "output_type": "execute_result"
    }
   ],
   "source": [
    "id(str1), id(str2)"
   ]
  },
  {
   "cell_type": "code",
   "execution_count": 55,
   "metadata": {},
   "outputs": [],
   "source": [
    "str1 = 'abc'\n",
    "str2 = 'abc'"
   ]
  },
  {
   "cell_type": "code",
   "execution_count": 56,
   "metadata": {},
   "outputs": [
    {
     "data": {
      "text/plain": [
       "True"
      ]
     },
     "execution_count": 56,
     "metadata": {},
     "output_type": "execute_result"
    }
   ],
   "source": [
    "str1 == str2"
   ]
  },
  {
   "cell_type": "code",
   "execution_count": 57,
   "metadata": {},
   "outputs": [
    {
     "data": {
      "text/plain": [
       "True"
      ]
     },
     "execution_count": 57,
     "metadata": {},
     "output_type": "execute_result"
    }
   ],
   "source": [
    "str1 is str2  #영문은 같게 나옴"
   ]
  },
  {
   "cell_type": "code",
   "execution_count": 58,
   "metadata": {},
   "outputs": [
    {
     "data": {
      "text/plain": [
       "(1684597979992, 1684597979992)"
      ]
     },
     "execution_count": 58,
     "metadata": {},
     "output_type": "execute_result"
    }
   ],
   "source": [
    "id(str1), id(str2)"
   ]
  },
  {
   "cell_type": "markdown",
   "metadata": {},
   "source": [
    "### Global, local name space\n",
    "- 3.6 이후 nonlocal"
   ]
  },
  {
   "cell_type": "code",
   "execution_count": 59,
   "metadata": {
    "collapsed": true,
    "jupyter": {
     "outputs_hidden": true
    }
   },
   "outputs": [
    {
     "data": {
      "text/plain": [
       "{'__name__': '__main__',\n",
       " '__doc__': 'Automatically created module for IPython interactive environment',\n",
       " '__package__': None,\n",
       " '__loader__': None,\n",
       " '__spec__': None,\n",
       " '__builtin__': <module 'builtins' (built-in)>,\n",
       " '__builtins__': <module 'builtins' (built-in)>,\n",
       " '_ih': ['',\n",
       "  'a = b = c = 5',\n",
       "  'a, b, c',\n",
       "  'id(a), id(b), id(c)',\n",
       "  'del a',\n",
       "  'b, c',\n",
       "  \"b = 'a'\",\n",
       "  'id(b), id(c)',\n",
       "  'id(b), id(c)  #b의 아이덴티티 값 변경',\n",
       "  'c = 10',\n",
       "  'id(b), id(c)  #c의 아이덴티티 값 변경',\n",
       "  'dir(b)',\n",
       "  'dir(c)',\n",
       "  'c = 20',\n",
       "  'id(c)',\n",
       "  'c = 10',\n",
       "  'id(b), id(c)  #c의 아이덴티티 값 변경',\n",
       "  'c = 20',\n",
       "  'id(c)',\n",
       "  'c = 10',\n",
       "  'id(c)',\n",
       "  'a = b = c = 10\\na, b, c',\n",
       "  'import sys\\nsys.getrefcount(10)',\n",
       "  'del a\\nsys.getrefcount(10)',\n",
       "  'del ㅠ\\nsys.getrefcount(10)',\n",
       "  'del b\\nsys.getrefcount(10)',\n",
       "  'a = object()\\na',\n",
       "  'id(a)',\n",
       "  'sys.getrefcount(a)',\n",
       "  'b = a  #copy\\nsys.getrefcount(a)',\n",
       "  'del a',\n",
       "  'sys.getrefcount(b)',\n",
       "  'a = 10\\nb = 10\\nid(a), id(b)',\n",
       "  'a is b',\n",
       "  'a == b',\n",
       "  'li1 = [1, 2, 3]\\nli2 = [1, 2, 3]',\n",
       "  'li1 = li2',\n",
       "  'li1 == li2',\n",
       "  'li1 is li2',\n",
       "  'li1 = [1, 2, 3]\\nli2 = [1, 2, 3]',\n",
       "  'li1 == li2',\n",
       "  'li1 is li2',\n",
       "  \"str1 = '가나'\\nstr2 = '가나'\",\n",
       "  'str1 == str2',\n",
       "  'str1 is str2',\n",
       "  'id(str1), id(sstr2)',\n",
       "  'id(str1), id(str2)',\n",
       "  \"str1 = 'abc'\\nstr2 = 'abc'\",\n",
       "  'str1 == str2',\n",
       "  'str1 is str2',\n",
       "  'id(str1), id(str2)',\n",
       "  \"str1 = '가나'\\nstr2 = '가나'\",\n",
       "  'str1 == str2',\n",
       "  'str1 is str2',\n",
       "  'id(str1), id(str2)',\n",
       "  \"str1 = 'abc'\\nstr2 = 'abc'\",\n",
       "  'str1 == str2',\n",
       "  'str1 is str2',\n",
       "  'id(str1), id(str2)',\n",
       "  'globals()'],\n",
       " '_oh': {2: (5, 5, 5),\n",
       "  3: (1360900416, 1360900416, 1360900416),\n",
       "  5: (5, 5),\n",
       "  7: (1684597898688, 1360900416),\n",
       "  8: (1684597898688, 1360900416),\n",
       "  10: (1684597898688, 1360900576),\n",
       "  11: ['__add__',\n",
       "   '__class__',\n",
       "   '__contains__',\n",
       "   '__delattr__',\n",
       "   '__dir__',\n",
       "   '__doc__',\n",
       "   '__eq__',\n",
       "   '__format__',\n",
       "   '__ge__',\n",
       "   '__getattribute__',\n",
       "   '__getitem__',\n",
       "   '__getnewargs__',\n",
       "   '__gt__',\n",
       "   '__hash__',\n",
       "   '__init__',\n",
       "   '__init_subclass__',\n",
       "   '__iter__',\n",
       "   '__le__',\n",
       "   '__len__',\n",
       "   '__lt__',\n",
       "   '__mod__',\n",
       "   '__mul__',\n",
       "   '__ne__',\n",
       "   '__new__',\n",
       "   '__reduce__',\n",
       "   '__reduce_ex__',\n",
       "   '__repr__',\n",
       "   '__rmod__',\n",
       "   '__rmul__',\n",
       "   '__setattr__',\n",
       "   '__sizeof__',\n",
       "   '__str__',\n",
       "   '__subclasshook__',\n",
       "   'capitalize',\n",
       "   'casefold',\n",
       "   'center',\n",
       "   'count',\n",
       "   'encode',\n",
       "   'endswith',\n",
       "   'expandtabs',\n",
       "   'find',\n",
       "   'format',\n",
       "   'format_map',\n",
       "   'index',\n",
       "   'isalnum',\n",
       "   'isalpha',\n",
       "   'isdecimal',\n",
       "   'isdigit',\n",
       "   'isidentifier',\n",
       "   'islower',\n",
       "   'isnumeric',\n",
       "   'isprintable',\n",
       "   'isspace',\n",
       "   'istitle',\n",
       "   'isupper',\n",
       "   'join',\n",
       "   'ljust',\n",
       "   'lower',\n",
       "   'lstrip',\n",
       "   'maketrans',\n",
       "   'partition',\n",
       "   'replace',\n",
       "   'rfind',\n",
       "   'rindex',\n",
       "   'rjust',\n",
       "   'rpartition',\n",
       "   'rsplit',\n",
       "   'rstrip',\n",
       "   'split',\n",
       "   'splitlines',\n",
       "   'startswith',\n",
       "   'strip',\n",
       "   'swapcase',\n",
       "   'title',\n",
       "   'translate',\n",
       "   'upper',\n",
       "   'zfill'],\n",
       "  12: ['__abs__',\n",
       "   '__add__',\n",
       "   '__and__',\n",
       "   '__bool__',\n",
       "   '__ceil__',\n",
       "   '__class__',\n",
       "   '__delattr__',\n",
       "   '__dir__',\n",
       "   '__divmod__',\n",
       "   '__doc__',\n",
       "   '__eq__',\n",
       "   '__float__',\n",
       "   '__floor__',\n",
       "   '__floordiv__',\n",
       "   '__format__',\n",
       "   '__ge__',\n",
       "   '__getattribute__',\n",
       "   '__getnewargs__',\n",
       "   '__gt__',\n",
       "   '__hash__',\n",
       "   '__index__',\n",
       "   '__init__',\n",
       "   '__init_subclass__',\n",
       "   '__int__',\n",
       "   '__invert__',\n",
       "   '__le__',\n",
       "   '__lshift__',\n",
       "   '__lt__',\n",
       "   '__mod__',\n",
       "   '__mul__',\n",
       "   '__ne__',\n",
       "   '__neg__',\n",
       "   '__new__',\n",
       "   '__or__',\n",
       "   '__pos__',\n",
       "   '__pow__',\n",
       "   '__radd__',\n",
       "   '__rand__',\n",
       "   '__rdivmod__',\n",
       "   '__reduce__',\n",
       "   '__reduce_ex__',\n",
       "   '__repr__',\n",
       "   '__rfloordiv__',\n",
       "   '__rlshift__',\n",
       "   '__rmod__',\n",
       "   '__rmul__',\n",
       "   '__ror__',\n",
       "   '__round__',\n",
       "   '__rpow__',\n",
       "   '__rrshift__',\n",
       "   '__rshift__',\n",
       "   '__rsub__',\n",
       "   '__rtruediv__',\n",
       "   '__rxor__',\n",
       "   '__setattr__',\n",
       "   '__sizeof__',\n",
       "   '__str__',\n",
       "   '__sub__',\n",
       "   '__subclasshook__',\n",
       "   '__truediv__',\n",
       "   '__trunc__',\n",
       "   '__xor__',\n",
       "   'bit_length',\n",
       "   'conjugate',\n",
       "   'denominator',\n",
       "   'from_bytes',\n",
       "   'imag',\n",
       "   'numerator',\n",
       "   'real',\n",
       "   'to_bytes'],\n",
       "  14: 1360900896,\n",
       "  16: (1684597898688, 1360900576),\n",
       "  18: 1360900896,\n",
       "  20: 1360900576,\n",
       "  21: (10, 10, 10),\n",
       "  22: 437,\n",
       "  23: 436,\n",
       "  25: 435,\n",
       "  26: <object at 0x1883e2058b0>,\n",
       "  27: 1684669487280,\n",
       "  28: 14,\n",
       "  29: 21,\n",
       "  31: 17,\n",
       "  32: (1360900576, 1360900576),\n",
       "  33: True,\n",
       "  34: True,\n",
       "  37: True,\n",
       "  38: True,\n",
       "  40: True,\n",
       "  41: False,\n",
       "  43: True,\n",
       "  44: False,\n",
       "  46: (1684699205680, 1684671043168),\n",
       "  48: True,\n",
       "  49: True,\n",
       "  50: (1684597979992, 1684597979992),\n",
       "  52: True,\n",
       "  53: False,\n",
       "  54: (1684691664544, 1684691664720),\n",
       "  56: True,\n",
       "  57: True,\n",
       "  58: (1684597979992, 1684597979992)},\n",
       " '_dh': ['C:\\\\Users\\\\Taehoon Choi\\\\python_daily\\\\day6'],\n",
       " 'In': ['',\n",
       "  'a = b = c = 5',\n",
       "  'a, b, c',\n",
       "  'id(a), id(b), id(c)',\n",
       "  'del a',\n",
       "  'b, c',\n",
       "  \"b = 'a'\",\n",
       "  'id(b), id(c)',\n",
       "  'id(b), id(c)  #b의 아이덴티티 값 변경',\n",
       "  'c = 10',\n",
       "  'id(b), id(c)  #c의 아이덴티티 값 변경',\n",
       "  'dir(b)',\n",
       "  'dir(c)',\n",
       "  'c = 20',\n",
       "  'id(c)',\n",
       "  'c = 10',\n",
       "  'id(b), id(c)  #c의 아이덴티티 값 변경',\n",
       "  'c = 20',\n",
       "  'id(c)',\n",
       "  'c = 10',\n",
       "  'id(c)',\n",
       "  'a = b = c = 10\\na, b, c',\n",
       "  'import sys\\nsys.getrefcount(10)',\n",
       "  'del a\\nsys.getrefcount(10)',\n",
       "  'del ㅠ\\nsys.getrefcount(10)',\n",
       "  'del b\\nsys.getrefcount(10)',\n",
       "  'a = object()\\na',\n",
       "  'id(a)',\n",
       "  'sys.getrefcount(a)',\n",
       "  'b = a  #copy\\nsys.getrefcount(a)',\n",
       "  'del a',\n",
       "  'sys.getrefcount(b)',\n",
       "  'a = 10\\nb = 10\\nid(a), id(b)',\n",
       "  'a is b',\n",
       "  'a == b',\n",
       "  'li1 = [1, 2, 3]\\nli2 = [1, 2, 3]',\n",
       "  'li1 = li2',\n",
       "  'li1 == li2',\n",
       "  'li1 is li2',\n",
       "  'li1 = [1, 2, 3]\\nli2 = [1, 2, 3]',\n",
       "  'li1 == li2',\n",
       "  'li1 is li2',\n",
       "  \"str1 = '가나'\\nstr2 = '가나'\",\n",
       "  'str1 == str2',\n",
       "  'str1 is str2',\n",
       "  'id(str1), id(sstr2)',\n",
       "  'id(str1), id(str2)',\n",
       "  \"str1 = 'abc'\\nstr2 = 'abc'\",\n",
       "  'str1 == str2',\n",
       "  'str1 is str2',\n",
       "  'id(str1), id(str2)',\n",
       "  \"str1 = '가나'\\nstr2 = '가나'\",\n",
       "  'str1 == str2',\n",
       "  'str1 is str2',\n",
       "  'id(str1), id(str2)',\n",
       "  \"str1 = 'abc'\\nstr2 = 'abc'\",\n",
       "  'str1 == str2',\n",
       "  'str1 is str2',\n",
       "  'id(str1), id(str2)',\n",
       "  'globals()'],\n",
       " 'Out': {2: (5, 5, 5),\n",
       "  3: (1360900416, 1360900416, 1360900416),\n",
       "  5: (5, 5),\n",
       "  7: (1684597898688, 1360900416),\n",
       "  8: (1684597898688, 1360900416),\n",
       "  10: (1684597898688, 1360900576),\n",
       "  11: ['__add__',\n",
       "   '__class__',\n",
       "   '__contains__',\n",
       "   '__delattr__',\n",
       "   '__dir__',\n",
       "   '__doc__',\n",
       "   '__eq__',\n",
       "   '__format__',\n",
       "   '__ge__',\n",
       "   '__getattribute__',\n",
       "   '__getitem__',\n",
       "   '__getnewargs__',\n",
       "   '__gt__',\n",
       "   '__hash__',\n",
       "   '__init__',\n",
       "   '__init_subclass__',\n",
       "   '__iter__',\n",
       "   '__le__',\n",
       "   '__len__',\n",
       "   '__lt__',\n",
       "   '__mod__',\n",
       "   '__mul__',\n",
       "   '__ne__',\n",
       "   '__new__',\n",
       "   '__reduce__',\n",
       "   '__reduce_ex__',\n",
       "   '__repr__',\n",
       "   '__rmod__',\n",
       "   '__rmul__',\n",
       "   '__setattr__',\n",
       "   '__sizeof__',\n",
       "   '__str__',\n",
       "   '__subclasshook__',\n",
       "   'capitalize',\n",
       "   'casefold',\n",
       "   'center',\n",
       "   'count',\n",
       "   'encode',\n",
       "   'endswith',\n",
       "   'expandtabs',\n",
       "   'find',\n",
       "   'format',\n",
       "   'format_map',\n",
       "   'index',\n",
       "   'isalnum',\n",
       "   'isalpha',\n",
       "   'isdecimal',\n",
       "   'isdigit',\n",
       "   'isidentifier',\n",
       "   'islower',\n",
       "   'isnumeric',\n",
       "   'isprintable',\n",
       "   'isspace',\n",
       "   'istitle',\n",
       "   'isupper',\n",
       "   'join',\n",
       "   'ljust',\n",
       "   'lower',\n",
       "   'lstrip',\n",
       "   'maketrans',\n",
       "   'partition',\n",
       "   'replace',\n",
       "   'rfind',\n",
       "   'rindex',\n",
       "   'rjust',\n",
       "   'rpartition',\n",
       "   'rsplit',\n",
       "   'rstrip',\n",
       "   'split',\n",
       "   'splitlines',\n",
       "   'startswith',\n",
       "   'strip',\n",
       "   'swapcase',\n",
       "   'title',\n",
       "   'translate',\n",
       "   'upper',\n",
       "   'zfill'],\n",
       "  12: ['__abs__',\n",
       "   '__add__',\n",
       "   '__and__',\n",
       "   '__bool__',\n",
       "   '__ceil__',\n",
       "   '__class__',\n",
       "   '__delattr__',\n",
       "   '__dir__',\n",
       "   '__divmod__',\n",
       "   '__doc__',\n",
       "   '__eq__',\n",
       "   '__float__',\n",
       "   '__floor__',\n",
       "   '__floordiv__',\n",
       "   '__format__',\n",
       "   '__ge__',\n",
       "   '__getattribute__',\n",
       "   '__getnewargs__',\n",
       "   '__gt__',\n",
       "   '__hash__',\n",
       "   '__index__',\n",
       "   '__init__',\n",
       "   '__init_subclass__',\n",
       "   '__int__',\n",
       "   '__invert__',\n",
       "   '__le__',\n",
       "   '__lshift__',\n",
       "   '__lt__',\n",
       "   '__mod__',\n",
       "   '__mul__',\n",
       "   '__ne__',\n",
       "   '__neg__',\n",
       "   '__new__',\n",
       "   '__or__',\n",
       "   '__pos__',\n",
       "   '__pow__',\n",
       "   '__radd__',\n",
       "   '__rand__',\n",
       "   '__rdivmod__',\n",
       "   '__reduce__',\n",
       "   '__reduce_ex__',\n",
       "   '__repr__',\n",
       "   '__rfloordiv__',\n",
       "   '__rlshift__',\n",
       "   '__rmod__',\n",
       "   '__rmul__',\n",
       "   '__ror__',\n",
       "   '__round__',\n",
       "   '__rpow__',\n",
       "   '__rrshift__',\n",
       "   '__rshift__',\n",
       "   '__rsub__',\n",
       "   '__rtruediv__',\n",
       "   '__rxor__',\n",
       "   '__setattr__',\n",
       "   '__sizeof__',\n",
       "   '__str__',\n",
       "   '__sub__',\n",
       "   '__subclasshook__',\n",
       "   '__truediv__',\n",
       "   '__trunc__',\n",
       "   '__xor__',\n",
       "   'bit_length',\n",
       "   'conjugate',\n",
       "   'denominator',\n",
       "   'from_bytes',\n",
       "   'imag',\n",
       "   'numerator',\n",
       "   'real',\n",
       "   'to_bytes'],\n",
       "  14: 1360900896,\n",
       "  16: (1684597898688, 1360900576),\n",
       "  18: 1360900896,\n",
       "  20: 1360900576,\n",
       "  21: (10, 10, 10),\n",
       "  22: 437,\n",
       "  23: 436,\n",
       "  25: 435,\n",
       "  26: <object at 0x1883e2058b0>,\n",
       "  27: 1684669487280,\n",
       "  28: 14,\n",
       "  29: 21,\n",
       "  31: 17,\n",
       "  32: (1360900576, 1360900576),\n",
       "  33: True,\n",
       "  34: True,\n",
       "  37: True,\n",
       "  38: True,\n",
       "  40: True,\n",
       "  41: False,\n",
       "  43: True,\n",
       "  44: False,\n",
       "  46: (1684699205680, 1684671043168),\n",
       "  48: True,\n",
       "  49: True,\n",
       "  50: (1684597979992, 1684597979992),\n",
       "  52: True,\n",
       "  53: False,\n",
       "  54: (1684691664544, 1684691664720),\n",
       "  56: True,\n",
       "  57: True,\n",
       "  58: (1684597979992, 1684597979992)},\n",
       " 'get_ipython': <bound method InteractiveShell.get_ipython of <ipykernel.zmqshell.ZMQInteractiveShell object at 0x000001883E2796D8>>,\n",
       " 'exit': <IPython.core.autocall.ZMQExitAutocall at 0x1883e344390>,\n",
       " 'quit': <IPython.core.autocall.ZMQExitAutocall at 0x1883e344390>,\n",
       " '_': (1684597979992, 1684597979992),\n",
       " '__': True,\n",
       " '___': True,\n",
       " '_i': 'id(str1), id(str2)',\n",
       " '_ii': 'str1 is str2',\n",
       " '_iii': 'str1 == str2',\n",
       " '_i1': 'a = b = c = 5',\n",
       " 'c': 10,\n",
       " '_i2': 'a, b, c',\n",
       " '_2': (5, 5, 5),\n",
       " '_i3': 'id(a), id(b), id(c)',\n",
       " '_3': (1360900416, 1360900416, 1360900416),\n",
       " '_i4': 'del a',\n",
       " '_i5': 'b, c',\n",
       " '_5': (5, 5),\n",
       " '_i6': \"b = 'a'\",\n",
       " '_i7': 'id(b), id(c)',\n",
       " '_7': (1684597898688, 1360900416),\n",
       " '_i8': 'id(b), id(c)  #b의 아이덴티티 값 변경',\n",
       " '_8': (1684597898688, 1360900416),\n",
       " '_i9': 'c = 10',\n",
       " '_i10': 'id(b), id(c)  #c의 아이덴티티 값 변경',\n",
       " '_10': (1684597898688, 1360900576),\n",
       " '_i11': 'dir(b)',\n",
       " '_11': ['__add__',\n",
       "  '__class__',\n",
       "  '__contains__',\n",
       "  '__delattr__',\n",
       "  '__dir__',\n",
       "  '__doc__',\n",
       "  '__eq__',\n",
       "  '__format__',\n",
       "  '__ge__',\n",
       "  '__getattribute__',\n",
       "  '__getitem__',\n",
       "  '__getnewargs__',\n",
       "  '__gt__',\n",
       "  '__hash__',\n",
       "  '__init__',\n",
       "  '__init_subclass__',\n",
       "  '__iter__',\n",
       "  '__le__',\n",
       "  '__len__',\n",
       "  '__lt__',\n",
       "  '__mod__',\n",
       "  '__mul__',\n",
       "  '__ne__',\n",
       "  '__new__',\n",
       "  '__reduce__',\n",
       "  '__reduce_ex__',\n",
       "  '__repr__',\n",
       "  '__rmod__',\n",
       "  '__rmul__',\n",
       "  '__setattr__',\n",
       "  '__sizeof__',\n",
       "  '__str__',\n",
       "  '__subclasshook__',\n",
       "  'capitalize',\n",
       "  'casefold',\n",
       "  'center',\n",
       "  'count',\n",
       "  'encode',\n",
       "  'endswith',\n",
       "  'expandtabs',\n",
       "  'find',\n",
       "  'format',\n",
       "  'format_map',\n",
       "  'index',\n",
       "  'isalnum',\n",
       "  'isalpha',\n",
       "  'isdecimal',\n",
       "  'isdigit',\n",
       "  'isidentifier',\n",
       "  'islower',\n",
       "  'isnumeric',\n",
       "  'isprintable',\n",
       "  'isspace',\n",
       "  'istitle',\n",
       "  'isupper',\n",
       "  'join',\n",
       "  'ljust',\n",
       "  'lower',\n",
       "  'lstrip',\n",
       "  'maketrans',\n",
       "  'partition',\n",
       "  'replace',\n",
       "  'rfind',\n",
       "  'rindex',\n",
       "  'rjust',\n",
       "  'rpartition',\n",
       "  'rsplit',\n",
       "  'rstrip',\n",
       "  'split',\n",
       "  'splitlines',\n",
       "  'startswith',\n",
       "  'strip',\n",
       "  'swapcase',\n",
       "  'title',\n",
       "  'translate',\n",
       "  'upper',\n",
       "  'zfill'],\n",
       " '_i12': 'dir(c)',\n",
       " '_12': ['__abs__',\n",
       "  '__add__',\n",
       "  '__and__',\n",
       "  '__bool__',\n",
       "  '__ceil__',\n",
       "  '__class__',\n",
       "  '__delattr__',\n",
       "  '__dir__',\n",
       "  '__divmod__',\n",
       "  '__doc__',\n",
       "  '__eq__',\n",
       "  '__float__',\n",
       "  '__floor__',\n",
       "  '__floordiv__',\n",
       "  '__format__',\n",
       "  '__ge__',\n",
       "  '__getattribute__',\n",
       "  '__getnewargs__',\n",
       "  '__gt__',\n",
       "  '__hash__',\n",
       "  '__index__',\n",
       "  '__init__',\n",
       "  '__init_subclass__',\n",
       "  '__int__',\n",
       "  '__invert__',\n",
       "  '__le__',\n",
       "  '__lshift__',\n",
       "  '__lt__',\n",
       "  '__mod__',\n",
       "  '__mul__',\n",
       "  '__ne__',\n",
       "  '__neg__',\n",
       "  '__new__',\n",
       "  '__or__',\n",
       "  '__pos__',\n",
       "  '__pow__',\n",
       "  '__radd__',\n",
       "  '__rand__',\n",
       "  '__rdivmod__',\n",
       "  '__reduce__',\n",
       "  '__reduce_ex__',\n",
       "  '__repr__',\n",
       "  '__rfloordiv__',\n",
       "  '__rlshift__',\n",
       "  '__rmod__',\n",
       "  '__rmul__',\n",
       "  '__ror__',\n",
       "  '__round__',\n",
       "  '__rpow__',\n",
       "  '__rrshift__',\n",
       "  '__rshift__',\n",
       "  '__rsub__',\n",
       "  '__rtruediv__',\n",
       "  '__rxor__',\n",
       "  '__setattr__',\n",
       "  '__sizeof__',\n",
       "  '__str__',\n",
       "  '__sub__',\n",
       "  '__subclasshook__',\n",
       "  '__truediv__',\n",
       "  '__trunc__',\n",
       "  '__xor__',\n",
       "  'bit_length',\n",
       "  'conjugate',\n",
       "  'denominator',\n",
       "  'from_bytes',\n",
       "  'imag',\n",
       "  'numerator',\n",
       "  'real',\n",
       "  'to_bytes'],\n",
       " '_i13': 'c = 20',\n",
       " '_i14': 'id(c)',\n",
       " '_14': 1360900896,\n",
       " '_i15': 'c = 10',\n",
       " '_i16': 'id(b), id(c)  #c의 아이덴티티 값 변경',\n",
       " '_16': (1684597898688, 1360900576),\n",
       " '_i17': 'c = 20',\n",
       " '_i18': 'id(c)',\n",
       " '_18': 1360900896,\n",
       " '_i19': 'c = 10',\n",
       " '_i20': 'id(c)',\n",
       " '_20': 1360900576,\n",
       " '_i21': 'a = b = c = 10\\na, b, c',\n",
       " '_21': (10, 10, 10),\n",
       " '_i22': 'import sys\\nsys.getrefcount(10)',\n",
       " 'sys': <module 'sys' (built-in)>,\n",
       " '_22': 437,\n",
       " '_i23': 'del a\\nsys.getrefcount(10)',\n",
       " '_23': 436,\n",
       " '_i24': 'del ㅠ\\nsys.getrefcount(10)',\n",
       " '_i25': 'del b\\nsys.getrefcount(10)',\n",
       " '_25': 435,\n",
       " '_i26': 'a = object()\\na',\n",
       " '_26': <object at 0x1883e2058b0>,\n",
       " '_i27': 'id(a)',\n",
       " '_27': 1684669487280,\n",
       " '_i28': 'sys.getrefcount(a)',\n",
       " '_28': 14,\n",
       " '_i29': 'b = a  #copy\\nsys.getrefcount(a)',\n",
       " 'b': 10,\n",
       " '_29': 21,\n",
       " '_i30': 'del a',\n",
       " '_i31': 'sys.getrefcount(b)',\n",
       " '_31': 17,\n",
       " '_i32': 'a = 10\\nb = 10\\nid(a), id(b)',\n",
       " 'a': 10,\n",
       " '_32': (1360900576, 1360900576),\n",
       " '_i33': 'a is b',\n",
       " '_33': True,\n",
       " '_i34': 'a == b',\n",
       " '_34': True,\n",
       " '_i35': 'li1 = [1, 2, 3]\\nli2 = [1, 2, 3]',\n",
       " 'li1': [1, 2, 3],\n",
       " 'li2': [1, 2, 3],\n",
       " '_i36': 'li1 = li2',\n",
       " '_i37': 'li1 == li2',\n",
       " '_37': True,\n",
       " '_i38': 'li1 is li2',\n",
       " '_38': True,\n",
       " '_i39': 'li1 = [1, 2, 3]\\nli2 = [1, 2, 3]',\n",
       " '_i40': 'li1 == li2',\n",
       " '_40': True,\n",
       " '_i41': 'li1 is li2',\n",
       " '_41': False,\n",
       " '_i42': \"str1 = '가나'\\nstr2 = '가나'\",\n",
       " 'str1': 'abc',\n",
       " 'str2': 'abc',\n",
       " '_i43': 'str1 == str2',\n",
       " '_43': True,\n",
       " '_i44': 'str1 is str2',\n",
       " '_44': False,\n",
       " '_i45': 'id(str1), id(sstr2)',\n",
       " '_i46': 'id(str1), id(str2)',\n",
       " '_46': (1684699205680, 1684671043168),\n",
       " '_i47': \"str1 = 'abc'\\nstr2 = 'abc'\",\n",
       " '_i48': 'str1 == str2',\n",
       " '_48': True,\n",
       " '_i49': 'str1 is str2',\n",
       " '_49': True,\n",
       " '_i50': 'id(str1), id(str2)',\n",
       " '_50': (1684597979992, 1684597979992),\n",
       " '_i51': \"str1 = '가나'\\nstr2 = '가나'\",\n",
       " '_i52': 'str1 == str2',\n",
       " '_52': True,\n",
       " '_i53': 'str1 is str2',\n",
       " '_53': False,\n",
       " '_i54': 'id(str1), id(str2)',\n",
       " '_54': (1684691664544, 1684691664720),\n",
       " '_i55': \"str1 = 'abc'\\nstr2 = 'abc'\",\n",
       " '_i56': 'str1 == str2',\n",
       " '_56': True,\n",
       " '_i57': 'str1 is str2',\n",
       " '_57': True,\n",
       " '_i58': 'id(str1), id(str2)',\n",
       " '_58': (1684597979992, 1684597979992),\n",
       " '_i59': 'globals()'}"
      ]
     },
     "execution_count": 59,
     "metadata": {},
     "output_type": "execute_result"
    }
   ],
   "source": [
    "globals()  #현재 실행되는 전체 영역"
   ]
  },
  {
   "cell_type": "code",
   "execution_count": 60,
   "metadata": {
    "collapsed": true,
    "jupyter": {
     "outputs_hidden": true
    }
   },
   "outputs": [
    {
     "data": {
      "text/plain": [
       "{'__name__': '__main__',\n",
       " '__doc__': 'Automatically created module for IPython interactive environment',\n",
       " '__package__': None,\n",
       " '__loader__': None,\n",
       " '__spec__': None,\n",
       " '__builtin__': <module 'builtins' (built-in)>,\n",
       " '__builtins__': <module 'builtins' (built-in)>,\n",
       " '_ih': ['',\n",
       "  'a = b = c = 5',\n",
       "  'a, b, c',\n",
       "  'id(a), id(b), id(c)',\n",
       "  'del a',\n",
       "  'b, c',\n",
       "  \"b = 'a'\",\n",
       "  'id(b), id(c)',\n",
       "  'id(b), id(c)  #b의 아이덴티티 값 변경',\n",
       "  'c = 10',\n",
       "  'id(b), id(c)  #c의 아이덴티티 값 변경',\n",
       "  'dir(b)',\n",
       "  'dir(c)',\n",
       "  'c = 20',\n",
       "  'id(c)',\n",
       "  'c = 10',\n",
       "  'id(b), id(c)  #c의 아이덴티티 값 변경',\n",
       "  'c = 20',\n",
       "  'id(c)',\n",
       "  'c = 10',\n",
       "  'id(c)',\n",
       "  'a = b = c = 10\\na, b, c',\n",
       "  'import sys\\nsys.getrefcount(10)',\n",
       "  'del a\\nsys.getrefcount(10)',\n",
       "  'del ㅠ\\nsys.getrefcount(10)',\n",
       "  'del b\\nsys.getrefcount(10)',\n",
       "  'a = object()\\na',\n",
       "  'id(a)',\n",
       "  'sys.getrefcount(a)',\n",
       "  'b = a  #copy\\nsys.getrefcount(a)',\n",
       "  'del a',\n",
       "  'sys.getrefcount(b)',\n",
       "  'a = 10\\nb = 10\\nid(a), id(b)',\n",
       "  'a is b',\n",
       "  'a == b',\n",
       "  'li1 = [1, 2, 3]\\nli2 = [1, 2, 3]',\n",
       "  'li1 = li2',\n",
       "  'li1 == li2',\n",
       "  'li1 is li2',\n",
       "  'li1 = [1, 2, 3]\\nli2 = [1, 2, 3]',\n",
       "  'li1 == li2',\n",
       "  'li1 is li2',\n",
       "  \"str1 = '가나'\\nstr2 = '가나'\",\n",
       "  'str1 == str2',\n",
       "  'str1 is str2',\n",
       "  'id(str1), id(sstr2)',\n",
       "  'id(str1), id(str2)',\n",
       "  \"str1 = 'abc'\\nstr2 = 'abc'\",\n",
       "  'str1 == str2',\n",
       "  'str1 is str2',\n",
       "  'id(str1), id(str2)',\n",
       "  \"str1 = '가나'\\nstr2 = '가나'\",\n",
       "  'str1 == str2',\n",
       "  'str1 is str2',\n",
       "  'id(str1), id(str2)',\n",
       "  \"str1 = 'abc'\\nstr2 = 'abc'\",\n",
       "  'str1 == str2',\n",
       "  'str1 is str2',\n",
       "  'id(str1), id(str2)',\n",
       "  'globals()',\n",
       "  'locals()'],\n",
       " '_oh': {2: (5, 5, 5),\n",
       "  3: (1360900416, 1360900416, 1360900416),\n",
       "  5: (5, 5),\n",
       "  7: (1684597898688, 1360900416),\n",
       "  8: (1684597898688, 1360900416),\n",
       "  10: (1684597898688, 1360900576),\n",
       "  11: ['__add__',\n",
       "   '__class__',\n",
       "   '__contains__',\n",
       "   '__delattr__',\n",
       "   '__dir__',\n",
       "   '__doc__',\n",
       "   '__eq__',\n",
       "   '__format__',\n",
       "   '__ge__',\n",
       "   '__getattribute__',\n",
       "   '__getitem__',\n",
       "   '__getnewargs__',\n",
       "   '__gt__',\n",
       "   '__hash__',\n",
       "   '__init__',\n",
       "   '__init_subclass__',\n",
       "   '__iter__',\n",
       "   '__le__',\n",
       "   '__len__',\n",
       "   '__lt__',\n",
       "   '__mod__',\n",
       "   '__mul__',\n",
       "   '__ne__',\n",
       "   '__new__',\n",
       "   '__reduce__',\n",
       "   '__reduce_ex__',\n",
       "   '__repr__',\n",
       "   '__rmod__',\n",
       "   '__rmul__',\n",
       "   '__setattr__',\n",
       "   '__sizeof__',\n",
       "   '__str__',\n",
       "   '__subclasshook__',\n",
       "   'capitalize',\n",
       "   'casefold',\n",
       "   'center',\n",
       "   'count',\n",
       "   'encode',\n",
       "   'endswith',\n",
       "   'expandtabs',\n",
       "   'find',\n",
       "   'format',\n",
       "   'format_map',\n",
       "   'index',\n",
       "   'isalnum',\n",
       "   'isalpha',\n",
       "   'isdecimal',\n",
       "   'isdigit',\n",
       "   'isidentifier',\n",
       "   'islower',\n",
       "   'isnumeric',\n",
       "   'isprintable',\n",
       "   'isspace',\n",
       "   'istitle',\n",
       "   'isupper',\n",
       "   'join',\n",
       "   'ljust',\n",
       "   'lower',\n",
       "   'lstrip',\n",
       "   'maketrans',\n",
       "   'partition',\n",
       "   'replace',\n",
       "   'rfind',\n",
       "   'rindex',\n",
       "   'rjust',\n",
       "   'rpartition',\n",
       "   'rsplit',\n",
       "   'rstrip',\n",
       "   'split',\n",
       "   'splitlines',\n",
       "   'startswith',\n",
       "   'strip',\n",
       "   'swapcase',\n",
       "   'title',\n",
       "   'translate',\n",
       "   'upper',\n",
       "   'zfill'],\n",
       "  12: ['__abs__',\n",
       "   '__add__',\n",
       "   '__and__',\n",
       "   '__bool__',\n",
       "   '__ceil__',\n",
       "   '__class__',\n",
       "   '__delattr__',\n",
       "   '__dir__',\n",
       "   '__divmod__',\n",
       "   '__doc__',\n",
       "   '__eq__',\n",
       "   '__float__',\n",
       "   '__floor__',\n",
       "   '__floordiv__',\n",
       "   '__format__',\n",
       "   '__ge__',\n",
       "   '__getattribute__',\n",
       "   '__getnewargs__',\n",
       "   '__gt__',\n",
       "   '__hash__',\n",
       "   '__index__',\n",
       "   '__init__',\n",
       "   '__init_subclass__',\n",
       "   '__int__',\n",
       "   '__invert__',\n",
       "   '__le__',\n",
       "   '__lshift__',\n",
       "   '__lt__',\n",
       "   '__mod__',\n",
       "   '__mul__',\n",
       "   '__ne__',\n",
       "   '__neg__',\n",
       "   '__new__',\n",
       "   '__or__',\n",
       "   '__pos__',\n",
       "   '__pow__',\n",
       "   '__radd__',\n",
       "   '__rand__',\n",
       "   '__rdivmod__',\n",
       "   '__reduce__',\n",
       "   '__reduce_ex__',\n",
       "   '__repr__',\n",
       "   '__rfloordiv__',\n",
       "   '__rlshift__',\n",
       "   '__rmod__',\n",
       "   '__rmul__',\n",
       "   '__ror__',\n",
       "   '__round__',\n",
       "   '__rpow__',\n",
       "   '__rrshift__',\n",
       "   '__rshift__',\n",
       "   '__rsub__',\n",
       "   '__rtruediv__',\n",
       "   '__rxor__',\n",
       "   '__setattr__',\n",
       "   '__sizeof__',\n",
       "   '__str__',\n",
       "   '__sub__',\n",
       "   '__subclasshook__',\n",
       "   '__truediv__',\n",
       "   '__trunc__',\n",
       "   '__xor__',\n",
       "   'bit_length',\n",
       "   'conjugate',\n",
       "   'denominator',\n",
       "   'from_bytes',\n",
       "   'imag',\n",
       "   'numerator',\n",
       "   'real',\n",
       "   'to_bytes'],\n",
       "  14: 1360900896,\n",
       "  16: (1684597898688, 1360900576),\n",
       "  18: 1360900896,\n",
       "  20: 1360900576,\n",
       "  21: (10, 10, 10),\n",
       "  22: 437,\n",
       "  23: 436,\n",
       "  25: 435,\n",
       "  26: <object at 0x1883e2058b0>,\n",
       "  27: 1684669487280,\n",
       "  28: 14,\n",
       "  29: 21,\n",
       "  31: 17,\n",
       "  32: (1360900576, 1360900576),\n",
       "  33: True,\n",
       "  34: True,\n",
       "  37: True,\n",
       "  38: True,\n",
       "  40: True,\n",
       "  41: False,\n",
       "  43: True,\n",
       "  44: False,\n",
       "  46: (1684699205680, 1684671043168),\n",
       "  48: True,\n",
       "  49: True,\n",
       "  50: (1684597979992, 1684597979992),\n",
       "  52: True,\n",
       "  53: False,\n",
       "  54: (1684691664544, 1684691664720),\n",
       "  56: True,\n",
       "  57: True,\n",
       "  58: (1684597979992, 1684597979992),\n",
       "  59: {...}},\n",
       " '_dh': ['C:\\\\Users\\\\Taehoon Choi\\\\python_daily\\\\day6'],\n",
       " 'In': ['',\n",
       "  'a = b = c = 5',\n",
       "  'a, b, c',\n",
       "  'id(a), id(b), id(c)',\n",
       "  'del a',\n",
       "  'b, c',\n",
       "  \"b = 'a'\",\n",
       "  'id(b), id(c)',\n",
       "  'id(b), id(c)  #b의 아이덴티티 값 변경',\n",
       "  'c = 10',\n",
       "  'id(b), id(c)  #c의 아이덴티티 값 변경',\n",
       "  'dir(b)',\n",
       "  'dir(c)',\n",
       "  'c = 20',\n",
       "  'id(c)',\n",
       "  'c = 10',\n",
       "  'id(b), id(c)  #c의 아이덴티티 값 변경',\n",
       "  'c = 20',\n",
       "  'id(c)',\n",
       "  'c = 10',\n",
       "  'id(c)',\n",
       "  'a = b = c = 10\\na, b, c',\n",
       "  'import sys\\nsys.getrefcount(10)',\n",
       "  'del a\\nsys.getrefcount(10)',\n",
       "  'del ㅠ\\nsys.getrefcount(10)',\n",
       "  'del b\\nsys.getrefcount(10)',\n",
       "  'a = object()\\na',\n",
       "  'id(a)',\n",
       "  'sys.getrefcount(a)',\n",
       "  'b = a  #copy\\nsys.getrefcount(a)',\n",
       "  'del a',\n",
       "  'sys.getrefcount(b)',\n",
       "  'a = 10\\nb = 10\\nid(a), id(b)',\n",
       "  'a is b',\n",
       "  'a == b',\n",
       "  'li1 = [1, 2, 3]\\nli2 = [1, 2, 3]',\n",
       "  'li1 = li2',\n",
       "  'li1 == li2',\n",
       "  'li1 is li2',\n",
       "  'li1 = [1, 2, 3]\\nli2 = [1, 2, 3]',\n",
       "  'li1 == li2',\n",
       "  'li1 is li2',\n",
       "  \"str1 = '가나'\\nstr2 = '가나'\",\n",
       "  'str1 == str2',\n",
       "  'str1 is str2',\n",
       "  'id(str1), id(sstr2)',\n",
       "  'id(str1), id(str2)',\n",
       "  \"str1 = 'abc'\\nstr2 = 'abc'\",\n",
       "  'str1 == str2',\n",
       "  'str1 is str2',\n",
       "  'id(str1), id(str2)',\n",
       "  \"str1 = '가나'\\nstr2 = '가나'\",\n",
       "  'str1 == str2',\n",
       "  'str1 is str2',\n",
       "  'id(str1), id(str2)',\n",
       "  \"str1 = 'abc'\\nstr2 = 'abc'\",\n",
       "  'str1 == str2',\n",
       "  'str1 is str2',\n",
       "  'id(str1), id(str2)',\n",
       "  'globals()',\n",
       "  'locals()'],\n",
       " 'Out': {2: (5, 5, 5),\n",
       "  3: (1360900416, 1360900416, 1360900416),\n",
       "  5: (5, 5),\n",
       "  7: (1684597898688, 1360900416),\n",
       "  8: (1684597898688, 1360900416),\n",
       "  10: (1684597898688, 1360900576),\n",
       "  11: ['__add__',\n",
       "   '__class__',\n",
       "   '__contains__',\n",
       "   '__delattr__',\n",
       "   '__dir__',\n",
       "   '__doc__',\n",
       "   '__eq__',\n",
       "   '__format__',\n",
       "   '__ge__',\n",
       "   '__getattribute__',\n",
       "   '__getitem__',\n",
       "   '__getnewargs__',\n",
       "   '__gt__',\n",
       "   '__hash__',\n",
       "   '__init__',\n",
       "   '__init_subclass__',\n",
       "   '__iter__',\n",
       "   '__le__',\n",
       "   '__len__',\n",
       "   '__lt__',\n",
       "   '__mod__',\n",
       "   '__mul__',\n",
       "   '__ne__',\n",
       "   '__new__',\n",
       "   '__reduce__',\n",
       "   '__reduce_ex__',\n",
       "   '__repr__',\n",
       "   '__rmod__',\n",
       "   '__rmul__',\n",
       "   '__setattr__',\n",
       "   '__sizeof__',\n",
       "   '__str__',\n",
       "   '__subclasshook__',\n",
       "   'capitalize',\n",
       "   'casefold',\n",
       "   'center',\n",
       "   'count',\n",
       "   'encode',\n",
       "   'endswith',\n",
       "   'expandtabs',\n",
       "   'find',\n",
       "   'format',\n",
       "   'format_map',\n",
       "   'index',\n",
       "   'isalnum',\n",
       "   'isalpha',\n",
       "   'isdecimal',\n",
       "   'isdigit',\n",
       "   'isidentifier',\n",
       "   'islower',\n",
       "   'isnumeric',\n",
       "   'isprintable',\n",
       "   'isspace',\n",
       "   'istitle',\n",
       "   'isupper',\n",
       "   'join',\n",
       "   'ljust',\n",
       "   'lower',\n",
       "   'lstrip',\n",
       "   'maketrans',\n",
       "   'partition',\n",
       "   'replace',\n",
       "   'rfind',\n",
       "   'rindex',\n",
       "   'rjust',\n",
       "   'rpartition',\n",
       "   'rsplit',\n",
       "   'rstrip',\n",
       "   'split',\n",
       "   'splitlines',\n",
       "   'startswith',\n",
       "   'strip',\n",
       "   'swapcase',\n",
       "   'title',\n",
       "   'translate',\n",
       "   'upper',\n",
       "   'zfill'],\n",
       "  12: ['__abs__',\n",
       "   '__add__',\n",
       "   '__and__',\n",
       "   '__bool__',\n",
       "   '__ceil__',\n",
       "   '__class__',\n",
       "   '__delattr__',\n",
       "   '__dir__',\n",
       "   '__divmod__',\n",
       "   '__doc__',\n",
       "   '__eq__',\n",
       "   '__float__',\n",
       "   '__floor__',\n",
       "   '__floordiv__',\n",
       "   '__format__',\n",
       "   '__ge__',\n",
       "   '__getattribute__',\n",
       "   '__getnewargs__',\n",
       "   '__gt__',\n",
       "   '__hash__',\n",
       "   '__index__',\n",
       "   '__init__',\n",
       "   '__init_subclass__',\n",
       "   '__int__',\n",
       "   '__invert__',\n",
       "   '__le__',\n",
       "   '__lshift__',\n",
       "   '__lt__',\n",
       "   '__mod__',\n",
       "   '__mul__',\n",
       "   '__ne__',\n",
       "   '__neg__',\n",
       "   '__new__',\n",
       "   '__or__',\n",
       "   '__pos__',\n",
       "   '__pow__',\n",
       "   '__radd__',\n",
       "   '__rand__',\n",
       "   '__rdivmod__',\n",
       "   '__reduce__',\n",
       "   '__reduce_ex__',\n",
       "   '__repr__',\n",
       "   '__rfloordiv__',\n",
       "   '__rlshift__',\n",
       "   '__rmod__',\n",
       "   '__rmul__',\n",
       "   '__ror__',\n",
       "   '__round__',\n",
       "   '__rpow__',\n",
       "   '__rrshift__',\n",
       "   '__rshift__',\n",
       "   '__rsub__',\n",
       "   '__rtruediv__',\n",
       "   '__rxor__',\n",
       "   '__setattr__',\n",
       "   '__sizeof__',\n",
       "   '__str__',\n",
       "   '__sub__',\n",
       "   '__subclasshook__',\n",
       "   '__truediv__',\n",
       "   '__trunc__',\n",
       "   '__xor__',\n",
       "   'bit_length',\n",
       "   'conjugate',\n",
       "   'denominator',\n",
       "   'from_bytes',\n",
       "   'imag',\n",
       "   'numerator',\n",
       "   'real',\n",
       "   'to_bytes'],\n",
       "  14: 1360900896,\n",
       "  16: (1684597898688, 1360900576),\n",
       "  18: 1360900896,\n",
       "  20: 1360900576,\n",
       "  21: (10, 10, 10),\n",
       "  22: 437,\n",
       "  23: 436,\n",
       "  25: 435,\n",
       "  26: <object at 0x1883e2058b0>,\n",
       "  27: 1684669487280,\n",
       "  28: 14,\n",
       "  29: 21,\n",
       "  31: 17,\n",
       "  32: (1360900576, 1360900576),\n",
       "  33: True,\n",
       "  34: True,\n",
       "  37: True,\n",
       "  38: True,\n",
       "  40: True,\n",
       "  41: False,\n",
       "  43: True,\n",
       "  44: False,\n",
       "  46: (1684699205680, 1684671043168),\n",
       "  48: True,\n",
       "  49: True,\n",
       "  50: (1684597979992, 1684597979992),\n",
       "  52: True,\n",
       "  53: False,\n",
       "  54: (1684691664544, 1684691664720),\n",
       "  56: True,\n",
       "  57: True,\n",
       "  58: (1684597979992, 1684597979992),\n",
       "  59: {...}},\n",
       " 'get_ipython': <bound method InteractiveShell.get_ipython of <ipykernel.zmqshell.ZMQInteractiveShell object at 0x000001883E2796D8>>,\n",
       " 'exit': <IPython.core.autocall.ZMQExitAutocall at 0x1883e344390>,\n",
       " 'quit': <IPython.core.autocall.ZMQExitAutocall at 0x1883e344390>,\n",
       " '_': {...},\n",
       " '__': (1684597979992, 1684597979992),\n",
       " '___': True,\n",
       " '_i': 'globals()',\n",
       " '_ii': 'id(str1), id(str2)',\n",
       " '_iii': 'str1 is str2',\n",
       " '_i1': 'a = b = c = 5',\n",
       " 'c': 10,\n",
       " '_i2': 'a, b, c',\n",
       " '_2': (5, 5, 5),\n",
       " '_i3': 'id(a), id(b), id(c)',\n",
       " '_3': (1360900416, 1360900416, 1360900416),\n",
       " '_i4': 'del a',\n",
       " '_i5': 'b, c',\n",
       " '_5': (5, 5),\n",
       " '_i6': \"b = 'a'\",\n",
       " '_i7': 'id(b), id(c)',\n",
       " '_7': (1684597898688, 1360900416),\n",
       " '_i8': 'id(b), id(c)  #b의 아이덴티티 값 변경',\n",
       " '_8': (1684597898688, 1360900416),\n",
       " '_i9': 'c = 10',\n",
       " '_i10': 'id(b), id(c)  #c의 아이덴티티 값 변경',\n",
       " '_10': (1684597898688, 1360900576),\n",
       " '_i11': 'dir(b)',\n",
       " '_11': ['__add__',\n",
       "  '__class__',\n",
       "  '__contains__',\n",
       "  '__delattr__',\n",
       "  '__dir__',\n",
       "  '__doc__',\n",
       "  '__eq__',\n",
       "  '__format__',\n",
       "  '__ge__',\n",
       "  '__getattribute__',\n",
       "  '__getitem__',\n",
       "  '__getnewargs__',\n",
       "  '__gt__',\n",
       "  '__hash__',\n",
       "  '__init__',\n",
       "  '__init_subclass__',\n",
       "  '__iter__',\n",
       "  '__le__',\n",
       "  '__len__',\n",
       "  '__lt__',\n",
       "  '__mod__',\n",
       "  '__mul__',\n",
       "  '__ne__',\n",
       "  '__new__',\n",
       "  '__reduce__',\n",
       "  '__reduce_ex__',\n",
       "  '__repr__',\n",
       "  '__rmod__',\n",
       "  '__rmul__',\n",
       "  '__setattr__',\n",
       "  '__sizeof__',\n",
       "  '__str__',\n",
       "  '__subclasshook__',\n",
       "  'capitalize',\n",
       "  'casefold',\n",
       "  'center',\n",
       "  'count',\n",
       "  'encode',\n",
       "  'endswith',\n",
       "  'expandtabs',\n",
       "  'find',\n",
       "  'format',\n",
       "  'format_map',\n",
       "  'index',\n",
       "  'isalnum',\n",
       "  'isalpha',\n",
       "  'isdecimal',\n",
       "  'isdigit',\n",
       "  'isidentifier',\n",
       "  'islower',\n",
       "  'isnumeric',\n",
       "  'isprintable',\n",
       "  'isspace',\n",
       "  'istitle',\n",
       "  'isupper',\n",
       "  'join',\n",
       "  'ljust',\n",
       "  'lower',\n",
       "  'lstrip',\n",
       "  'maketrans',\n",
       "  'partition',\n",
       "  'replace',\n",
       "  'rfind',\n",
       "  'rindex',\n",
       "  'rjust',\n",
       "  'rpartition',\n",
       "  'rsplit',\n",
       "  'rstrip',\n",
       "  'split',\n",
       "  'splitlines',\n",
       "  'startswith',\n",
       "  'strip',\n",
       "  'swapcase',\n",
       "  'title',\n",
       "  'translate',\n",
       "  'upper',\n",
       "  'zfill'],\n",
       " '_i12': 'dir(c)',\n",
       " '_12': ['__abs__',\n",
       "  '__add__',\n",
       "  '__and__',\n",
       "  '__bool__',\n",
       "  '__ceil__',\n",
       "  '__class__',\n",
       "  '__delattr__',\n",
       "  '__dir__',\n",
       "  '__divmod__',\n",
       "  '__doc__',\n",
       "  '__eq__',\n",
       "  '__float__',\n",
       "  '__floor__',\n",
       "  '__floordiv__',\n",
       "  '__format__',\n",
       "  '__ge__',\n",
       "  '__getattribute__',\n",
       "  '__getnewargs__',\n",
       "  '__gt__',\n",
       "  '__hash__',\n",
       "  '__index__',\n",
       "  '__init__',\n",
       "  '__init_subclass__',\n",
       "  '__int__',\n",
       "  '__invert__',\n",
       "  '__le__',\n",
       "  '__lshift__',\n",
       "  '__lt__',\n",
       "  '__mod__',\n",
       "  '__mul__',\n",
       "  '__ne__',\n",
       "  '__neg__',\n",
       "  '__new__',\n",
       "  '__or__',\n",
       "  '__pos__',\n",
       "  '__pow__',\n",
       "  '__radd__',\n",
       "  '__rand__',\n",
       "  '__rdivmod__',\n",
       "  '__reduce__',\n",
       "  '__reduce_ex__',\n",
       "  '__repr__',\n",
       "  '__rfloordiv__',\n",
       "  '__rlshift__',\n",
       "  '__rmod__',\n",
       "  '__rmul__',\n",
       "  '__ror__',\n",
       "  '__round__',\n",
       "  '__rpow__',\n",
       "  '__rrshift__',\n",
       "  '__rshift__',\n",
       "  '__rsub__',\n",
       "  '__rtruediv__',\n",
       "  '__rxor__',\n",
       "  '__setattr__',\n",
       "  '__sizeof__',\n",
       "  '__str__',\n",
       "  '__sub__',\n",
       "  '__subclasshook__',\n",
       "  '__truediv__',\n",
       "  '__trunc__',\n",
       "  '__xor__',\n",
       "  'bit_length',\n",
       "  'conjugate',\n",
       "  'denominator',\n",
       "  'from_bytes',\n",
       "  'imag',\n",
       "  'numerator',\n",
       "  'real',\n",
       "  'to_bytes'],\n",
       " '_i13': 'c = 20',\n",
       " '_i14': 'id(c)',\n",
       " '_14': 1360900896,\n",
       " '_i15': 'c = 10',\n",
       " '_i16': 'id(b), id(c)  #c의 아이덴티티 값 변경',\n",
       " '_16': (1684597898688, 1360900576),\n",
       " '_i17': 'c = 20',\n",
       " '_i18': 'id(c)',\n",
       " '_18': 1360900896,\n",
       " '_i19': 'c = 10',\n",
       " '_i20': 'id(c)',\n",
       " '_20': 1360900576,\n",
       " '_i21': 'a = b = c = 10\\na, b, c',\n",
       " '_21': (10, 10, 10),\n",
       " '_i22': 'import sys\\nsys.getrefcount(10)',\n",
       " 'sys': <module 'sys' (built-in)>,\n",
       " '_22': 437,\n",
       " '_i23': 'del a\\nsys.getrefcount(10)',\n",
       " '_23': 436,\n",
       " '_i24': 'del ㅠ\\nsys.getrefcount(10)',\n",
       " '_i25': 'del b\\nsys.getrefcount(10)',\n",
       " '_25': 435,\n",
       " '_i26': 'a = object()\\na',\n",
       " '_26': <object at 0x1883e2058b0>,\n",
       " '_i27': 'id(a)',\n",
       " '_27': 1684669487280,\n",
       " '_i28': 'sys.getrefcount(a)',\n",
       " '_28': 14,\n",
       " '_i29': 'b = a  #copy\\nsys.getrefcount(a)',\n",
       " 'b': 10,\n",
       " '_29': 21,\n",
       " '_i30': 'del a',\n",
       " '_i31': 'sys.getrefcount(b)',\n",
       " '_31': 17,\n",
       " '_i32': 'a = 10\\nb = 10\\nid(a), id(b)',\n",
       " 'a': 10,\n",
       " '_32': (1360900576, 1360900576),\n",
       " '_i33': 'a is b',\n",
       " '_33': True,\n",
       " '_i34': 'a == b',\n",
       " '_34': True,\n",
       " '_i35': 'li1 = [1, 2, 3]\\nli2 = [1, 2, 3]',\n",
       " 'li1': [1, 2, 3],\n",
       " 'li2': [1, 2, 3],\n",
       " '_i36': 'li1 = li2',\n",
       " '_i37': 'li1 == li2',\n",
       " '_37': True,\n",
       " '_i38': 'li1 is li2',\n",
       " '_38': True,\n",
       " '_i39': 'li1 = [1, 2, 3]\\nli2 = [1, 2, 3]',\n",
       " '_i40': 'li1 == li2',\n",
       " '_40': True,\n",
       " '_i41': 'li1 is li2',\n",
       " '_41': False,\n",
       " '_i42': \"str1 = '가나'\\nstr2 = '가나'\",\n",
       " 'str1': 'abc',\n",
       " 'str2': 'abc',\n",
       " '_i43': 'str1 == str2',\n",
       " '_43': True,\n",
       " '_i44': 'str1 is str2',\n",
       " '_44': False,\n",
       " '_i45': 'id(str1), id(sstr2)',\n",
       " '_i46': 'id(str1), id(str2)',\n",
       " '_46': (1684699205680, 1684671043168),\n",
       " '_i47': \"str1 = 'abc'\\nstr2 = 'abc'\",\n",
       " '_i48': 'str1 == str2',\n",
       " '_48': True,\n",
       " '_i49': 'str1 is str2',\n",
       " '_49': True,\n",
       " '_i50': 'id(str1), id(str2)',\n",
       " '_50': (1684597979992, 1684597979992),\n",
       " '_i51': \"str1 = '가나'\\nstr2 = '가나'\",\n",
       " '_i52': 'str1 == str2',\n",
       " '_52': True,\n",
       " '_i53': 'str1 is str2',\n",
       " '_53': False,\n",
       " '_i54': 'id(str1), id(str2)',\n",
       " '_54': (1684691664544, 1684691664720),\n",
       " '_i55': \"str1 = 'abc'\\nstr2 = 'abc'\",\n",
       " '_i56': 'str1 == str2',\n",
       " '_56': True,\n",
       " '_i57': 'str1 is str2',\n",
       " '_57': True,\n",
       " '_i58': 'id(str1), id(str2)',\n",
       " '_58': (1684597979992, 1684597979992),\n",
       " '_i59': 'globals()',\n",
       " '_59': {...},\n",
       " '_i60': 'locals()'}"
      ]
     },
     "execution_count": 60,
     "metadata": {},
     "output_type": "execute_result"
    }
   ],
   "source": [
    "locals()"
   ]
  },
  {
   "cell_type": "markdown",
   "metadata": {},
   "source": [
    "## 객체의 복사\n",
    "\n",
    "- 얕은 복사: 대입연산, `copy()`\n",
    "- 깊은 복사: `deepcopy()`"
   ]
  },
  {
   "cell_type": "markdown",
   "metadata": {},
   "source": [
    "### 얕은 복사"
   ]
  },
  {
   "cell_type": "code",
   "execution_count": 61,
   "metadata": {},
   "outputs": [
    {
     "data": {
      "text/plain": [
       "('헬로', '헬로', '헬로')"
      ]
     },
     "execution_count": 61,
     "metadata": {},
     "output_type": "execute_result"
    }
   ],
   "source": [
    "a = b = c = '헬로'  #c에 '헬로'가 들어가고 c에서 b와 a로 복사\n",
    "a, b, c"
   ]
  },
  {
   "cell_type": "code",
   "execution_count": 62,
   "metadata": {},
   "outputs": [
    {
     "data": {
      "text/plain": [
       "(1684691664808, 1684691664808, 1684691664808)"
      ]
     },
     "execution_count": 62,
     "metadata": {},
     "output_type": "execute_result"
    }
   ],
   "source": [
    "id(a), id(b), id(c)"
   ]
  },
  {
   "cell_type": "code",
   "execution_count": 64,
   "metadata": {},
   "outputs": [],
   "source": [
    "a = '헬로'\n",
    "b = '헬로'\n",
    "c = '헬로'"
   ]
  },
  {
   "cell_type": "code",
   "execution_count": 65,
   "metadata": {},
   "outputs": [
    {
     "data": {
      "text/plain": [
       "(1684671041848, 1684671042376, 1684671042200)"
      ]
     },
     "execution_count": 65,
     "metadata": {},
     "output_type": "execute_result"
    }
   ],
   "source": [
    "id(a), id(b), id(c)"
   ]
  },
  {
   "cell_type": "markdown",
   "metadata": {},
   "source": [
    "#### Mutable: list"
   ]
  },
  {
   "cell_type": "code",
   "execution_count": 66,
   "metadata": {},
   "outputs": [
    {
     "data": {
      "text/plain": [
       "1684697973640"
      ]
     },
     "execution_count": 66,
     "metadata": {},
     "output_type": "execute_result"
    }
   ],
   "source": [
    "a = [1, 2, 3, 4]\n",
    "id(a)"
   ]
  },
  {
   "cell_type": "code",
   "execution_count": 67,
   "metadata": {},
   "outputs": [
    {
     "data": {
      "text/plain": [
       "1684697973640"
      ]
     },
     "execution_count": 67,
     "metadata": {},
     "output_type": "execute_result"
    }
   ],
   "source": [
    "a[0] = 10\n",
    "id(a)       #대입 연산이 일어났을 때 id 값이 똑같음"
   ]
  },
  {
   "cell_type": "code",
   "execution_count": 68,
   "metadata": {},
   "outputs": [
    {
     "data": {
      "text/plain": [
       "1684697973640"
      ]
     },
     "execution_count": 68,
     "metadata": {},
     "output_type": "execute_result"
    }
   ],
   "source": [
    "b = a\n",
    "id(b)"
   ]
  },
  {
   "cell_type": "code",
   "execution_count": 69,
   "metadata": {},
   "outputs": [
    {
     "data": {
      "text/plain": [
       "1684697973640"
      ]
     },
     "execution_count": 69,
     "metadata": {},
     "output_type": "execute_result"
    }
   ],
   "source": [
    "b[0] = 1\n",
    "id(b)"
   ]
  },
  {
   "cell_type": "markdown",
   "metadata": {},
   "source": [
    "#### 뮤터블: slicing 복사"
   ]
  },
  {
   "cell_type": "code",
   "execution_count": 71,
   "metadata": {},
   "outputs": [],
   "source": [
    "a = [1, 2, 3, 4]"
   ]
  },
  {
   "cell_type": "code",
   "execution_count": 72,
   "metadata": {},
   "outputs": [
    {
     "data": {
      "text/plain": [
       "(1684698187016, 1684698360136)"
      ]
     },
     "execution_count": 72,
     "metadata": {},
     "output_type": "execute_result"
    }
   ],
   "source": [
    "b = a[:]\n",
    "id(a), id(b)"
   ]
  },
  {
   "cell_type": "code",
   "execution_count": 73,
   "metadata": {},
   "outputs": [
    {
     "data": {
      "text/plain": [
       "([1, 2, 3, 4], [100, 2, 3, 4])"
      ]
     },
     "execution_count": 73,
     "metadata": {},
     "output_type": "execute_result"
    }
   ],
   "source": [
    "b[0] = 100\n",
    "a, b"
   ]
  },
  {
   "cell_type": "markdown",
   "metadata": {},
   "source": [
    "리스트 안의 리스트"
   ]
  },
  {
   "cell_type": "code",
   "execution_count": 74,
   "metadata": {},
   "outputs": [
    {
     "data": {
      "text/plain": [
       "(1684698388936, 1684698360840)"
      ]
     },
     "execution_count": 74,
     "metadata": {},
     "output_type": "execute_result"
    }
   ],
   "source": [
    "a = [[1,2],[3,4]]  \n",
    "b = a[:]\n",
    "id(a), id(b)"
   ]
  },
  {
   "cell_type": "code",
   "execution_count": 75,
   "metadata": {},
   "outputs": [
    {
     "data": {
      "text/plain": [
       "(1684698173256, 1684698173256)"
      ]
     },
     "execution_count": 75,
     "metadata": {},
     "output_type": "execute_result"
    }
   ],
   "source": [
    "id(a[0]), id(b[0])  # 리스트 내부의 요인은 변화x"
   ]
  },
  {
   "cell_type": "code",
   "execution_count": 76,
   "metadata": {},
   "outputs": [],
   "source": [
    "import copy"
   ]
  },
  {
   "cell_type": "code",
   "execution_count": 77,
   "metadata": {},
   "outputs": [],
   "source": [
    "a = [[1,2],[3,4]]  \n",
    "b = a.copy()       #\n",
    "b = copy.copy(a)   #"
   ]
  },
  {
   "cell_type": "code",
   "execution_count": 78,
   "metadata": {},
   "outputs": [
    {
     "data": {
      "text/plain": [
       "(1684698451720, 1684698451720)"
      ]
     },
     "execution_count": 78,
     "metadata": {},
     "output_type": "execute_result"
    }
   ],
   "source": [
    "id(a[0]), id(b[0])"
   ]
  },
  {
   "cell_type": "markdown",
   "metadata": {},
   "source": [
    "### 깊은 복사: copy.deepcopy()"
   ]
  },
  {
   "cell_type": "code",
   "execution_count": 79,
   "metadata": {},
   "outputs": [
    {
     "data": {
      "text/plain": [
       "(1684698451400, 1684698428680)"
      ]
     },
     "execution_count": 79,
     "metadata": {},
     "output_type": "execute_result"
    }
   ],
   "source": [
    "id(a), id(b)"
   ]
  },
  {
   "cell_type": "code",
   "execution_count": 80,
   "metadata": {},
   "outputs": [
    {
     "data": {
      "text/plain": [
       "(1684698451720, 1684698451720)"
      ]
     },
     "execution_count": 80,
     "metadata": {},
     "output_type": "execute_result"
    }
   ],
   "source": [
    "id(a[0]), id(b[0])"
   ]
  },
  {
   "cell_type": "code",
   "execution_count": null,
   "metadata": {},
   "outputs": [],
   "source": []
  }
 ],
 "metadata": {
  "kernelspec": {
   "display_name": "Python 3",
   "language": "python",
   "name": "python3"
  },
  "language_info": {
   "codemirror_mode": {
    "name": "ipython",
    "version": 3
   },
   "file_extension": ".py",
   "mimetype": "text/x-python",
   "name": "python",
   "nbconvert_exporter": "python",
   "pygments_lexer": "ipython3",
   "version": "3.6.12"
  }
 },
 "nbformat": 4,
 "nbformat_minor": 4
}
