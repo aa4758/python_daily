{
 "cells": [
  {
   "cell_type": "code",
   "execution_count": 1,
   "metadata": {},
   "outputs": [],
   "source": [
    "stone = [[0, 0, 0, 0, 0, 0, 0, 0, 0],\\\n",
    "        [0, 1, 0, 1, 2, 1, 2, 1, 0],\\\n",
    "        [0, 2, 1, 1, 1, 2, 2, 0, 0],\\\n",
    "        [0, 0, 2, 2, 2, 1, 0, 2, 0],\\\n",
    "        [0, 0, 0, 0, 0, 1, 0, 2, 1],\\\n",
    "        [0, 0, 0, 2, 0, 1, 2, 1, 0],\\\n",
    "        [0, 0, 0, 2, 1, 0, 1, 1, 0],\\\n",
    "        [0, 0, 0, 1, 1, 0, 0, 0, 0],\\\n",
    "        [0, 0, 0, 0, 2, 2, 2, 0, 0]] "
   ]
  },
  {
   "cell_type": "code",
   "execution_count": 10,
   "metadata": {},
   "outputs": [
    {
     "name": "stdout",
     "output_type": "stream",
     "text": [
      "17 16\n"
     ]
    }
   ],
   "source": [
    "black = 0\n",
    "white = 0\n",
    "\n",
    "for i in range(9):\n",
    "    for j in range(9):\n",
    "        if stone[i][j] == 1:\n",
    "            black += 1\n",
    "        elif stone[i][j] == 2:\n",
    "            white += 1\n",
    "print(black, white)"
   ]
  },
  {
   "cell_type": "code",
   "execution_count": 18,
   "metadata": {},
   "outputs": [
    {
     "name": "stdout",
     "output_type": "stream",
     "text": [
      "  x  x  x  x  x  x  x  x  x\n",
      "  x  ●  x  ●  ○  ●  ○  ●  x\n",
      "  x  ○  ●  ●  ●  ○  ○  x  x\n",
      "  x  x  ○  ○  ○  ●  x  ○  x\n",
      "  x  x  x  x  x  ●  x  ○  ●\n",
      "  x  x  x  ○  x  ●  ○  ●  x\n",
      "  x  x  x  ○  ●  x  ●  ●  x\n",
      "  x  x  x  ●  ●  x  x  x  x\n",
      "  x  x  x  x  ○  ○  ○  x  x\n"
     ]
    }
   ],
   "source": [
    "for i in range(9):\n",
    "    for j in range(9):\n",
    "        if stone[i][j] == 1:\n",
    "            print('%3s' % '●', end=\"\")\n",
    "        elif stone[i][j] == 2:\n",
    "            print('%3s' % '○', end=\"\")\n",
    "        else:\n",
    "            print('%3s' % 'x', end='')\n",
    "    print()"
   ]
  },
  {
   "cell_type": "code",
   "execution_count": null,
   "metadata": {},
   "outputs": [],
   "source": []
  }
 ],
 "metadata": {
  "kernelspec": {
   "display_name": "Python 3",
   "language": "python",
   "name": "python3"
  },
  "language_info": {
   "codemirror_mode": {
    "name": "ipython",
    "version": 3
   },
   "file_extension": ".py",
   "mimetype": "text/x-python",
   "name": "python",
   "nbconvert_exporter": "python",
   "pygments_lexer": "ipython3",
   "version": "3.6.12"
  }
 },
 "nbformat": 4,
 "nbformat_minor": 4
}
