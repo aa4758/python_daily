{
 "cells": [
  {
   "cell_type": "code",
   "execution_count": 12,
   "metadata": {},
   "outputs": [
    {
     "name": "stdout",
     "output_type": "stream",
     "text": [
      "안녕하세요.\n",
      "\n",
      "안녕하세요.\n",
      "\n",
      "안녕하세요.\n",
      "\n"
     ]
    }
   ],
   "source": [
    "def hello():\n",
    "    print('안녕하세요.')\n",
    "    print()\n",
    "hello()\n",
    "hello()\n",
    "hello()"
   ]
  },
  {
   "cell_type": "code",
   "execution_count": 18,
   "metadata": {},
   "outputs": [],
   "source": [
    "def world():\n",
    "    print('헬로 으ㅝㄹ드')"
   ]
  },
  {
   "cell_type": "code",
   "execution_count": 19,
   "metadata": {},
   "outputs": [
    {
     "name": "stdout",
     "output_type": "stream",
     "text": [
      "헬로 으ㅝㄹ드\n"
     ]
    }
   ],
   "source": [
    "world()"
   ]
  },
  {
   "cell_type": "code",
   "execution_count": 13,
   "metadata": {},
   "outputs": [
    {
     "data": {
      "text/plain": [
       "function"
      ]
     },
     "execution_count": 13,
     "metadata": {},
     "output_type": "execute_result"
    }
   ],
   "source": [
    "type(hello)"
   ]
  },
  {
   "cell_type": "code",
   "execution_count": 14,
   "metadata": {},
   "outputs": [
    {
     "data": {
      "text/plain": [
       "builtin_function_or_method"
      ]
     },
     "execution_count": 14,
     "metadata": {},
     "output_type": "execute_result"
    }
   ],
   "source": [
    "type(print)"
   ]
  },
  {
   "cell_type": "code",
   "execution_count": 15,
   "metadata": {},
   "outputs": [
    {
     "data": {
      "text/plain": [
       "builtin_function_or_method"
      ]
     },
     "execution_count": 15,
     "metadata": {},
     "output_type": "execute_result"
    }
   ],
   "source": [
    "type(sum)"
   ]
  },
  {
   "cell_type": "code",
   "execution_count": 16,
   "metadata": {},
   "outputs": [
    {
     "data": {
      "text/plain": [
       "False"
      ]
     },
     "execution_count": 16,
     "metadata": {},
     "output_type": "execute_result"
    }
   ],
   "source": [
    "hello is print"
   ]
  },
  {
   "cell_type": "markdown",
   "metadata": {},
   "source": [
    "## 매개변수"
   ]
  },
  {
   "cell_type": "code",
   "execution_count": 35,
   "metadata": {},
   "outputs": [],
   "source": [
    "def hello(a, b, c):\n",
    "    print(a, b, c)"
   ]
  },
  {
   "cell_type": "code",
   "execution_count": 36,
   "metadata": {},
   "outputs": [
    {
     "name": "stdout",
     "output_type": "stream",
     "text": [
      "1 가 3.2\n"
     ]
    }
   ],
   "source": [
    "hello(1, '가', 3.2)"
   ]
  },
  {
   "cell_type": "code",
   "execution_count": 37,
   "metadata": {},
   "outputs": [
    {
     "name": "stdout",
     "output_type": "stream",
     "text": [
      "[1, 2, 3] {'key': 'value'} (1, 2, 3, 4, 5, 6)\n"
     ]
    }
   ],
   "source": [
    "hello([1, 2, 3,], {'key':'value'},(1, 2, 3, 4, 5, 6))"
   ]
  },
  {
   "cell_type": "code",
   "execution_count": 38,
   "metadata": {},
   "outputs": [],
   "source": [
    "def even_odd(num):\n",
    "    if num % 2 == 0:\n",
    "        print('%d는 짝수이다' % num)\n",
    "    else:\n",
    "        print('%d는 홀수이다' % num)"
   ]
  },
  {
   "cell_type": "code",
   "execution_count": 40,
   "metadata": {},
   "outputs": [
    {
     "name": "stdout",
     "output_type": "stream",
     "text": [
      "7는 홀수이다\n"
     ]
    }
   ],
   "source": [
    "even_odd(7)"
   ]
  },
  {
   "cell_type": "code",
   "execution_count": 41,
   "metadata": {},
   "outputs": [
    {
     "name": "stdout",
     "output_type": "stream",
     "text": [
      "12는 짝수이다\n"
     ]
    }
   ],
   "source": [
    "even_odd(12)"
   ]
  },
  {
   "cell_type": "code",
   "execution_count": 42,
   "metadata": {
    "collapsed": true,
    "jupyter": {
     "outputs_hidden": true
    }
   },
   "outputs": [
    {
     "name": "stdout",
     "output_type": "stream",
     "text": [
      "1는 홀수이다\n",
      "2는 짝수이다\n",
      "3는 홀수이다\n",
      "4는 짝수이다\n",
      "5는 홀수이다\n",
      "6는 짝수이다\n",
      "7는 홀수이다\n",
      "8는 짝수이다\n",
      "9는 홀수이다\n",
      "10는 짝수이다\n",
      "11는 홀수이다\n",
      "12는 짝수이다\n",
      "13는 홀수이다\n",
      "14는 짝수이다\n",
      "15는 홀수이다\n",
      "16는 짝수이다\n",
      "17는 홀수이다\n",
      "18는 짝수이다\n",
      "19는 홀수이다\n",
      "20는 짝수이다\n",
      "21는 홀수이다\n",
      "22는 짝수이다\n",
      "23는 홀수이다\n",
      "24는 짝수이다\n",
      "25는 홀수이다\n",
      "26는 짝수이다\n",
      "27는 홀수이다\n",
      "28는 짝수이다\n",
      "29는 홀수이다\n",
      "30는 짝수이다\n",
      "31는 홀수이다\n",
      "32는 짝수이다\n",
      "33는 홀수이다\n",
      "34는 짝수이다\n",
      "35는 홀수이다\n",
      "36는 짝수이다\n",
      "37는 홀수이다\n",
      "38는 짝수이다\n",
      "39는 홀수이다\n",
      "40는 짝수이다\n",
      "41는 홀수이다\n",
      "42는 짝수이다\n",
      "43는 홀수이다\n",
      "44는 짝수이다\n",
      "45는 홀수이다\n",
      "46는 짝수이다\n",
      "47는 홀수이다\n",
      "48는 짝수이다\n",
      "49는 홀수이다\n",
      "50는 짝수이다\n",
      "51는 홀수이다\n",
      "52는 짝수이다\n",
      "53는 홀수이다\n",
      "54는 짝수이다\n",
      "55는 홀수이다\n",
      "56는 짝수이다\n",
      "57는 홀수이다\n",
      "58는 짝수이다\n",
      "59는 홀수이다\n",
      "60는 짝수이다\n",
      "61는 홀수이다\n",
      "62는 짝수이다\n",
      "63는 홀수이다\n",
      "64는 짝수이다\n",
      "65는 홀수이다\n",
      "66는 짝수이다\n",
      "67는 홀수이다\n",
      "68는 짝수이다\n",
      "69는 홀수이다\n",
      "70는 짝수이다\n",
      "71는 홀수이다\n",
      "72는 짝수이다\n",
      "73는 홀수이다\n",
      "74는 짝수이다\n",
      "75는 홀수이다\n",
      "76는 짝수이다\n",
      "77는 홀수이다\n",
      "78는 짝수이다\n",
      "79는 홀수이다\n",
      "80는 짝수이다\n",
      "81는 홀수이다\n",
      "82는 짝수이다\n",
      "83는 홀수이다\n",
      "84는 짝수이다\n",
      "85는 홀수이다\n",
      "86는 짝수이다\n",
      "87는 홀수이다\n",
      "88는 짝수이다\n",
      "89는 홀수이다\n",
      "90는 짝수이다\n",
      "91는 홀수이다\n",
      "92는 짝수이다\n",
      "93는 홀수이다\n",
      "94는 짝수이다\n",
      "95는 홀수이다\n",
      "96는 짝수이다\n",
      "97는 홀수이다\n",
      "98는 짝수이다\n",
      "99는 홀수이다\n"
     ]
    }
   ],
   "source": [
    "for i in range(1, 100):\n",
    "    even_odd(i)"
   ]
  },
  {
   "cell_type": "code",
   "execution_count": 43,
   "metadata": {
    "collapsed": true,
    "jupyter": {
     "outputs_hidden": true
    }
   },
   "outputs": [
    {
     "ename": "TypeError",
     "evalue": "not all arguments converted during string formatting",
     "output_type": "error",
     "traceback": [
      "\u001b[1;31m---------------------------------------------------------------------------\u001b[0m",
      "\u001b[1;31mTypeError\u001b[0m                                 Traceback (most recent call last)",
      "\u001b[1;32m<ipython-input-43-5c37f3c3f857>\u001b[0m in \u001b[0;36m<module>\u001b[1;34m\u001b[0m\n\u001b[1;32m----> 1\u001b[1;33m \u001b[0meven_odd\u001b[0m\u001b[1;33m(\u001b[0m\u001b[1;34m'하나'\u001b[0m\u001b[1;33m)\u001b[0m\u001b[1;33m\u001b[0m\u001b[1;33m\u001b[0m\u001b[0m\n\u001b[0m",
      "\u001b[1;32m<ipython-input-38-c04ae9ec2844>\u001b[0m in \u001b[0;36meven_odd\u001b[1;34m(num)\u001b[0m\n\u001b[0;32m      1\u001b[0m \u001b[1;32mdef\u001b[0m \u001b[0meven_odd\u001b[0m\u001b[1;33m(\u001b[0m\u001b[0mnum\u001b[0m\u001b[1;33m)\u001b[0m\u001b[1;33m:\u001b[0m\u001b[1;33m\u001b[0m\u001b[1;33m\u001b[0m\u001b[0m\n\u001b[1;32m----> 2\u001b[1;33m     \u001b[1;32mif\u001b[0m \u001b[0mnum\u001b[0m \u001b[1;33m%\u001b[0m \u001b[1;36m2\u001b[0m \u001b[1;33m==\u001b[0m \u001b[1;36m0\u001b[0m\u001b[1;33m:\u001b[0m\u001b[1;33m\u001b[0m\u001b[1;33m\u001b[0m\u001b[0m\n\u001b[0m\u001b[0;32m      3\u001b[0m         \u001b[0mprint\u001b[0m\u001b[1;33m(\u001b[0m\u001b[1;34m'%d는 짝수이다'\u001b[0m \u001b[1;33m%\u001b[0m \u001b[0mnum\u001b[0m\u001b[1;33m)\u001b[0m\u001b[1;33m\u001b[0m\u001b[1;33m\u001b[0m\u001b[0m\n\u001b[0;32m      4\u001b[0m     \u001b[1;32melse\u001b[0m\u001b[1;33m:\u001b[0m\u001b[1;33m\u001b[0m\u001b[1;33m\u001b[0m\u001b[0m\n\u001b[0;32m      5\u001b[0m         \u001b[0mprint\u001b[0m\u001b[1;33m(\u001b[0m\u001b[1;34m'%d는 홀수이다'\u001b[0m \u001b[1;33m%\u001b[0m \u001b[0mnum\u001b[0m\u001b[1;33m)\u001b[0m\u001b[1;33m\u001b[0m\u001b[1;33m\u001b[0m\u001b[0m\n",
      "\u001b[1;31mTypeError\u001b[0m: not all arguments converted during string formatting"
     ]
    }
   ],
   "source": [
    "even_odd('하나')"
   ]
  },
  {
   "cell_type": "code",
   "execution_count": 44,
   "metadata": {
    "collapsed": true,
    "jupyter": {
     "outputs_hidden": true
    }
   },
   "outputs": [
    {
     "ename": "TypeError",
     "evalue": "even_odd() missing 1 required positional argument: 'num'",
     "output_type": "error",
     "traceback": [
      "\u001b[1;31m---------------------------------------------------------------------------\u001b[0m",
      "\u001b[1;31mTypeError\u001b[0m                                 Traceback (most recent call last)",
      "\u001b[1;32m<ipython-input-44-8339b1802614>\u001b[0m in \u001b[0;36m<module>\u001b[1;34m\u001b[0m\n\u001b[1;32m----> 1\u001b[1;33m \u001b[0meven_odd\u001b[0m\u001b[1;33m(\u001b[0m\u001b[1;33m)\u001b[0m\u001b[1;33m\u001b[0m\u001b[1;33m\u001b[0m\u001b[0m\n\u001b[0m",
      "\u001b[1;31mTypeError\u001b[0m: even_odd() missing 1 required positional argument: 'num'"
     ]
    }
   ],
   "source": [
    "even_odd()"
   ]
  },
  {
   "cell_type": "markdown",
   "metadata": {},
   "source": [
    "### *args 매개변수"
   ]
  },
  {
   "cell_type": "code",
   "execution_count": 49,
   "metadata": {},
   "outputs": [],
   "source": [
    "def average(*scores):\n",
    "    sum = 0\n",
    "    if len(scores) <= 0:\n",
    "        return\n",
    "    for i in range(len(scores)):\n",
    "        sum += scores[i]\n",
    "        \n",
    "    avg = sum/len(scores)\n",
    "    print('%d과목의 평균 : %.2f' % (len(scores), avg))"
   ]
  },
  {
   "cell_type": "code",
   "execution_count": 50,
   "metadata": {},
   "outputs": [
    {
     "name": "stdout",
     "output_type": "stream",
     "text": [
      "3과목의 평균 : 20.00\n"
     ]
    }
   ],
   "source": [
    "average(10, 20, 30)"
   ]
  },
  {
   "cell_type": "code",
   "execution_count": 51,
   "metadata": {},
   "outputs": [],
   "source": [
    "average()"
   ]
  },
  {
   "cell_type": "code",
   "execution_count": 63,
   "metadata": {},
   "outputs": [],
   "source": [
    "def hello(*args):\n",
    "    print('안녕하세요,', args)"
   ]
  },
  {
   "cell_type": "code",
   "execution_count": 64,
   "metadata": {},
   "outputs": [
    {
     "name": "stdout",
     "output_type": "stream",
     "text": [
      "안녕하세요, (1, 2, 3, 4)\n"
     ]
    }
   ],
   "source": [
    "hello(1, 2, 3, 4)"
   ]
  },
  {
   "cell_type": "code",
   "execution_count": 65,
   "metadata": {},
   "outputs": [
    {
     "name": "stdout",
     "output_type": "stream",
     "text": [
      "안녕하세요, ('가나다', '라마바')\n"
     ]
    }
   ],
   "source": [
    "hello('가나다','라마바')"
   ]
  },
  {
   "cell_type": "markdown",
   "metadata": {},
   "source": [
    "### 값에 의한 전달"
   ]
  },
  {
   "cell_type": "code",
   "execution_count": 88,
   "metadata": {},
   "outputs": [],
   "source": [
    "# ex 7-5.py\n",
    "# 서브 루틴: func() 함수\n",
    "def func(x):\n",
    "    x = 100\n",
    "    print('func() : x =', x, ', id=', id(x))"
   ]
  },
  {
   "cell_type": "code",
   "execution_count": 89,
   "metadata": {},
   "outputs": [
    {
     "name": "stdout",
     "output_type": "stream",
     "text": [
      "메인: x =  10 , id= 1360900576\n"
     ]
    }
   ],
   "source": [
    "x = 10\n",
    "print('메인: x = ', x, ', id=', id(x))"
   ]
  },
  {
   "cell_type": "code",
   "execution_count": 90,
   "metadata": {},
   "outputs": [
    {
     "name": "stdout",
     "output_type": "stream",
     "text": [
      "func() : x = 100 , id= 1360903456\n",
      "메인: x = 10 , id= 1360900576\n"
     ]
    }
   ],
   "source": [
    "func(x)\n",
    "print('메인: x =', x, ', id=', id(x))"
   ]
  },
  {
   "cell_type": "markdown",
   "metadata": {},
   "source": [
    "### 레퍼런스에 의한 호출"
   ]
  },
  {
   "cell_type": "code",
   "execution_count": 91,
   "metadata": {},
   "outputs": [],
   "source": [
    "def func(x):\n",
    "    x[0] = 100\n",
    "    print('func(): x =', x,', id =', id(x))"
   ]
  },
  {
   "cell_type": "code",
   "execution_count": 92,
   "metadata": {},
   "outputs": [
    {
     "name": "stdout",
     "output_type": "stream",
     "text": [
      "메인: x = [1, 2, 3] , id = 2626768642760\n"
     ]
    }
   ],
   "source": [
    "x = [1, 2, 3]\n",
    "print('메인: x =', x, ', id =', id(x))"
   ]
  },
  {
   "cell_type": "code",
   "execution_count": 93,
   "metadata": {},
   "outputs": [
    {
     "name": "stdout",
     "output_type": "stream",
     "text": [
      "func(): x = [100, 2, 3] , id = 2626768642760\n",
      "메인: x = [100, 2, 3] ,id = 2626768642760\n"
     ]
    }
   ],
   "source": [
    "func(x)\n",
    "print('메인: x =', x, ',id =', id(x))"
   ]
  },
  {
   "cell_type": "markdown",
   "metadata": {},
   "source": [
    "### Return"
   ]
  },
  {
   "cell_type": "code",
   "execution_count": 94,
   "metadata": {},
   "outputs": [
    {
     "ename": "SyntaxError",
     "evalue": "'return' outside function (<ipython-input-94-5e9cd9a94b33>, line 1)",
     "output_type": "error",
     "traceback": [
      "\u001b[1;36m  File \u001b[1;32m\"<ipython-input-94-5e9cd9a94b33>\"\u001b[1;36m, line \u001b[1;32m1\u001b[0m\n\u001b[1;33m    return 1000\u001b[0m\n\u001b[1;37m               ^\u001b[0m\n\u001b[1;31mSyntaxError\u001b[0m\u001b[1;31m:\u001b[0m 'return' outside function\n"
     ]
    }
   ],
   "source": [
    "return 1000"
   ]
  },
  {
   "cell_type": "code",
   "execution_count": 95,
   "metadata": {},
   "outputs": [],
   "source": [
    "def func():\n",
    "    return"
   ]
  },
  {
   "cell_type": "code",
   "execution_count": 96,
   "metadata": {},
   "outputs": [],
   "source": [
    "def func():\n",
    "    return 11111"
   ]
  },
  {
   "cell_type": "code",
   "execution_count": 99,
   "metadata": {},
   "outputs": [],
   "source": [
    "def func():\n",
    "    return 1, 2, 3, 4, 5"
   ]
  },
  {
   "cell_type": "code",
   "execution_count": 102,
   "metadata": {},
   "outputs": [],
   "source": [
    "def func(x):\n",
    "    if x < 0:\n",
    "        return None\n",
    "    else:\n",
    "        print('dk')\n",
    "func(-1)"
   ]
  },
  {
   "cell_type": "code",
   "execution_count": 103,
   "metadata": {},
   "outputs": [
    {
     "data": {
      "text/plain": [
       "NoneType"
      ]
     },
     "execution_count": 103,
     "metadata": {},
     "output_type": "execute_result"
    }
   ],
   "source": [
    "type(func(-1))"
   ]
  },
  {
   "cell_type": "code",
   "execution_count": 104,
   "metadata": {},
   "outputs": [],
   "source": [
    "if None == func(-1):\n",
    "    pass"
   ]
  },
  {
   "cell_type": "code",
   "execution_count": 98,
   "metadata": {},
   "outputs": [],
   "source": [
    "def func():\n",
    "    return func"
   ]
  },
  {
   "cell_type": "code",
   "execution_count": 106,
   "metadata": {},
   "outputs": [],
   "source": [
    "def su(start, end):\n",
    "    total = 0\n",
    "    for i in range(start, end+1):\n",
    "        total += i\n",
    "    print('%d ~ %d의 정수 합계: %d' % (start, end, total))"
   ]
  },
  {
   "cell_type": "code",
   "execution_count": 107,
   "metadata": {},
   "outputs": [
    {
     "name": "stdout",
     "output_type": "stream",
     "text": [
      "10 ~ 1000의 정수 합계: 500455\n"
     ]
    }
   ],
   "source": [
    "su(10, 1000)"
   ]
  },
  {
   "cell_type": "code",
   "execution_count": 118,
   "metadata": {},
   "outputs": [
    {
     "name": "stdin",
     "output_type": "stream",
     "text": [
      "시작 수: 10\n",
      "끝 수: 100\n",
      "배수: 5\n"
     ]
    },
    {
     "name": "stdout",
     "output_type": "stream",
     "text": [
      "10 ~ 100의 정수 중 5의 배수의 합: 1045\n"
     ]
    }
   ],
   "source": [
    "def add(st, en, ti):\n",
    "    summ = 0\n",
    "    for i in range(st, en + 1):\n",
    "        if i % ti == 0:\n",
    "            summ += i\n",
    "    return summ\n",
    "\n",
    "star = int(input('시작 수:'))\n",
    "end = int(input('끝 수:'))\n",
    "besu = int(input('배수:'))\n",
    "\n",
    "result = add(star, end, besu)\n",
    "\n",
    "print('%d ~ %d의 정수 중 %d의 배수의 합: %d' % (star, end, besu, result))"
   ]
  },
  {
   "cell_type": "markdown",
   "metadata": {},
   "source": [
    "### 지역변수"
   ]
  },
  {
   "cell_type": "code",
   "execution_count": 123,
   "metadata": {},
   "outputs": [],
   "source": [
    "def func(x):\n",
    "    a = 0\n",
    "    print(id(a))\n",
    "    if 10 > 1:\n",
    "        a = 100\n",
    "        print(id(a))"
   ]
  },
  {
   "cell_type": "code",
   "execution_count": 124,
   "metadata": {},
   "outputs": [
    {
     "name": "stdout",
     "output_type": "stream",
     "text": [
      "1360900256\n",
      "1360903456\n"
     ]
    }
   ],
   "source": [
    "func(1)"
   ]
  },
  {
   "cell_type": "markdown",
   "metadata": {},
   "source": [
    "###  전역변수"
   ]
  },
  {
   "cell_type": "code",
   "execution_count": 133,
   "metadata": {},
   "outputs": [],
   "source": [
    "def func():\n",
    "    x = -1\n",
    "    print(x)\n",
    "    print(id(x))"
   ]
  },
  {
   "cell_type": "code",
   "execution_count": 134,
   "metadata": {},
   "outputs": [
    {
     "name": "stdout",
     "output_type": "stream",
     "text": [
      "10\n",
      "1360900576\n"
     ]
    }
   ],
   "source": [
    "x = 10\n",
    "print(x)\n",
    "print(id(x))\n"
   ]
  },
  {
   "cell_type": "code",
   "execution_count": 138,
   "metadata": {},
   "outputs": [],
   "source": [
    "def func():\n",
    "    global x\n",
    "    x = 100\n",
    "    print(x)\n",
    "    print(id(x))"
   ]
  },
  {
   "cell_type": "code",
   "execution_count": 139,
   "metadata": {},
   "outputs": [
    {
     "name": "stdout",
     "output_type": "stream",
     "text": [
      "100\n",
      "1360903456\n"
     ]
    }
   ],
   "source": [
    "func()"
   ]
  },
  {
   "cell_type": "code",
   "execution_count": 140,
   "metadata": {},
   "outputs": [
    {
     "name": "stdout",
     "output_type": "stream",
     "text": [
      "10\n",
      "100\n",
      "1360903456\n",
      "100\n",
      "1360903456\n"
     ]
    }
   ],
   "source": [
    "x = 10\n",
    "print(x)\n",
    "func()\n",
    "print(x)\n",
    "print(id(x))"
   ]
  },
  {
   "cell_type": "code",
   "execution_count": null,
   "metadata": {},
   "outputs": [],
   "source": []
  }
 ],
 "metadata": {
  "kernelspec": {
   "display_name": "Python 3",
   "language": "python",
   "name": "python3"
  },
  "language_info": {
   "codemirror_mode": {
    "name": "ipython",
    "version": 3
   },
   "file_extension": ".py",
   "mimetype": "text/x-python",
   "name": "python",
   "nbconvert_exporter": "python",
   "pygments_lexer": "ipython3",
   "version": "3.6.12"
  }
 },
 "nbformat": 4,
 "nbformat_minor": 4
}
