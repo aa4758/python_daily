{
 "cells": [
  {
   "cell_type": "code",
   "execution_count": 3,
   "metadata": {},
   "outputs": [],
   "source": [
    "# 일반적인 리스트\n",
    "results = []\n",
    "for num in [1, 2, 3, 4, 5, 6, 7, 8]:\n",
    "    result = num * num\n",
    "    results.append(result)"
   ]
  },
  {
   "cell_type": "code",
   "execution_count": 4,
   "metadata": {},
   "outputs": [
    {
     "data": {
      "text/plain": [
       "[1, 4, 9, 16, 25, 36, 49, 64]"
      ]
     },
     "execution_count": 4,
     "metadata": {},
     "output_type": "execute_result"
    }
   ],
   "source": [
    "results"
   ]
  },
  {
   "cell_type": "code",
   "execution_count": 5,
   "metadata": {},
   "outputs": [
    {
     "data": {
      "text/plain": [
       "[1, 4, 9, 16, 25, 36, 49, 64]"
      ]
     },
     "execution_count": 5,
     "metadata": {},
     "output_type": "execute_result"
    }
   ],
   "source": [
    "# comprehensions\n",
    "results = [ num * num for num in [1, 2, 3, 4, 5, 6, 7, 8]]\n",
    "results"
   ]
  },
  {
   "cell_type": "code",
   "execution_count": 6,
   "metadata": {},
   "outputs": [
    {
     "data": {
      "text/plain": [
       "[1, 4, 9, 16, 25, 36, 36, 4, 49, 64]"
      ]
     },
     "execution_count": 6,
     "metadata": {},
     "output_type": "execute_result"
    }
   ],
   "source": [
    "# comprehensions\n",
    "results = [ num * num for num in [1, 2, 3, 4, 5, 6, 6,2, 7, 8] if type(num) == int]\n",
    "results"
   ]
  },
  {
   "cell_type": "code",
   "execution_count": 9,
   "metadata": {},
   "outputs": [
    {
     "name": "stdout",
     "output_type": "stream",
     "text": [
      "[1, 4, 9, 16, 25, 36, 38.440000000000005, 49, 64]\n"
     ]
    }
   ],
   "source": [
    "# 일반적인 리스트\n",
    "results = []\n",
    "for num in [1, 2, 3, 4, 5, 6, 6.2, 7, 8]:\n",
    "    result = num * num\n",
    "    results.append(result)\n",
    "if type(num) == int:\n",
    "    "
   ]
  },
  {
   "cell_type": "markdown",
   "metadata": {},
   "source": [
    "### 조건문"
   ]
  },
  {
   "cell_type": "code",
   "execution_count": 52,
   "metadata": {},
   "outputs": [
    {
     "name": "stdout",
     "output_type": "stream",
     "text": [
      "['a', 'as']\n"
     ]
    }
   ],
   "source": [
    "# 문자열 리스트에서 길이가 2 이하인 문자열 리스트 만들기\n",
    "string = ['a','as','bat','car','dove','python']\n",
    "\n",
    "string = [s for s in string if len(s) <= 2]\n",
    "print(string)"
   ]
  },
  {
   "cell_type": "markdown",
   "metadata": {},
   "source": [
    "1~ 100 tkdldp 3, 6, 9가 잇는 수"
   ]
  },
  {
   "cell_type": "code",
   "execution_count": 11,
   "metadata": {},
   "outputs": [
    {
     "name": "stdout",
     "output_type": "stream",
     "text": [
      "[3, 6, 9, 13, 16, 19, 23, 26, 29, 30, 31, 32, 33, 34, 35, 36, 37, 38, 39, 43, 46, 49, 53, 56, 59, 60, 61, 62, 63, 64, 65, 66, 67, 68, 69, 73, 76, 79, 83, 86, 89, 90, 91, 92, 93, 94, 95, 96, 97, 98, 99]\n"
     ]
    }
   ],
   "source": [
    "r = [number for number in range(1, 101) if str(number).count('3') > 0 \\\n",
    "    or str(number).count('6') > 0 or str(number).count('9') > 0]\n",
    "print(r)"
   ]
  },
  {
   "cell_type": "code",
   "execution_count": 14,
   "metadata": {},
   "outputs": [
    {
     "name": "stdout",
     "output_type": "stream",
     "text": [
      "[1, 2, 3, 3, 4, 6]\n"
     ]
    }
   ],
   "source": [
    "# 문자열 리스트에서 문자열 길이를 순차 자료형으로 저장\n",
    "string = ['a','as','bat','car','dove','python']\n",
    "\n",
    "lens = [len(s) for s in string]\n",
    "print(lens)"
   ]
  },
  {
   "cell_type": "code",
   "execution_count": 18,
   "metadata": {},
   "outputs": [
    {
     "name": "stdout",
     "output_type": "stream",
     "text": [
      "[1, 16, 100, 64]\n"
     ]
    }
   ],
   "source": [
    "# 숫자만 제곱\n",
    "foo = [1, 4, '5', 10, True, '10', 8]\n",
    "\n",
    "multi = [num ** 2 for num in foo if type(num) == int]\n",
    "print(multi)"
   ]
  },
  {
   "cell_type": "markdown",
   "metadata": {},
   "source": [
    "### Nested Comprehensions"
   ]
  },
  {
   "cell_type": "code",
   "execution_count": 20,
   "metadata": {},
   "outputs": [
    {
     "data": {
      "text/plain": [
       "[[1, 0, 0], [0, 1, 0], [0, 0, 1]]"
      ]
     },
     "execution_count": 20,
     "metadata": {},
     "output_type": "execute_result"
    }
   ],
   "source": [
    "# 3x3 행렬\n",
    "\n",
    "[ [1 if item_idx == row_idx else 0 \\\n",
    "  for item_idx in range(0, 3)] \\\n",
    "  for row_idx in range(0, 3)]"
   ]
  },
  {
   "cell_type": "markdown",
   "metadata": {},
   "source": [
    "디렉토리 구조에서 .py로 끝나는 자료\n",
    "- os.walk():\n",
    "```Python\n",
    "# Comprehensions/os_walk_comprehension.py\n",
    "import os\n",
    "restFiles = [os.path.join(d[0], f) for d in os.walk(\".\")\n",
    "             for f in d[2] if f.endswith(\".py\")]\n",
    "for r in restFiles:\n",
    "    print(r)\n",
    "```"
   ]
  },
  {
   "cell_type": "code",
   "execution_count": 24,
   "metadata": {},
   "outputs": [
    {
     "name": "stdout",
     "output_type": "stream",
     "text": [
      "['Comprehensions.ipynb', '데코레이터.ipynb', '함수 매개변수.ipynb']\n",
      "['Comprehensions-checkpoint.ipynb', '데코레이터-checkpoint.ipynb', '함수 매개변수-checkpoint.ipynb']\n"
     ]
    }
   ],
   "source": [
    "# 현재 디렉토리에서 .ipynb 확장자를 가진 파일\n",
    "import os\n",
    "\n",
    "for d in os.walk('.'):\n",
    "    print(d[2])"
   ]
  },
  {
   "cell_type": "markdown",
   "metadata": {},
   "source": [
    "### Set"
   ]
  },
  {
   "cell_type": "code",
   "execution_count": 25,
   "metadata": {},
   "outputs": [
    {
     "data": {
      "text/plain": [
       "dict"
      ]
     },
     "execution_count": 25,
     "metadata": {},
     "output_type": "execute_result"
    }
   ],
   "source": [
    "s = {}\n",
    "type(s)"
   ]
  },
  {
   "cell_type": "code",
   "execution_count": 39,
   "metadata": {},
   "outputs": [
    {
     "data": {
      "text/plain": [
       "set"
      ]
     },
     "execution_count": 39,
     "metadata": {},
     "output_type": "execute_result"
    }
   ],
   "source": [
    "s = set()\n",
    "type(s)"
   ]
  },
  {
   "cell_type": "code",
   "execution_count": 42,
   "metadata": {},
   "outputs": [
    {
     "data": {
      "text/plain": [
       "{4, 5, 6, 7, 8, 9, 10, 100}"
      ]
     },
     "execution_count": 42,
     "metadata": {},
     "output_type": "execute_result"
    }
   ],
   "source": [
    "s = {4, 5, 6, 6, 8, 9, 10, 100, 7, 8, 9}\n",
    "s"
   ]
  },
  {
   "cell_type": "code",
   "execution_count": 43,
   "metadata": {},
   "outputs": [
    {
     "name": "stdout",
     "output_type": "stream",
     "text": [
      "4\n",
      "5\n",
      "6\n",
      "100\n",
      "8\n",
      "9\n",
      "10\n",
      "7\n"
     ]
    }
   ],
   "source": [
    "for i in s:\n",
    "    print(i)"
   ]
  },
  {
   "cell_type": "code",
   "execution_count": 45,
   "metadata": {},
   "outputs": [
    {
     "data": {
      "text/plain": [
       "{4, 5, 6, 7, 8, 9, 10, 100}"
      ]
     },
     "execution_count": 45,
     "metadata": {},
     "output_type": "execute_result"
    }
   ],
   "source": [
    "li = {4, 5, 6, 6, 8, 9, 10, 100, 7, 8, 9}\n",
    "a = set(li)\n",
    "a"
   ]
  },
  {
   "cell_type": "markdown",
   "metadata": {},
   "source": [
    "### Set Comprehensions\n",
    "Set에 리스트 같은 포함 표현식을 사용해 구성할 수 있다.\n",
    "\n",
    "이름을 포함한 리스트가 있을 때:\n",
    "```Python\n",
    "names = [ 'Bob', 'JOHN', 'alice', 'bob', 'ALICE', 'J', 'Bob' ]\n",
    "```\n",
    "다음 같이 첫 문자를 대문자로한 세트를 원한다:\n",
    "```Python\n",
    "{ 'Bob', 'John', 'Alice' }\n",
    "```"
   ]
  },
  {
   "cell_type": "code",
   "execution_count": 46,
   "metadata": {},
   "outputs": [
    {
     "data": {
      "text/plain": [
       "{'Alice', 'Bob', 'John'}"
      ]
     },
     "execution_count": 46,
     "metadata": {},
     "output_type": "execute_result"
    }
   ],
   "source": [
    "names = [ 'Bob', 'JOHN', 'alice', 'bob', 'ALICE', 'J', 'Bob' ]\n",
    "\n",
    "{name[0].upper() + name[1:].lower() for name in names if len(name) > 1}"
   ]
  },
  {
   "cell_type": "code",
   "execution_count": 47,
   "metadata": {},
   "outputs": [],
   "source": [
    "# set"
   ]
  },
  {
   "cell_type": "code",
   "execution_count": 54,
   "metadata": {},
   "outputs": [
    {
     "data": {
      "text/plain": [
       "{'Python', 'bat', 'car', 'dove', 'python'}"
      ]
     },
     "execution_count": 54,
     "metadata": {},
     "output_type": "execute_result"
    }
   ],
   "source": [
    "strings = ['a','as','as','as','as','bat','car','dove','python','Python']\n",
    "# 2글자 이하\n",
    "\n",
    "{s for s in strings if len(s) >= 3}"
   ]
  },
  {
   "cell_type": "markdown",
   "metadata": {},
   "source": [
    "### Dictionary Comprehensions"
   ]
  },
  {
   "cell_type": "code",
   "execution_count": 49,
   "metadata": {},
   "outputs": [
    {
     "data": {
      "text/plain": [
       "{'a': 1, 'as': 2, 'bat': 3, 'car': 3, 'dove': 4, 'python': 6}"
      ]
     },
     "execution_count": 49,
     "metadata": {},
     "output_type": "execute_result"
    }
   ],
   "source": [
    "strings = ['a', 'as', 'bat', 'car', 'dove', 'python']\n",
    "\n",
    "d = { s: len(s) for s in strings}\n",
    "d"
   ]
  },
  {
   "cell_type": "code",
   "execution_count": null,
   "metadata": {},
   "outputs": [],
   "source": []
  }
 ],
 "metadata": {
  "kernelspec": {
   "display_name": "Python 3",
   "language": "python",
   "name": "python3"
  },
  "language_info": {
   "codemirror_mode": {
    "name": "ipython",
    "version": 3
   },
   "file_extension": ".py",
   "mimetype": "text/x-python",
   "name": "python",
   "nbconvert_exporter": "python",
   "pygments_lexer": "ipython3",
   "version": "3.6.12"
  }
 },
 "nbformat": 4,
 "nbformat_minor": 4
}
