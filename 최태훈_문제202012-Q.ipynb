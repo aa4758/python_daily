{
 "cells": [
  {
   "cell_type": "markdown",
   "metadata": {},
   "source": [
    "# AI융합과정 - 파이썬 과목평가\n",
    " - 2020/12/11 일\n",
    "\n",
    "이름: `_____________최태훈_________________`"
   ]
  },
  {
   "cell_type": "markdown",
   "metadata": {},
   "source": []
  },
  {
   "cell_type": "markdown",
   "metadata": {},
   "source": [
    "### 문제1) Numpy 를 사용해 임의의 5x4 배열을 생성하려고 한다. 생성 방법으로 틀린 것을 고르시오. \n",
    "\n",
    "```\n",
    "1) np.arange(30).reshape(5,4)    \n",
    "2) np.array([[0,0,0,0],\n",
    "             [0,0,0,0],\n",
    "             [0,0,0,0],\n",
    "             [0,0,0,0],\n",
    "             [0,0,0,0]])\n",
    "3) np.ndarray(shape=(5,4), dtype='float64')\n",
    "4) np.zeros((5,4))\n",
    "```"
   ]
  },
  {
   "cell_type": "markdown",
   "metadata": {},
   "source": [
    "답: "
   ]
  },
  {
   "cell_type": "markdown",
   "metadata": {},
   "source": [
    "1"
   ]
  },
  {
   "cell_type": "markdown",
   "metadata": {},
   "source": [
    "### 문제2) Numpy 로 ndarray 를 사용하려고 한다. ndarray인 a 객체는 아래 같다.\n",
    "\n",
    "```python\n",
    "a = array([[ 0,  1,  2,  3,  4,  5,  6,  7],\n",
    "        [ 8,  9, 10, 11, 12, 13, 14, 15],\n",
    "        [16, 17, 18, 19, 20, 21, 22, 23],\n",
    "        [24, 25, 26, 27, 28, 29, 30, 31],\n",
    "        [32, 33, 34, 35, 36, 37, 38, 39],\n",
    "       [40, 41, 42, 43, 44, 45, 46, 47]])\n",
    "```\n",
    "\n",
    "\n",
    "위 ndarray인 a에서 4행의 3,4 열 값을 출력하는 슬라이싱 코드를 작성해 보시오.\n",
    "> 단 행과 열은 0부터 시작\n"
   ]
  },
  {
   "cell_type": "markdown",
   "metadata": {},
   "source": [
    "답:"
   ]
  },
  {
   "cell_type": "markdown",
   "metadata": {},
   "source": [
    "a[3][2:3]"
   ]
  },
  {
   "cell_type": "markdown",
   "metadata": {},
   "source": [
    "### 문제3) 다음은 어떤 지역의 특정 업무 종사자 수 데이터의 일부이다. 이 데이터를 사용하는 아래 질문에 답하시오.\n",
    "\n",
    "\n",
    "```\n",
    "xdata = [서울,부산,대구,인천,대전,광주,울산]\n",
    "ydata = [9375,2211,1436,1518,1006,1006,467]\n",
    "```\n",
    "\n",
    "아래는 위 데이터를 사용해서 bar 차트를 그리는 코드이다. \n",
    "\n",
    "```python\n",
    "rc('font', family='Malgun Gothic')\n",
    "hanfont = {'size':18, 'color':'green'}\n",
    "\n",
    "A_____________________________\n",
    "\n",
    "plt.title('서울 및 광역시 인원의 수', fontdict=hanfont)\n",
    "plt.xlabel('시도')\n",
    "plt.ylabel('인원수')\n",
    "plt.show()\n",
    "```\n",
    "\n",
    "위 빈 곳에 맞도록 코드를 작성하시오."
   ]
  },
  {
   "cell_type": "markdown",
   "metadata": {},
   "source": [
    "답: A_____________________________"
   ]
  },
  {
   "cell_type": "markdown",
   "metadata": {},
   "source": [
    "plt.bar(xdata, ydata)"
   ]
  },
  {
   "cell_type": "markdown",
   "metadata": {},
   "source": [
    "### 문제4) 반지름을 구하는 프로그램이다. 아래 질문에 답하시오."
   ]
  },
  {
   "cell_type": "code",
   "execution_count": 8,
   "metadata": {},
   "outputs": [
    {
     "name": "stdin",
     "output_type": "stream",
     "text": [
      "반지름을 입력하세요 :  5\n"
     ]
    },
    {
     "name": "stdout",
     "output_type": "stream",
     "text": [
      "반지름 : 5 cm\n",
      "원의 둘레 : 31.40 cm\n",
      "원의 면적 : 78.50 cm2\n"
     ]
    }
   ],
   "source": [
    "r = int(input('반지름을 입력하세요 : '))\n",
    "\n",
    "length = 2 * 3.14 * r\n",
    "area = r * r * 3.14\n",
    "\n",
    "print('반지름 : %d cm' % r)              # <------ A\n",
    "print('원의 둘레 : %.2f cm' % length)    # <------ B\n",
    "print('원의 면적 : %.2f cm2' % area)     # <------ C"
   ]
  },
  {
   "cell_type": "markdown",
   "metadata": {},
   "source": [
    "위 코드에서 print 출력 부분 3줄을 문자열 포매팅 중에서 `.format()` 사용도록 작성하시오.\n",
    "\n",
    "A____________________________________\n",
    "\n",
    "B____________________________________\n",
    "\n",
    "C____________________________________\n"
   ]
  },
  {
   "cell_type": "markdown",
   "metadata": {},
   "source": [
    "print('반지름 : {} cm'.format(r))"
   ]
  },
  {
   "cell_type": "markdown",
   "metadata": {},
   "source": [
    "print('반지름 : {} cm'.format(length))"
   ]
  },
  {
   "cell_type": "markdown",
   "metadata": {},
   "source": [
    "print('반지름 : {} cm'.format(area))"
   ]
  },
  {
   "cell_type": "markdown",
   "metadata": {},
   "source": [
    "### 문제5) 아래와 같은 수식을 계산하는 프로그램을 작성중이다. 아래 질문에 답하시오.\n",
    "\n",
    "$2^1 + 4^3 + 6^5 + \\cdots + 2N^{2N-1}$\n",
    "\n",
    "위 수식을 계산하기 위해서 아래 코드를 작성중이다.\n",
    "\n",
    "```python\n",
    "n = int(input('N의 값을 입력하세요 : '))\n",
    "\n",
    "sum = 0\n",
    "\n",
    "A____________________________ :\n",
    "    if i%2 == 0 :\n",
    "        B___________________________\n",
    "        \n",
    "print(f'N의 값 { n }')\n",
    "print(f'합계 : {sum}')\n",
    "```\n",
    "\n",
    "위 2곳의 A, B에 적합한 코드를 작성하시오.\n",
    "\n",
    "A______________________________\n",
    "\n",
    "B______________________________\n",
    "\n"
   ]
  },
  {
   "cell_type": "markdown",
   "metadata": {},
   "source": [
    "for i in range(1, n+1)"
   ]
  },
  {
   "cell_type": "markdown",
   "metadata": {},
   "source": [
    "sum += i**(i-1)"
   ]
  },
  {
   "cell_type": "markdown",
   "metadata": {},
   "source": [
    "### 문제6) month_temp.csv 파일에 아래 같은 구성으로 데이터를 가지고 있다.\n",
    "\n",
    "```\n",
    "지점,일시,최저기온,최고기온,평균기온\n",
    "119,2019-10-01,15.7,27.4,22\n",
    "119,2019-10-02,20.4,23.8,21.9\n",
    "119,2019-10-03,19.9,27.8,22.8\n",
    "119,2019-10-04,17.8,26.9,21.9\n",
    "```\n",
    "\n",
    "위 데이터의 처음 부터 10일간의 평균기온을 합한 결과를 아래 같이 출력하려고 한다.\n",
    "\n",
    "```python\n",
    "import csv\n",
    "\n",
    "f = open('month_temp.csv', 'r', encoding='utf-8')\n",
    "lines = csv.reader(f)\n",
    "\n",
    "A _______________             # 헤더를 건너뛴다.\n",
    "\n",
    "sum = 0\n",
    "count = 0\n",
    "\n",
    "for line in lines:\n",
    "    if (B __________________ ) :         # 10일 까지\n",
    "        C ___________________________    # 평균기온 컬럼\n",
    "\n",
    "avg = sum / count\n",
    "print('10일간 평균 기온 : %.1f' % avg)\n",
    "f.close()\n",
    "```\n",
    "\n",
    "비어 있는 곳 A, B 에 맞는 코드를 작성하시오.\n",
    "\n",
    "\n",
    "A______________________________\n",
    "\n",
    "B______________________________\n",
    "\n",
    "C______________________________\n"
   ]
  },
  {
   "cell_type": "markdown",
   "metadata": {},
   "source": [
    "next(lines)"
   ]
  },
  {
   "cell_type": "markdown",
   "metadata": {},
   "source": [
    "int(line[1][8:]) <= 10"
   ]
  },
  {
   "cell_type": "markdown",
   "metadata": {},
   "source": [
    "sum += float(line[2])"
   ]
  },
  {
   "cell_type": "markdown",
   "metadata": {},
   "source": [
    "### 문제7) 프로그램 `pricesum.py` 은 책 값, 할인율, 배송료를 입력받아 아래 식으로 계산한다. 아래 질문에 답하시오.\n",
    "\n",
    "```\n",
    "결재금액 = 책 값 - (책 값 * 할인율 / 100) + 배송료\n",
    "```\n",
    "\n",
    "\n",
    "각 입력은 아래 같이 프로그램으로 입력 받는다.\n",
    "\n",
    "```sh\n",
    "$ python pricesum.py PRICE RATES DELIVERY\n",
    " - PRICE: 책 값\n",
    " - RATES: 할인율\n",
    " - DELIVERY: 배송료\n",
    "```\n",
    "\n",
    "\n",
    "```python\n",
    "import sys\n",
    "\n",
    "# 인자가 3이하이면 경고 출력후 종료\n",
    "if ________A_______:\n",
    "    print(\"pricesum.py PRICE RATES DELIVERY   순서로 입력하세요\")\n",
    "    _________B_________\n",
    "book_price = int(_______C______) #책 값\n",
    "discount = float(_______D______) #할인율\n",
    "shipping = int(_______E______)   #배송료\n",
    "\n",
    "total_price = book_price - (book_price * discount/100) + shipping\n",
    "\n",
    "print(\"결제 금액 : %.0f원\" % total_price)\n",
    "```\n",
    "\n",
    "위 빈곳에 A,B,C,D,E에 알맞는 코드를 작성하시오.\n",
    "\n",
    "A____________________________________\n",
    "\n",
    "B____________________________________\n",
    "\n",
    "C____________________________________\n",
    "\n",
    "D____________________________________\n",
    "\n",
    "E____________________________________"
   ]
  },
  {
   "cell_type": "markdown",
   "metadata": {},
   "source": [
    "len(argv[]) <= 3"
   ]
  },
  {
   "cell_type": "markdown",
   "metadata": {},
   "source": [
    "break"
   ]
  },
  {
   "cell_type": "markdown",
   "metadata": {},
   "source": [
    "PRICE"
   ]
  },
  {
   "cell_type": "markdown",
   "metadata": {},
   "source": [
    "RATES"
   ]
  },
  {
   "cell_type": "markdown",
   "metadata": {},
   "source": [
    "DELIVERY"
   ]
  },
  {
   "cell_type": "markdown",
   "metadata": {},
   "source": [
    "### 문제8) n 값을 입력 받아 1부터 n까지 소수를 구하는 프로그램이다. 아래 질문에 답하시오.\n",
    "\n",
    "> 소수는 1과 자기 자신만으로 나누어 떨어지는 1 보다 큰 양의 정수\n",
    "\n",
    "코드의 일부가 아래 같다.\n",
    "\n",
    "```python\n",
    "n = int(input(\"N 값을 입력해주세요 : \"))\n",
    "\n",
    "for a in range( A________ ) : \n",
    "    prime_yes = True \n",
    "    for i in range(2, a) : \n",
    "        B____________  : \n",
    "            prime_yes = False \n",
    "            break  \n",
    "\n",
    "    if (prime_yes) : \n",
    "        print(a, end=' ') \n",
    "```\n",
    "\n",
    "위 코드 중에서 A, B 위치에 적합한 코드를 작성하시오.\n",
    "\n",
    "A_______________________\n",
    "\n",
    "B_______________________"
   ]
  },
  {
   "cell_type": "markdown",
   "metadata": {},
   "source": [
    "1, N+1"
   ]
  },
  {
   "cell_type": "markdown",
   "metadata": {},
   "source": [
    "if x % i == 0"
   ]
  },
  {
   "cell_type": "markdown",
   "metadata": {},
   "source": [
    "### 문제9) 아래 데이터는 어떤 지역의 약국정보 데이터이다. 아래 질문에 답하시오.\n",
    "\n",
    "데이터\n",
    "\n",
    "```\n",
    "약국명,지역,주소,개설일자,경도,위도\n",
    "영미약국,용인처인구,경기도 용인시 처인구 금령로 73 (김량장동),20130701,127.2043559,37.2352302\n",
    "파랑새약국,인천미추홀구,인천광역시 미추홀구 장천로112번길 3 (숭의동),20130701,126.6565669,37.4629140\n",
    "새봄약국,용인기흥구,경기도 용인시 기흥구 서천로 121 원희캐슬 110호 (서천동),20130701,127.0727467,37.2371531\n",
    "\n",
    "```\n",
    "\n",
    "위 데이터는 파일 `./samples/pharm_2019.csv` 에 담겨 있다고 한다. 아래 코드로 약국 정보를 출력하려고 한다.\n",
    "\n",
    "```python\n",
    "#약국명,지역,주소,개설일자,경도,위도\n",
    "f = open('./samples/pharm_2019.csv', 'r', encoding='utf-8')\n",
    "lines = csv.reader(f)\n",
    "\n",
    "header = next(lines)\n",
    "\n",
    "for line in lines:\n",
    "    A_____________________________\n",
    "        B___________________________________\n",
    "\n",
    "f.close()\n",
    "```\n",
    "\n",
    "파일을 읽어 약국의 개설일자가 2019년 1월1일 이후에 개설된 약국만 출력하도록 코드를 작성하고 `개설일자:약국명:주소` 형식으로 출력되도록 비어있는 곳이 맞도록 작성하시오.\n",
    "\n",
    "\n",
    "A_____________________________\n",
    "\n",
    "B_____________________________"
   ]
  },
  {
   "cell_type": "markdown",
   "metadata": {},
   "source": [
    "if line[3][2:] > 190101:"
   ]
  },
  {
   "cell_type": "markdown",
   "metadata": {},
   "source": [
    "print('{} : {} : {}').format(line[3], line[0], line[2])"
   ]
  },
  {
   "cell_type": "markdown",
   "metadata": {},
   "source": [
    "### 문제10) 아래 코드는 모듈 mymod.py 의 내용이다. 아래 질문에 답하시오.\n",
    "\n",
    "```python\n",
    "# mymod.py 파일\n",
    "def add(a, b): \n",
    "    return a+b\n",
    "\n",
    "def sub(a, b): \n",
    "    return a-b\n",
    "\n",
    "print(__name__)        #<---------- A\n",
    "```\n",
    "\n",
    "이 mymod 모듈을 import 해서 사용할 때, A 위치에서 출력 결과를 쓰이오.___________"
   ]
  },
  {
   "cell_type": "markdown",
   "metadata": {},
   "source": [
    "__ main__"
   ]
  }
 ],
 "metadata": {
  "kernelspec": {
   "display_name": "Python 3",
   "language": "python",
   "name": "python3"
  },
  "language_info": {
   "codemirror_mode": {
    "name": "ipython",
    "version": 3
   },
   "file_extension": ".py",
   "mimetype": "text/x-python",
   "name": "python",
   "nbconvert_exporter": "python",
   "pygments_lexer": "ipython3",
   "version": "3.6.12"
  }
 },
 "nbformat": 4,
 "nbformat_minor": 4
}
