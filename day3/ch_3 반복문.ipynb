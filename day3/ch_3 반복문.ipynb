{
 "cells": [
  {
   "cell_type": "markdown",
   "metadata": {},
   "source": [
    "# 반복문\n",
    "\n",
    "반복문: **특정 코드를 반복** 실행\n",
    "- For문\n",
    "- While문"
   ]
  },
  {
   "cell_type": "markdown",
   "metadata": {},
   "source": [
    "```\n",
    "for <> in []:\n",
    "    # to do\n",
    "```"
   ]
  },
  {
   "cell_type": "code",
   "execution_count": 2,
   "metadata": {},
   "outputs": [
    {
     "data": {
      "text/plain": [
       "range(0, 5)"
      ]
     },
     "execution_count": 2,
     "metadata": {},
     "output_type": "execute_result"
    }
   ],
   "source": [
    "range(5)   # 내장함수, 시작-종료 범위 숫자를 발생"
   ]
  },
  {
   "cell_type": "code",
   "execution_count": 3,
   "metadata": {},
   "outputs": [
    {
     "data": {
      "text/plain": [
       "range(0, 5)"
      ]
     },
     "execution_count": 3,
     "metadata": {},
     "output_type": "execute_result"
    }
   ],
   "source": [
    "r = range(5)\n",
    "r"
   ]
  },
  {
   "cell_type": "code",
   "execution_count": 4,
   "metadata": {},
   "outputs": [
    {
     "name": "stdout",
     "output_type": "stream",
     "text": [
      "range(0, 5)\n"
     ]
    }
   ],
   "source": [
    "print(r)"
   ]
  },
  {
   "cell_type": "code",
   "execution_count": 5,
   "metadata": {},
   "outputs": [
    {
     "data": {
      "text/plain": [
       "range"
      ]
     },
     "execution_count": 5,
     "metadata": {},
     "output_type": "execute_result"
    }
   ],
   "source": [
    "type(r)"
   ]
  },
  {
   "cell_type": "code",
   "execution_count": 6,
   "metadata": {},
   "outputs": [
    {
     "data": {
      "text/plain": [
       "5"
      ]
     },
     "execution_count": 6,
     "metadata": {},
     "output_type": "execute_result"
    }
   ],
   "source": [
    "len(r)"
   ]
  },
  {
   "cell_type": "code",
   "execution_count": null,
   "metadata": {},
   "outputs": [],
   "source": []
  },
  {
   "cell_type": "code",
   "execution_count": 7,
   "metadata": {},
   "outputs": [
    {
     "data": {
      "text/plain": [
       "5"
      ]
     },
     "execution_count": 7,
     "metadata": {},
     "output_type": "execute_result"
    }
   ],
   "source": [
    "len('안녕하세요')"
   ]
  },
  {
   "cell_type": "code",
   "execution_count": 8,
   "metadata": {},
   "outputs": [
    {
     "name": "stdout",
     "output_type": "stream",
     "text": [
      "0\n",
      "1\n",
      "2\n",
      "3\n",
      "4\n"
     ]
    }
   ],
   "source": [
    "for x in range(5):\n",
    "    print(x)"
   ]
  },
  {
   "cell_type": "code",
   "execution_count": 9,
   "metadata": {},
   "outputs": [
    {
     "data": {
      "text/plain": [
       "'*****'"
      ]
     },
     "execution_count": 9,
     "metadata": {},
     "output_type": "execute_result"
    }
   ],
   "source": [
    "'*'* 5"
   ]
  },
  {
   "cell_type": "code",
   "execution_count": 10,
   "metadata": {},
   "outputs": [
    {
     "name": "stdout",
     "output_type": "stream",
     "text": [
      "**********\n",
      "**************\n",
      "******************\n",
      "**********************\n",
      "**************************\n",
      "******************************\n",
      "**********************************\n",
      "**************************************\n",
      "******************************************\n",
      "**********************************************\n",
      "**************************************************\n",
      "******************************************************\n",
      "**********************************************************\n",
      "**************************************************************\n",
      "******************************************************************\n",
      "**********************************************************************\n",
      "**************************************************************************\n",
      "******************************************************************************\n",
      "**********************************************************************************\n",
      "**************************************************************************************\n",
      "******************************************************************************************\n",
      "**********************************************************************************************\n",
      "**************************************************************************************************\n"
     ]
    }
   ],
   "source": [
    "# 반복!!!\n",
    "for x in range(10, 100, 4):\n",
    "    print(x * '*')"
   ]
  },
  {
   "cell_type": "code",
   "execution_count": 11,
   "metadata": {},
   "outputs": [
    {
     "name": "stdout",
     "output_type": "stream",
     "text": [
      "+\n",
      "**\n",
      "+++\n",
      "****\n",
      "+++++\n",
      "******\n",
      "+++++++\n",
      "********\n",
      "+++++++++\n",
      "**********\n",
      "+++++++++++\n",
      "************\n",
      "+++++++++++++\n",
      "**************\n",
      "+++++++++++++++\n",
      "****************\n",
      "+++++++++++++++++\n",
      "******************\n",
      "+++++++++++++++++++\n"
     ]
    }
   ],
   "source": [
    "# 반복!!!\n",
    "for x in range(1, 20):\n",
    "    if x % 2 == 0:  #짝수\n",
    "        print(x * '*')\n",
    "    else:\n",
    "        print(x * '+')"
   ]
  },
  {
   "cell_type": "code",
   "execution_count": null,
   "metadata": {},
   "outputs": [],
   "source": [
    "if 1 < 10:\n",
    "    pass\n",
    "elif 2 > 10:\n",
    "    pass"
   ]
  },
  {
   "cell_type": "code",
   "execution_count": null,
   "metadata": {},
   "outputs": [],
   "source": [
    "if 1 < 10:\n",
    "    pass\n",
    "\n",
    "if 2 > 10:\n",
    "    pass"
   ]
  },
  {
   "cell_type": "code",
   "execution_count": 20,
   "metadata": {},
   "outputs": [
    {
     "name": "stdout",
     "output_type": "stream",
     "text": [
      "A\n",
      "A\n",
      "A\n",
      "A\n",
      "A\n"
     ]
    }
   ],
   "source": [
    "for x in range(5):\n",
    "    print('A')"
   ]
  },
  {
   "cell_type": "code",
   "execution_count": 22,
   "metadata": {},
   "outputs": [
    {
     "name": "stdout",
     "output_type": "stream",
     "text": [
      "A\n",
      "A\n",
      "A\n",
      "A\n",
      "A\n"
     ]
    }
   ],
   "source": [
    "x = 0\n",
    "while x < 5:\n",
    "    print('A')\n",
    "    x += 1"
   ]
  },
  {
   "cell_type": "code",
   "execution_count": null,
   "metadata": {},
   "outputs": [],
   "source": [
    "x = 0\n",
    "while True:\n",
    "    print('A')\n",
    "    x += 1  # Kernel에서 Interrupt를 통해 break 가능"
   ]
  },
  {
   "cell_type": "code",
   "execution_count": 25,
   "metadata": {},
   "outputs": [
    {
     "name": "stdout",
     "output_type": "stream",
     "text": [
      "A\n",
      "A\n",
      "A\n",
      "A\n",
      "A\n",
      "A\n",
      "A\n",
      "A\n",
      "A\n",
      "A\n",
      "A\n",
      "A\n",
      "A\n",
      "A\n",
      "A\n",
      "A\n",
      "A\n",
      "A\n",
      "A\n",
      "A\n",
      "A\n",
      "A\n",
      "A\n",
      "A\n",
      "A\n",
      "A\n",
      "A\n",
      "A\n",
      "A\n",
      "A\n"
     ]
    }
   ],
   "source": [
    "x = 0\n",
    "while True:\n",
    "    print('A')\n",
    "    x += 1\n",
    "    # 종료 조건\n",
    "    if x == 30:\n",
    "        break"
   ]
  },
  {
   "cell_type": "markdown",
   "metadata": {},
   "source": [
    "#### 등급 판정"
   ]
  },
  {
   "cell_type": "code",
   "execution_count": 30,
   "metadata": {},
   "outputs": [
    {
     "name": "stdout",
     "output_type": "stream",
     "text": [
      "점수를 입력하시오 : -1\n"
     ]
    }
   ],
   "source": [
    "while True:\n",
    "    score = int(input('점수를 입력하시오 : '))\n",
    "    \n",
    "    if score >= 90:\n",
    "        grade = 'A'\n",
    "    elif score >= 80:\n",
    "        grade = 'B'\n",
    "    elif score >= 70:\n",
    "        grade = 'C'\n",
    "    elif score >= 60:\n",
    "        grade = 'D'\n",
    "    elif score == -1:\n",
    "        break\n",
    "    else :\n",
    "        grade = 'F'\n",
    "        \n",
    "    print('성적 : %d' % score)\n",
    "    print('등급 : %s' % grade)"
   ]
  },
  {
   "cell_type": "markdown",
   "metadata": {},
   "source": [
    "For와 break"
   ]
  },
  {
   "cell_type": "code",
   "execution_count": 29,
   "metadata": {},
   "outputs": [
    {
     "name": "stdout",
     "output_type": "stream",
     "text": [
      "**\n",
      "****\n"
     ]
    }
   ],
   "source": [
    "# 반복!!!\n",
    "for x in range(1, 20):\n",
    "    if x % 2 == 0:  #짝수\n",
    "        print(x * '*')\n",
    "    elif x % 5 == 0:\n",
    "        break"
   ]
  },
  {
   "cell_type": "code",
   "execution_count": 31,
   "metadata": {},
   "outputs": [
    {
     "name": "stdout",
     "output_type": "stream",
     "text": [
      "안녕 나는 사과야\n"
     ]
    }
   ],
   "source": [
    "a = '사과'\n",
    "print(f'안녕 나는 {a}야')"
   ]
  },
  {
   "cell_type": "markdown",
   "metadata": {},
   "source": [
    "3의 배수"
   ]
  },
  {
   "cell_type": "code",
   "execution_count": 33,
   "metadata": {},
   "outputs": [
    {
     "name": "stdout",
     "output_type": "stream",
     "text": [
      "3 6 9 12 15 18 21 24 27 30 33 36 39 42 45 48 51 54 57 60 63 66 69 72 75 78 81 84 87 90 93 96 99 \n",
      " --------------------------------------------------\n",
      "1~100에서 3의 배수의 합계: 1683\n"
     ]
    }
   ],
   "source": [
    "sum = 0\n",
    "for i in range(1, 101):\n",
    "    if i % 3 == 0:\n",
    "        print('%d' % i, end=' ')\n",
    "        sum += i\n",
    "        \n",
    "print('\\n','-' * 50)\n",
    "print('1~100에서 3의 배수의 합계: %d' % sum)"
   ]
  },
  {
   "cell_type": "code",
   "execution_count": 12,
   "metadata": {},
   "outputs": [
    {
     "name": "stdout",
     "output_type": "stream",
     "text": [
      "끝 숫자를 입력: 100\n",
      "3 6 9 12 15 18 21 24 27 30 33 36 39 42 45 48 51 54 57 60 63 66 69 72 75 78 81 84 87 90 93 96 99 \n",
      " --------------------------------------------------\n",
      "1~100에서 3의 배수의 합계: 1683\n",
      "끝 숫자를 입력: 200\n",
      "3 6 9 12 15 18 21 24 27 30 33 36 39 42 45 48 51 54 57 60 63 66 69 72 75 78 81 84 87 90 93 96 99 102 105 108 111 114 117 120 123 126 129 132 135 138 141 144 147 150 153 156 159 162 165 168 171 174 177 180 183 186 189 192 195 198 \n",
      " --------------------------------------------------\n",
      "1~100에서 3의 배수의 합계: 6633\n",
      "끝 숫자를 입력: 300\n",
      "3 6 9 12 15 18 21 24 27 30 33 36 39 42 45 48 51 54 57 60 63 66 69 72 75 78 81 84 87 90 93 96 99 102 105 108 111 114 117 120 123 126 129 132 135 138 141 144 147 150 153 156 159 162 165 168 171 174 177 180 183 186 189 192 195 198 201 204 207 210 213 216 219 222 225 228 231 234 237 240 243 246 249 252 255 258 261 264 267 270 273 276 279 282 285 288 291 294 297 \n",
      " --------------------------------------------------\n",
      "1~100에서 3의 배수의 합계: 14850\n",
      "끝 숫자를 입력: -1\n",
      "Quit....\n"
     ]
    }
   ],
   "source": [
    "while True:\n",
    "    stop = int(input('끝 숫자를 입력: '))\n",
    "    if stop == -1:\n",
    "        print('Quit....'); break\n",
    "    sum = 0\n",
    "    for i in range(1, stop):\n",
    "        if i % 3 == 0:\n",
    "            print('%d' % i, end=' ')\n",
    "            sum += i\n",
    "    print('\\n','-' * 50)\n",
    "    print('1~100에서 3의 배수의 합계: %d' % sum)"
   ]
  },
  {
   "cell_type": "code",
   "execution_count": 16,
   "metadata": {},
   "outputs": [
    {
     "name": "stdout",
     "output_type": "stream",
     "text": [
      "$를 입력하세요: 10\n",
      "--------------------\n",
      "달러($)  원화(\\)\n",
      "--------------------\n",
      "  10       11000\n",
      "--------------------\n",
      "$를 입력하세요: 20\n",
      "--------------------\n",
      "달러($)  원화(\\)\n",
      "--------------------\n",
      "  20       22000\n",
      "--------------------\n",
      "$를 입력하세요: 3\n",
      "--------------------\n",
      "달러($)  원화(\\)\n",
      "--------------------\n",
      "  3       3300\n",
      "--------------------\n",
      "$를 입력하세요: -1\n",
      "프로그램 종료\n"
     ]
    }
   ],
   "source": [
    "while True:\n",
    "    money = int(input( '$를 입력하세요: '))\n",
    "    if money == -1:\n",
    "        print('프로그램 종료')\n",
    "        break\n",
    "    print('-'* 20)\n",
    "    print('달러($)  원화(\\)')\n",
    "    print('-'* 20)\n",
    "    print('  %d       %d' % (money, money * 1100))\n",
    "    print('-'*20)"
   ]
  },
  {
   "cell_type": "markdown",
   "metadata": {},
   "source": [
    "### 문자열"
   ]
  },
  {
   "cell_type": "code",
   "execution_count": 17,
   "metadata": {},
   "outputs": [
    {
     "data": {
      "text/plain": [
       "5"
      ]
     },
     "execution_count": 17,
     "metadata": {},
     "output_type": "execute_result"
    }
   ],
   "source": [
    "len('안녕하세요')"
   ]
  },
  {
   "cell_type": "code",
   "execution_count": 19,
   "metadata": {},
   "outputs": [
    {
     "data": {
      "text/plain": [
       "'안녕'"
      ]
     },
     "execution_count": 19,
     "metadata": {},
     "output_type": "execute_result"
    }
   ],
   "source": [
    "msg = '안녕하세요'\n",
    "msg[:2]"
   ]
  },
  {
   "cell_type": "markdown",
   "metadata": {},
   "source": [
    "for s in range(), '문자열'... #iterable object"
   ]
  },
  {
   "cell_type": "code",
   "execution_count": 20,
   "metadata": {},
   "outputs": [
    {
     "name": "stdout",
     "output_type": "stream",
     "text": [
      "안\n",
      "녕\n",
      "하\n",
      "세\n",
      "요\n"
     ]
    }
   ],
   "source": [
    "for s in msg:\n",
    "    print(s)"
   ]
  },
  {
   "cell_type": "markdown",
   "metadata": {},
   "source": [
    "for 반복문으로 단위환산표"
   ]
  },
  {
   "cell_type": "code",
   "execution_count": 33,
   "metadata": {},
   "outputs": [
    {
     "name": "stdout",
     "output_type": "stream",
     "text": [
      "------------------------------\n",
      "    섭씨    화씨\n",
      "------------------------------\n",
      "    -20    -4.0\n",
      "    -15     5.0\n",
      "    -10    14.0\n",
      "     -5    23.0\n",
      "      0    32.0\n",
      "      5    41.0\n",
      "     10    50.0\n",
      "     15    59.0\n",
      "     20    68.0\n",
      "     25    77.0\n",
      "     30    86.0\n",
      "------------------------------\n"
     ]
    }
   ],
   "source": [
    "print('-' * 30)\n",
    "print('    섭씨    화씨')\n",
    "print('-' * 30)\n",
    "for c in range(-20, 31, 5):\n",
    "    f = c * 9.0/ 5.0 + 32.0\n",
    "    print('%7d  %6.1f'%(c,f))\n",
    "print('-' * 30)"
   ]
  },
  {
   "cell_type": "code",
   "execution_count": 48,
   "metadata": {},
   "outputs": [
    {
     "name": "stdout",
     "output_type": "stream",
     "text": [
      "처음 수를 입력하시오: 100\n",
      "마지막 수를 입력하시오: 200\n",
      "5의 배수가 아닌 수의 합:  62850\n"
     ]
    },
    {
     "ename": "SyntaxError",
     "evalue": "'break' outside loop (<ipython-input-48-d527e0d67101>, line 8)",
     "output_type": "error",
     "traceback": [
      "\u001b[1;36m  File \u001b[1;32m\"<ipython-input-48-d527e0d67101>\"\u001b[1;36m, line \u001b[1;32m8\u001b[0m\n\u001b[1;33m    break\u001b[0m\n\u001b[1;37m    ^\u001b[0m\n\u001b[1;31mSyntaxError\u001b[0m\u001b[1;31m:\u001b[0m 'break' outside loop\n"
     ]
    }
   ],
   "source": [
    "n1 = int(input('처음 수를 입력하시오: '))\n",
    "n2 = int(input('마지막 수를 입력하시오: '))\n",
    "\n",
    "for i in range(n1, n2+1):\n",
    "    if i % 5 != 0:\n",
    "         sum += i\n",
    "print('5의 배수가 아닌 수의 합: ', sum)"
   ]
  },
  {
   "cell_type": "code",
   "execution_count": 49,
   "metadata": {},
   "outputs": [
    {
     "name": "stdout",
     "output_type": "stream",
     "text": [
      "처음 수를 입력하시오: 100\n",
      "마지막 수를 입력하시오: 200\n",
      "5의 배수가 아닌 수의 합:  74850\n"
     ]
    }
   ],
   "source": [
    "n1 = int(input('처음 수를 입력하시오: '))\n",
    "n2 = int(input('마지막 수를 입력하시오: '))\n",
    "\n",
    "for i in range(n1, n2+1):\n",
    "    if i % 5 != 0:\n",
    "         sum += i\n",
    "print('5의 배수가 아닌 수의 합: ', sum)"
   ]
  },
  {
   "cell_type": "code",
   "execution_count": 58,
   "metadata": {},
   "outputs": [
    {
     "name": "stdout",
     "output_type": "stream",
     "text": [
      "(-)을 포함한 전화번호 입력123-132-132\n",
      "123132132"
     ]
    }
   ],
   "source": [
    "num = input('(-)을 포함한 전화번호 입력')\n",
    "\n",
    "for x in num:\n",
    "    if x != '-':\n",
    "        print('%s' % x, end=\"\")"
   ]
  },
  {
   "cell_type": "code",
   "execution_count": 59,
   "metadata": {},
   "outputs": [
    {
     "name": "stdout",
     "output_type": "stream",
     "text": [
      "(-)을 포함한 전화번호 입력123-123-123\n",
      "['123', '123', '123']\n"
     ]
    },
    {
     "ename": "NameError",
     "evalue": "name 'join' is not defined",
     "output_type": "error",
     "traceback": [
      "\u001b[1;31m---------------------------------------------------------------------------\u001b[0m",
      "\u001b[1;31mNameError\u001b[0m                                 Traceback (most recent call last)",
      "\u001b[1;32m<ipython-input-59-4003965cfd80>\u001b[0m in \u001b[0;36m<module>\u001b[1;34m\u001b[0m\n\u001b[0;32m      4\u001b[0m \u001b[1;32melse\u001b[0m\u001b[1;33m:\u001b[0m\u001b[1;33m\u001b[0m\u001b[1;33m\u001b[0m\u001b[0m\n\u001b[0;32m      5\u001b[0m     \u001b[0mprint\u001b[0m\u001b[1;33m(\u001b[0m\u001b[0mnum\u001b[0m\u001b[1;33m.\u001b[0m\u001b[0msplit\u001b[0m\u001b[1;33m(\u001b[0m\u001b[1;34m'-'\u001b[0m\u001b[1;33m)\u001b[0m\u001b[1;33m)\u001b[0m\u001b[1;33m\u001b[0m\u001b[1;33m\u001b[0m\u001b[0m\n\u001b[1;32m----> 6\u001b[1;33m     \u001b[0mprint\u001b[0m\u001b[1;33m(\u001b[0m\u001b[1;34m\"\"\u001b[0m\u001b[1;33m,\u001b[0m \u001b[0mjoin\u001b[0m\u001b[1;33m(\u001b[0m\u001b[0mnum\u001b[0m\u001b[1;33m.\u001b[0m\u001b[0msplit\u001b[0m\u001b[1;33m(\u001b[0m\u001b[1;34m'-'\u001b[0m\u001b[1;33m)\u001b[0m\u001b[1;33m)\u001b[0m\u001b[1;33m)\u001b[0m\u001b[1;33m\u001b[0m\u001b[1;33m\u001b[0m\u001b[0m\n\u001b[0m",
      "\u001b[1;31mNameError\u001b[0m: name 'join' is not defined"
     ]
    }
   ],
   "source": [
    "num = input('(-)을 포함한 전화번호 입력')\n",
    "if not num:\n",
    "    print('전화번호를 입력해야 한다')\n",
    "else:\n",
    "    print(num.split('-'))\n",
    "    print(\"\", join(num.split('-')))"
   ]
  },
  {
   "cell_type": "code",
   "execution_count": 62,
   "metadata": {},
   "outputs": [
    {
     "name": "stdout",
     "output_type": "stream",
     "text": [
      "(-)을 뺀 11자리 전화번호 입력01031824758\n"
     ]
    },
    {
     "data": {
      "text/plain": [
       "'010-3182-4758'"
      ]
     },
     "execution_count": 62,
     "metadata": {},
     "output_type": "execute_result"
    }
   ],
   "source": [
    "phone = input('(-)을 뺀 11자리 전화번호 입력')\n",
    "\n",
    "phone[:3]+'-'+ phone[3:7]+ '-'+ phone[7:len(phone)]"
   ]
  },
  {
   "cell_type": "markdown",
   "metadata": {},
   "source": [
    "#### 인덱스를 사용해 위 전화번호를 역으로 출력"
   ]
  },
  {
   "cell_type": "code",
   "execution_count": 69,
   "metadata": {},
   "outputs": [
    {
     "ename": "SyntaxError",
     "evalue": "invalid syntax (<ipython-input-69-873cc1cbdc70>, line 4)",
     "output_type": "error",
     "traceback": [
      "\u001b[1;36m  File \u001b[1;32m\"<ipython-input-69-873cc1cbdc70>\"\u001b[1;36m, line \u001b[1;32m4\u001b[0m\n\u001b[1;33m    print(phone[11-(n+=n)])\u001b[0m\n\u001b[1;37m                     ^\u001b[0m\n\u001b[1;31mSyntaxError\u001b[0m\u001b[1;31m:\u001b[0m invalid syntax\n"
     ]
    }
   ],
   "source": [
    "phone = input('(-)을 뺀 11자리 전화번호 입력')\n",
    "\n",
    "for n in phone:\n",
    "    print(phone[11-(n+=n)])"
   ]
  },
  {
   "cell_type": "code",
   "execution_count": 75,
   "metadata": {},
   "outputs": [
    {
     "name": "stdout",
     "output_type": "stream",
     "text": [
      "--------------------------------------------------\n",
      "2 x 1 = 2\n",
      "2 x 2 = 4\n",
      "2 x 3 = 6\n",
      "2 x 4 = 8\n",
      "2 x 5 = 10\n",
      "2 x 6 = 12\n",
      "2 x 7 = 14\n",
      "2 x 8 = 16\n",
      "2 x 9 = 18\n",
      "2 x 10 = 20\n",
      "2 x 11 = 22\n",
      "2 x 12 = 24\n",
      "2 x 13 = 26\n",
      "2 x 14 = 28\n",
      "2 x 15 = 30\n",
      "2 x 16 = 32\n",
      "2 x 17 = 34\n",
      "2 x 18 = 36\n",
      "2 x 19 = 38\n",
      "--------------------------------------------------\n",
      "3 x 1 = 3\n",
      "3 x 2 = 6\n",
      "3 x 3 = 9\n",
      "3 x 4 = 12\n",
      "3 x 5 = 15\n",
      "3 x 6 = 18\n",
      "3 x 7 = 21\n",
      "3 x 8 = 24\n",
      "3 x 9 = 27\n",
      "3 x 10 = 30\n",
      "3 x 11 = 33\n",
      "3 x 12 = 36\n",
      "3 x 13 = 39\n",
      "3 x 14 = 42\n",
      "3 x 15 = 45\n",
      "3 x 16 = 48\n",
      "3 x 17 = 51\n",
      "3 x 18 = 54\n",
      "3 x 19 = 57\n",
      "--------------------------------------------------\n",
      "4 x 1 = 4\n",
      "4 x 2 = 8\n",
      "4 x 3 = 12\n",
      "4 x 4 = 16\n",
      "4 x 5 = 20\n",
      "4 x 6 = 24\n",
      "4 x 7 = 28\n",
      "4 x 8 = 32\n",
      "4 x 9 = 36\n",
      "4 x 10 = 40\n",
      "4 x 11 = 44\n",
      "4 x 12 = 48\n",
      "4 x 13 = 52\n",
      "4 x 14 = 56\n",
      "4 x 15 = 60\n",
      "4 x 16 = 64\n",
      "4 x 17 = 68\n",
      "4 x 18 = 72\n",
      "4 x 19 = 76\n",
      "--------------------------------------------------\n",
      "5 x 1 = 5\n",
      "5 x 2 = 10\n",
      "5 x 3 = 15\n",
      "5 x 4 = 20\n",
      "5 x 5 = 25\n",
      "5 x 6 = 30\n",
      "5 x 7 = 35\n",
      "5 x 8 = 40\n",
      "5 x 9 = 45\n",
      "5 x 10 = 50\n",
      "5 x 11 = 55\n",
      "5 x 12 = 60\n",
      "5 x 13 = 65\n",
      "5 x 14 = 70\n",
      "5 x 15 = 75\n",
      "5 x 16 = 80\n",
      "5 x 17 = 85\n",
      "5 x 18 = 90\n",
      "5 x 19 = 95\n",
      "--------------------------------------------------\n",
      "6 x 1 = 6\n",
      "6 x 2 = 12\n",
      "6 x 3 = 18\n",
      "6 x 4 = 24\n",
      "6 x 5 = 30\n",
      "6 x 6 = 36\n",
      "6 x 7 = 42\n",
      "6 x 8 = 48\n",
      "6 x 9 = 54\n",
      "6 x 10 = 60\n",
      "6 x 11 = 66\n",
      "6 x 12 = 72\n",
      "6 x 13 = 78\n",
      "6 x 14 = 84\n",
      "6 x 15 = 90\n",
      "6 x 16 = 96\n",
      "6 x 17 = 102\n",
      "6 x 18 = 108\n",
      "6 x 19 = 114\n",
      "--------------------------------------------------\n",
      "7 x 1 = 7\n",
      "7 x 2 = 14\n",
      "7 x 3 = 21\n",
      "7 x 4 = 28\n",
      "7 x 5 = 35\n",
      "7 x 6 = 42\n",
      "7 x 7 = 49\n",
      "7 x 8 = 56\n",
      "7 x 9 = 63\n",
      "7 x 10 = 70\n",
      "7 x 11 = 77\n",
      "7 x 12 = 84\n",
      "7 x 13 = 91\n",
      "7 x 14 = 98\n",
      "7 x 15 = 105\n",
      "7 x 16 = 112\n",
      "7 x 17 = 119\n",
      "7 x 18 = 126\n",
      "7 x 19 = 133\n",
      "--------------------------------------------------\n",
      "8 x 1 = 8\n",
      "8 x 2 = 16\n",
      "8 x 3 = 24\n",
      "8 x 4 = 32\n",
      "8 x 5 = 40\n",
      "8 x 6 = 48\n",
      "8 x 7 = 56\n",
      "8 x 8 = 64\n",
      "8 x 9 = 72\n",
      "8 x 10 = 80\n",
      "8 x 11 = 88\n",
      "8 x 12 = 96\n",
      "8 x 13 = 104\n",
      "8 x 14 = 112\n",
      "8 x 15 = 120\n",
      "8 x 16 = 128\n",
      "8 x 17 = 136\n",
      "8 x 18 = 144\n",
      "8 x 19 = 152\n",
      "--------------------------------------------------\n",
      "9 x 1 = 9\n",
      "9 x 2 = 18\n",
      "9 x 3 = 27\n",
      "9 x 4 = 36\n",
      "9 x 5 = 45\n",
      "9 x 6 = 54\n",
      "9 x 7 = 63\n",
      "9 x 8 = 72\n",
      "9 x 9 = 81\n",
      "9 x 10 = 90\n",
      "9 x 11 = 99\n",
      "9 x 12 = 108\n",
      "9 x 13 = 117\n",
      "9 x 14 = 126\n",
      "9 x 15 = 135\n",
      "9 x 16 = 144\n",
      "9 x 17 = 153\n",
      "9 x 18 = 162\n",
      "9 x 19 = 171\n",
      "--------------------------------------------------\n",
      "10 x 1 = 10\n",
      "10 x 2 = 20\n",
      "10 x 3 = 30\n",
      "10 x 4 = 40\n",
      "10 x 5 = 50\n",
      "10 x 6 = 60\n",
      "10 x 7 = 70\n",
      "10 x 8 = 80\n",
      "10 x 9 = 90\n",
      "10 x 10 = 100\n",
      "10 x 11 = 110\n",
      "10 x 12 = 120\n",
      "10 x 13 = 130\n",
      "10 x 14 = 140\n",
      "10 x 15 = 150\n",
      "10 x 16 = 160\n",
      "10 x 17 = 170\n",
      "10 x 18 = 180\n",
      "10 x 19 = 190\n",
      "--------------------------------------------------\n",
      "11 x 1 = 11\n",
      "11 x 2 = 22\n",
      "11 x 3 = 33\n",
      "11 x 4 = 44\n",
      "11 x 5 = 55\n",
      "11 x 6 = 66\n",
      "11 x 7 = 77\n",
      "11 x 8 = 88\n",
      "11 x 9 = 99\n",
      "11 x 10 = 110\n",
      "11 x 11 = 121\n",
      "11 x 12 = 132\n",
      "11 x 13 = 143\n",
      "11 x 14 = 154\n",
      "11 x 15 = 165\n",
      "11 x 16 = 176\n",
      "11 x 17 = 187\n",
      "11 x 18 = 198\n",
      "11 x 19 = 209\n",
      "--------------------------------------------------\n",
      "12 x 1 = 12\n",
      "12 x 2 = 24\n",
      "12 x 3 = 36\n",
      "12 x 4 = 48\n",
      "12 x 5 = 60\n",
      "12 x 6 = 72\n",
      "12 x 7 = 84\n",
      "12 x 8 = 96\n",
      "12 x 9 = 108\n",
      "12 x 10 = 120\n",
      "12 x 11 = 132\n",
      "12 x 12 = 144\n",
      "12 x 13 = 156\n",
      "12 x 14 = 168\n",
      "12 x 15 = 180\n",
      "12 x 16 = 192\n",
      "12 x 17 = 204\n",
      "12 x 18 = 216\n",
      "12 x 19 = 228\n",
      "--------------------------------------------------\n",
      "13 x 1 = 13\n",
      "13 x 2 = 26\n",
      "13 x 3 = 39\n",
      "13 x 4 = 52\n",
      "13 x 5 = 65\n",
      "13 x 6 = 78\n",
      "13 x 7 = 91\n",
      "13 x 8 = 104\n",
      "13 x 9 = 117\n",
      "13 x 10 = 130\n",
      "13 x 11 = 143\n",
      "13 x 12 = 156\n",
      "13 x 13 = 169\n",
      "13 x 14 = 182\n",
      "13 x 15 = 195\n",
      "13 x 16 = 208\n",
      "13 x 17 = 221\n",
      "13 x 18 = 234\n",
      "13 x 19 = 247\n",
      "--------------------------------------------------\n",
      "14 x 1 = 14\n",
      "14 x 2 = 28\n",
      "14 x 3 = 42\n",
      "14 x 4 = 56\n",
      "14 x 5 = 70\n",
      "14 x 6 = 84\n",
      "14 x 7 = 98\n",
      "14 x 8 = 112\n",
      "14 x 9 = 126\n",
      "14 x 10 = 140\n",
      "14 x 11 = 154\n",
      "14 x 12 = 168\n",
      "14 x 13 = 182\n",
      "14 x 14 = 196\n",
      "14 x 15 = 210\n",
      "14 x 16 = 224\n",
      "14 x 17 = 238\n",
      "14 x 18 = 252\n",
      "14 x 19 = 266\n",
      "--------------------------------------------------\n",
      "15 x 1 = 15\n",
      "15 x 2 = 30\n",
      "15 x 3 = 45\n",
      "15 x 4 = 60\n",
      "15 x 5 = 75\n",
      "15 x 6 = 90\n",
      "15 x 7 = 105\n",
      "15 x 8 = 120\n",
      "15 x 9 = 135\n",
      "15 x 10 = 150\n",
      "15 x 11 = 165\n",
      "15 x 12 = 180\n",
      "15 x 13 = 195\n",
      "15 x 14 = 210\n",
      "15 x 15 = 225\n",
      "15 x 16 = 240\n",
      "15 x 17 = 255\n",
      "15 x 18 = 270\n",
      "15 x 19 = 285\n",
      "--------------------------------------------------\n",
      "16 x 1 = 16\n",
      "16 x 2 = 32\n",
      "16 x 3 = 48\n",
      "16 x 4 = 64\n",
      "16 x 5 = 80\n",
      "16 x 6 = 96\n",
      "16 x 7 = 112\n",
      "16 x 8 = 128\n",
      "16 x 9 = 144\n",
      "16 x 10 = 160\n",
      "16 x 11 = 176\n",
      "16 x 12 = 192\n",
      "16 x 13 = 208\n",
      "16 x 14 = 224\n",
      "16 x 15 = 240\n",
      "16 x 16 = 256\n",
      "16 x 17 = 272\n",
      "16 x 18 = 288\n",
      "16 x 19 = 304\n",
      "--------------------------------------------------\n",
      "17 x 1 = 17\n",
      "17 x 2 = 34\n",
      "17 x 3 = 51\n",
      "17 x 4 = 68\n",
      "17 x 5 = 85\n",
      "17 x 6 = 102\n",
      "17 x 7 = 119\n",
      "17 x 8 = 136\n",
      "17 x 9 = 153\n",
      "17 x 10 = 170\n",
      "17 x 11 = 187\n",
      "17 x 12 = 204\n",
      "17 x 13 = 221\n",
      "17 x 14 = 238\n",
      "17 x 15 = 255\n",
      "17 x 16 = 272\n",
      "17 x 17 = 289\n",
      "17 x 18 = 306\n",
      "17 x 19 = 323\n",
      "--------------------------------------------------\n",
      "18 x 1 = 18\n",
      "18 x 2 = 36\n",
      "18 x 3 = 54\n",
      "18 x 4 = 72\n",
      "18 x 5 = 90\n",
      "18 x 6 = 108\n",
      "18 x 7 = 126\n",
      "18 x 8 = 144\n",
      "18 x 9 = 162\n",
      "18 x 10 = 180\n",
      "18 x 11 = 198\n",
      "18 x 12 = 216\n",
      "18 x 13 = 234\n",
      "18 x 14 = 252\n",
      "18 x 15 = 270\n",
      "18 x 16 = 288\n",
      "18 x 17 = 306\n",
      "18 x 18 = 324\n",
      "18 x 19 = 342\n",
      "--------------------------------------------------\n",
      "19 x 1 = 19\n",
      "19 x 2 = 38\n",
      "19 x 3 = 57\n",
      "19 x 4 = 76\n",
      "19 x 5 = 95\n",
      "19 x 6 = 114\n",
      "19 x 7 = 133\n",
      "19 x 8 = 152\n",
      "19 x 9 = 171\n",
      "19 x 10 = 190\n",
      "19 x 11 = 209\n",
      "19 x 12 = 228\n",
      "19 x 13 = 247\n",
      "19 x 14 = 266\n",
      "19 x 15 = 285\n",
      "19 x 16 = 304\n",
      "19 x 17 = 323\n",
      "19 x 18 = 342\n",
      "19 x 19 = 361\n",
      "--------------------------------------------------\n"
     ]
    }
   ],
   "source": [
    "print('-'* 50)\n",
    "\n",
    "for a in range(2, 20):\n",
    "    for b in range(1, 20):\n",
    "        c = a * b\n",
    "        print('%d x %d = %d' %(a, b, c))\n",
    "    print('-' * 50)"
   ]
  },
  {
   "cell_type": "code",
   "execution_count": 82,
   "metadata": {},
   "outputs": [
    {
     "name": "stdout",
     "output_type": "stream",
     "text": [
      "원하는 구구단을 입력하시오: 3\n",
      "--------------------------------------------------\n",
      "3 x 1 = 3\n",
      "3 x 2 = 6\n",
      "3 x 3 = 9\n",
      "3 x 4 = 12\n",
      "3 x 5 = 15\n",
      "3 x 6 = 18\n",
      "3 x 7 = 21\n",
      "3 x 8 = 24\n",
      "3 x 9 = 27\n",
      "--------------------------------------------------\n"
     ]
    }
   ],
   "source": [
    "number = int(input('원하는 구구단을 입력하시오: '))\n",
    "print('-'* 50)\n",
    "\n",
    "\n",
    "for b in range(1, 10):\n",
    "    c = number * b\n",
    "    print('%d x %d = %d' %(number, b, c))\n",
    "print('-' * 50)"
   ]
  },
  {
   "cell_type": "code",
   "execution_count": 92,
   "metadata": {},
   "outputs": [
    {
     "name": "stdout",
     "output_type": "stream",
     "text": [
      "*\n",
      "**\n",
      "***\n",
      "****\n",
      "*****\n",
      "******\n",
      "*******\n",
      "********\n",
      "*********\n",
      "**********\n"
     ]
    }
   ],
   "source": [
    "for data in range(1, 11):\n",
    "    for i in range(1, data+1):\n",
    "        print('*', end=\"\")\n",
    "    print()"
   ]
  },
  {
   "cell_type": "code",
   "execution_count": 105,
   "metadata": {},
   "outputs": [
    {
     "name": "stdout",
     "output_type": "stream",
     "text": [
      "         *\n",
      "        **\n",
      "       ***\n",
      "      ****\n",
      "     *****\n",
      "    ******\n",
      "   *******\n",
      "  ********\n",
      " *********\n",
      "**********\n"
     ]
    }
   ],
   "source": [
    "for i in range(1, 11):\n",
    "    for j in range(1, 10-i+1):\n",
    "        print(' ', end=\"\")\n",
    "    for k in range(1, i+1):\n",
    "        print('*', end=\"\")\n",
    "    print()"
   ]
  },
  {
   "cell_type": "code",
   "execution_count": 107,
   "metadata": {},
   "outputs": [
    {
     "name": "stdout",
     "output_type": "stream",
     "text": [
      "------------------------------\n",
      "   섭씨   화씨\n",
      "------------------------------\n",
      "     -20     -4.0\n",
      "     -19     -2.2\n",
      "     -18     -0.4\n",
      "     -17      1.4\n",
      "     -16      3.2\n",
      "     -15      5.0\n",
      "     -14      6.8\n",
      "     -13      8.6\n",
      "     -12     10.4\n",
      "     -11     12.2\n",
      "     -10     14.0\n",
      "      -9     15.8\n",
      "      -8     17.6\n",
      "      -7     19.4\n",
      "      -6     21.2\n",
      "      -5     23.0\n",
      "      -4     24.8\n",
      "      -3     26.6\n",
      "      -2     28.4\n",
      "      -1     30.2\n",
      "       0     32.0\n",
      "       1     33.8\n",
      "       2     35.6\n",
      "       3     37.4\n",
      "       4     39.2\n",
      "       5     41.0\n",
      "       6     42.8\n",
      "       7     44.6\n",
      "       8     46.4\n",
      "       9     48.2\n",
      "      10     50.0\n",
      "      11     51.8\n",
      "      12     53.6\n",
      "      13     55.4\n",
      "      14     57.2\n",
      "      15     59.0\n",
      "      16     60.8\n",
      "      17     62.6\n",
      "      18     64.4\n",
      "      19     66.2\n",
      "      20     68.0\n",
      "      21     69.8\n",
      "      22     71.6\n",
      "      23     73.4\n",
      "      24     75.2\n",
      "      25     77.0\n",
      "      26     78.8\n",
      "      27     80.6\n",
      "      28     82.4\n",
      "      29     84.2\n",
      "      30     86.0\n",
      "      31     87.8\n",
      "      32     89.6\n",
      "      33     91.4\n",
      "      34     93.2\n",
      "      35     95.0\n",
      "      36     96.8\n",
      "      37     98.6\n",
      "      38    100.4\n",
      "      39    102.2\n",
      "      40    104.0\n",
      "------------------------------\n"
     ]
    }
   ],
   "source": [
    "print('-'*30)\n",
    "print('   섭씨   화씨')\n",
    "print('-'*30)\n",
    "\n",
    "c = -20\n",
    "while c <= 40:\n",
    "    F = c*9.0/5.0+32.0\n",
    "    print('%8d %8.1f' %(c, F))\n",
    "    \n",
    "    c += 1\n",
    "    \n",
    "print('-'*30)"
   ]
  },
  {
   "cell_type": "code",
   "execution_count": 110,
   "metadata": {},
   "outputs": [
    {
     "name": "stdout",
     "output_type": "stream",
     "text": [
      "영어문장을 입력하시오we are the champion\n",
      "모음:eaeeaio\n",
      "모음의 개수: 7\n"
     ]
    }
   ],
   "source": [
    "s = input('영어문장을 입력하시오')\n",
    "\n",
    "i = 0\n",
    "count = 0\n",
    "\n",
    "print('모음:', end=\"\")\n",
    "\n",
    "while i <= len(s)-1:\n",
    "    if(s[i] == 'a' or s[i] == 'A' or s[i] == 'e' or s[i] == 'E'\n",
    "      or s[i] == 'i' or s[i] == 'I' or s[i] == 'o' or s[i] == 'O'\n",
    "      or s[i] == 'u' or s[i] == 'U'):\n",
    "        count += 1\n",
    "        print(s[i], end='')\n",
    "    \n",
    "    i += 1\n",
    "print(\"\\n모음의 개수: %d\" % count)"
   ]
  },
  {
   "cell_type": "code",
   "execution_count": 116,
   "metadata": {},
   "outputs": [
    {
     "name": "stdout",
     "output_type": "stream",
     "text": [
      "영어문장을 입력하시오: We are the Champion\n",
      "모음:We are the Champion\n",
      "모음의 개수: 19\n"
     ]
    }
   ],
   "source": [
    "s = input('영어문장을 입력하시오: ')\n",
    "\n",
    "i = 0\n",
    "count = 0\n",
    "\n",
    "print('모음:', end=\"\")\n",
    "\n",
    "while i <= len(s)-1:\n",
    "    if(s[i] .upper == 'A' or 'E' or 'I' or 'O' or 'U'):\n",
    "        count += 1\n",
    "        print(s[i], end='')\n",
    "    \n",
    "    i += 1\n",
    "print(\"\\n모음의 개수: %d\" % count)"
   ]
  },
  {
   "cell_type": "code",
   "execution_count": 141,
   "metadata": {},
   "outputs": [
    {
     "name": "stdout",
     "output_type": "stream",
     "text": [
      "* * * * * * * * * * * \n",
      "* * * * * * * * * * * \n",
      "* * * * * * * * * * * \n",
      "* * * * * * * * * * * \n",
      "* * * * * * * * * * * \n",
      "* * * * * * * * * * *"
     ]
    }
   ],
   "source": [
    "for j in range(11):\n",
    "    if j % 2 ==0:\n",
    "        for i in range(21):\n",
    "            if i % 2 == 0:\n",
    "                print('*', end='')\n",
    "            else:\n",
    "                print(' ', end='')\n",
    "    else:\n",
    "        print(' ')"
   ]
  },
  {
   "cell_type": "code",
   "execution_count": 143,
   "metadata": {},
   "outputs": [
    {
     "name": "stdout",
     "output_type": "stream",
     "text": [
      "* * * * * * * * * * * "
     ]
    }
   ],
   "source": [
    "i = 0\n",
    "while i <= 21:\n",
    "    if i % 2 == 0:\n",
    "        print('*', end='')\n",
    "    else:\n",
    "        print(' ', end='')\n",
    "    i += 1\n",
    "print()    "
   ]
  },
  {
   "cell_type": "code",
   "execution_count": 144,
   "metadata": {},
   "outputs": [
    {
     "data": {
      "text/plain": [
       "['사과', '오렌지', '수박']"
      ]
     },
     "execution_count": 144,
     "metadata": {},
     "output_type": "execute_result"
    }
   ],
   "source": [
    "fruits = ['사과','오렌지','수박']\n",
    "fruits"
   ]
  },
  {
   "cell_type": "code",
   "execution_count": 146,
   "metadata": {},
   "outputs": [
    {
     "data": {
      "text/plain": [
       "'수박'"
      ]
     },
     "execution_count": 146,
     "metadata": {},
     "output_type": "execute_result"
    }
   ],
   "source": [
    "fruits[2]"
   ]
  },
  {
   "cell_type": "code",
   "execution_count": 148,
   "metadata": {},
   "outputs": [
    {
     "data": {
      "text/plain": [
       "['사과', '오렌지']"
      ]
     },
     "execution_count": 148,
     "metadata": {},
     "output_type": "execute_result"
    }
   ],
   "source": [
    "fruits[:2]"
   ]
  },
  {
   "cell_type": "code",
   "execution_count": 149,
   "metadata": {},
   "outputs": [
    {
     "data": {
      "text/plain": [
       "3"
      ]
     },
     "execution_count": 149,
     "metadata": {},
     "output_type": "execute_result"
    }
   ],
   "source": [
    "len(fruits)"
   ]
  },
  {
   "cell_type": "code",
   "execution_count": null,
   "metadata": {},
   "outputs": [],
   "source": []
  }
 ],
 "metadata": {
  "kernelspec": {
   "display_name": "Python 3",
   "language": "python",
   "name": "python3"
  },
  "language_info": {
   "codemirror_mode": {
    "name": "ipython",
    "version": 3
   },
   "file_extension": ".py",
   "mimetype": "text/x-python",
   "name": "python",
   "nbconvert_exporter": "python",
   "pygments_lexer": "ipython3",
   "version": "3.8.5"
  }
 },
 "nbformat": 4,
 "nbformat_minor": 4
}
