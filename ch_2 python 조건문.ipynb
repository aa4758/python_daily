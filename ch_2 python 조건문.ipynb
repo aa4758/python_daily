{
 "cells": [
  {
   "cell_type": "markdown",
   "metadata": {},
   "source": [
    "# 조건문\n",
    "\n",
    "조건:\n",
    "\n",
    "- True, False 판단\n",
    "- ~보다 크나, 작나, 같으나, ....\n",
    "    - 조건/비교/관계 연산자:\n",
    "        - `<,>,>=, <=, ==, != `"
   ]
  },
  {
   "cell_type": "code",
   "execution_count": 4,
   "metadata": {},
   "outputs": [
    {
     "name": "stdout",
     "output_type": "stream",
     "text": [
      "A가 크네\n"
     ]
    }
   ],
   "source": [
    "a = 100\n",
    "b = 10\n",
    "\n",
    "if a > b :\n",
    "    print(\"A가 크네\")\n",
    "else :\n",
    "    print(\"A가 작네\")"
   ]
  },
  {
   "cell_type": "code",
   "execution_count": 13,
   "metadata": {},
   "outputs": [
    {
     "name": "stdout",
     "output_type": "stream",
     "text": [
      "A가 크네\n"
     ]
    }
   ],
   "source": [
    "if (a > b) & (b > 5) :\n",
    "    print(\"A가 크네\")\n",
    "else :\n",
    "    print(\"A가 작네\")"
   ]
  },
  {
   "cell_type": "code",
   "execution_count": 21,
   "metadata": {},
   "outputs": [
    {
     "name": "stdout",
     "output_type": "stream",
     "text": [
      "A가 크네\n"
     ]
    }
   ],
   "source": [
    "if (a > b) or (a < b) :\n",
    "    print(\"A가 크네\")\n",
    "else :\n",
    "    print(\"A가 작네\")"
   ]
  },
  {
   "cell_type": "code",
   "execution_count": 18,
   "metadata": {},
   "outputs": [
    {
     "name": "stdout",
     "output_type": "stream",
     "text": [
      "A가 작네\n"
     ]
    }
   ],
   "source": [
    "if not(a > b) :\n",
    "    print(\"A가 크네\")\n",
    "else :\n",
    "    print(\"A가 작네\")"
   ]
  },
  {
   "cell_type": "code",
   "execution_count": 22,
   "metadata": {},
   "outputs": [
    {
     "data": {
      "text/plain": [
       "True"
      ]
     },
     "execution_count": 22,
     "metadata": {},
     "output_type": "execute_result"
    }
   ],
   "source": [
    "not False"
   ]
  },
  {
   "cell_type": "markdown",
   "metadata": {},
   "source": [
    "### 문)\n",
    "\n",
    "입력된 숫자가 양수이고 100보다 작으면 \"작다\"\n",
    "- 100보다 크면 \"크다\"를 출력"
   ]
  },
  {
   "cell_type": "code",
   "execution_count": 27,
   "metadata": {},
   "outputs": [
    {
     "name": "stdout",
     "output_type": "stream",
     "text": [
      "숫자를 입력하시오: 98\n",
      "작다\n"
     ]
    }
   ],
   "source": [
    "num = int(input(\"숫자를 입력하시오: \"))\n",
    "if num > 100 or num > 0 :\n",
    "    print(\"양수이고, 크다\")\n",
    "else :\n",
    "    print(\"작다\")"
   ]
  },
  {
   "cell_type": "code",
   "execution_count": 28,
   "metadata": {},
   "outputs": [
    {
     "name": "stdout",
     "output_type": "stream",
     "text": [
      "숫자를 입력하시오: 66\n",
      "무료\n"
     ]
    }
   ],
   "source": [
    "num = int(input(\"숫자를 입력하시오: \"))\n",
    "if num >= 65 or num < 7 :\n",
    "    print(\"무료\")\n",
    "else :\n",
    "    print(\"유료\")"
   ]
  },
  {
   "cell_type": "code",
   "execution_count": 40,
   "metadata": {},
   "outputs": [
    {
     "name": "stdout",
     "output_type": "stream",
     "text": [
      "이름을 입력하시오:\n",
      "이름 쓰라고 빠가야\n"
     ]
    }
   ],
   "source": [
    "name = input('이름을 입력하시오:')\n",
    "\n",
    "if not name :\n",
    "    print('이름 쓰라고 빠가야')\n",
    "else :\n",
    "    print('어서오세요 %s 용사여' % (name))"
   ]
  },
  {
   "cell_type": "code",
   "execution_count": 38,
   "metadata": {},
   "outputs": [
    {
     "name": "stdout",
     "output_type": "stream",
     "text": [
      "True\n"
     ]
    }
   ],
   "source": [
    "a = 10\n",
    "print(\"True\") if a == 10 else print (\"False\")"
   ]
  },
  {
   "cell_type": "code",
   "execution_count": 39,
   "metadata": {},
   "outputs": [
    {
     "name": "stdout",
     "output_type": "stream",
     "text": [
      "True\n"
     ]
    }
   ],
   "source": [
    "if a == 10 :\n",
    "    print(\"True\")\n",
    "else :\n",
    "    print(\"False\")"
   ]
  },
  {
   "cell_type": "code",
   "execution_count": 45,
   "metadata": {},
   "outputs": [
    {
     "name": "stdout",
     "output_type": "stream",
     "text": [
      "점수를 입력하세요:60\n",
      "?\n"
     ]
    }
   ],
   "source": [
    "score = int(input('점수를 입력하세요:'))\n",
    "\n",
    "if score >= 90:\n",
    "    print('개똑똑하네')\n",
    "elif score >= 80:\n",
    "    print('잘봄')\n",
    "elif score >= 70:\n",
    "    print('잘하자')\n",
    "else :\n",
    "    print('?')"
   ]
  },
  {
   "cell_type": "code",
   "execution_count": null,
   "metadata": {},
   "outputs": [],
   "source": []
  }
 ],
 "metadata": {
  "kernelspec": {
   "display_name": "Python 3",
   "language": "python",
   "name": "python3"
  },
  "language_info": {
   "codemirror_mode": {
    "name": "ipython",
    "version": 3
   },
   "file_extension": ".py",
   "mimetype": "text/x-python",
   "name": "python",
   "nbconvert_exporter": "python",
   "pygments_lexer": "ipython3",
   "version": "3.8.5"
  }
 },
 "nbformat": 4,
 "nbformat_minor": 4
}
